{
 "cells": [
  {
   "cell_type": "code",
   "execution_count": 1,
   "id": "808f1f47",
   "metadata": {},
   "outputs": [],
   "source": [
    "A=5"
   ]
  },
  {
   "cell_type": "code",
   "execution_count": 2,
   "id": "439906ae",
   "metadata": {},
   "outputs": [],
   "source": [
    "a=7"
   ]
  },
  {
   "cell_type": "code",
   "execution_count": 3,
   "id": "bfc0c69c",
   "metadata": {},
   "outputs": [
    {
     "name": "stdout",
     "output_type": "stream",
     "text": [
      "5\n"
     ]
    }
   ],
   "source": [
    "print(A)\n"
   ]
  },
  {
   "cell_type": "code",
   "execution_count": 4,
   "id": "26576ed8",
   "metadata": {},
   "outputs": [
    {
     "name": "stdout",
     "output_type": "stream",
     "text": [
      "7\n"
     ]
    }
   ],
   "source": [
    "print(a)"
   ]
  },
  {
   "cell_type": "code",
   "execution_count": 5,
   "id": "f788e98e",
   "metadata": {},
   "outputs": [],
   "source": [
    "name=\"Maitreyee\""
   ]
  },
  {
   "cell_type": "code",
   "execution_count": 6,
   "id": "9a8d4f11",
   "metadata": {},
   "outputs": [
    {
     "name": "stdout",
     "output_type": "stream",
     "text": [
      "Maitreyee\n"
     ]
    }
   ],
   "source": [
    "print(name)"
   ]
  },
  {
   "cell_type": "code",
   "execution_count": 7,
   "id": "9bbb5b59",
   "metadata": {},
   "outputs": [
    {
     "data": {
      "text/plain": [
       "str"
      ]
     },
     "execution_count": 7,
     "metadata": {},
     "output_type": "execute_result"
    }
   ],
   "source": [
    "type(name)"
   ]
  },
  {
   "cell_type": "code",
   "execution_count": 8,
   "id": "1530e7dc",
   "metadata": {},
   "outputs": [],
   "source": [
    "age=42"
   ]
  },
  {
   "cell_type": "code",
   "execution_count": 9,
   "id": "249f9fcc",
   "metadata": {},
   "outputs": [
    {
     "data": {
      "text/plain": [
       "int"
      ]
     },
     "execution_count": 9,
     "metadata": {},
     "output_type": "execute_result"
    }
   ],
   "source": [
    "type(age)"
   ]
  },
  {
   "cell_type": "code",
   "execution_count": 10,
   "id": "ee665d1f",
   "metadata": {},
   "outputs": [],
   "source": [
    "height=4.8"
   ]
  },
  {
   "cell_type": "code",
   "execution_count": 11,
   "id": "ce3c9418",
   "metadata": {},
   "outputs": [
    {
     "data": {
      "text/plain": [
       "float"
      ]
     },
     "execution_count": 11,
     "metadata": {},
     "output_type": "execute_result"
    }
   ],
   "source": [
    "type(height)"
   ]
  },
  {
   "cell_type": "code",
   "execution_count": 12,
   "id": "6c250600",
   "metadata": {},
   "outputs": [],
   "source": [
    "married=False"
   ]
  },
  {
   "cell_type": "code",
   "execution_count": 13,
   "id": "6c2db39a",
   "metadata": {},
   "outputs": [
    {
     "data": {
      "text/plain": [
       "bool"
      ]
     },
     "execution_count": 13,
     "metadata": {},
     "output_type": "execute_result"
    }
   ],
   "source": [
    "type(married)"
   ]
  },
  {
   "cell_type": "code",
   "execution_count": 14,
   "id": "864b50c1",
   "metadata": {},
   "outputs": [],
   "source": [
    "height_rounded=int(height)"
   ]
  },
  {
   "cell_type": "code",
   "execution_count": 15,
   "id": "780d0366",
   "metadata": {},
   "outputs": [
    {
     "name": "stdout",
     "output_type": "stream",
     "text": [
      "4\n"
     ]
    }
   ],
   "source": [
    "print(height_rounded)"
   ]
  },
  {
   "cell_type": "code",
   "execution_count": 16,
   "id": "0216ec10",
   "metadata": {},
   "outputs": [],
   "source": [
    "my_ssn='1234'"
   ]
  },
  {
   "cell_type": "code",
   "execution_count": 17,
   "id": "1b0f1b9d",
   "metadata": {},
   "outputs": [],
   "source": [
    "my_ssn_conv=int(my_ssn) + 2"
   ]
  },
  {
   "cell_type": "code",
   "execution_count": 18,
   "id": "7f3baa93",
   "metadata": {},
   "outputs": [
    {
     "name": "stdout",
     "output_type": "stream",
     "text": [
      "1234\n"
     ]
    }
   ],
   "source": [
    "print(my_ssn)"
   ]
  },
  {
   "cell_type": "code",
   "execution_count": 19,
   "id": "6ad00932",
   "metadata": {},
   "outputs": [
    {
     "name": "stdout",
     "output_type": "stream",
     "text": [
      "1236\n"
     ]
    }
   ],
   "source": [
    "print(my_ssn_conv)"
   ]
  },
  {
   "cell_type": "code",
   "execution_count": 20,
   "id": "df5e0cbe",
   "metadata": {},
   "outputs": [],
   "source": [
    "a=15\n",
    "b=8\n",
    "c=15.5\n",
    "s='Hello'"
   ]
  },
  {
   "cell_type": "code",
   "execution_count": 21,
   "id": "c4050323",
   "metadata": {},
   "outputs": [
    {
     "data": {
      "text/plain": [
       "23"
      ]
     },
     "execution_count": 21,
     "metadata": {},
     "output_type": "execute_result"
    }
   ],
   "source": [
    "a+b"
   ]
  },
  {
   "cell_type": "code",
   "execution_count": 22,
   "id": "cdcf911f",
   "metadata": {},
   "outputs": [
    {
     "data": {
      "text/plain": [
       "7"
      ]
     },
     "execution_count": 22,
     "metadata": {},
     "output_type": "execute_result"
    }
   ],
   "source": [
    "a-b"
   ]
  },
  {
   "cell_type": "code",
   "execution_count": 23,
   "id": "41a6e0cc",
   "metadata": {},
   "outputs": [
    {
     "name": "stdout",
     "output_type": "stream",
     "text": [
      "23\n"
     ]
    }
   ],
   "source": [
    "print(a+b)"
   ]
  },
  {
   "cell_type": "code",
   "execution_count": 24,
   "id": "0a2a6883",
   "metadata": {},
   "outputs": [
    {
     "name": "stdout",
     "output_type": "stream",
     "text": [
      "7\n"
     ]
    }
   ],
   "source": [
    "print(a-b)"
   ]
  },
  {
   "cell_type": "code",
   "execution_count": 25,
   "id": "c53ada81",
   "metadata": {},
   "outputs": [
    {
     "name": "stdout",
     "output_type": "stream",
     "text": [
      "120\n"
     ]
    }
   ],
   "source": [
    "print(a*b)"
   ]
  },
  {
   "cell_type": "code",
   "execution_count": 26,
   "id": "c4f3189f",
   "metadata": {},
   "outputs": [
    {
     "name": "stdout",
     "output_type": "stream",
     "text": [
      "232.5\n"
     ]
    }
   ],
   "source": [
    "print(a*c)"
   ]
  },
  {
   "cell_type": "code",
   "execution_count": 27,
   "id": "a9194e3a",
   "metadata": {},
   "outputs": [
    {
     "name": "stdout",
     "output_type": "stream",
     "text": [
      "1.875\n"
     ]
    }
   ],
   "source": [
    "print(a/b)"
   ]
  },
  {
   "cell_type": "code",
   "execution_count": 28,
   "id": "644e4bdd",
   "metadata": {},
   "outputs": [
    {
     "name": "stdout",
     "output_type": "stream",
     "text": [
      "0.967741935483871\n"
     ]
    }
   ],
   "source": [
    "print(a/c)"
   ]
  },
  {
   "cell_type": "code",
   "execution_count": 29,
   "id": "530cb8e9",
   "metadata": {},
   "outputs": [
    {
     "name": "stdout",
     "output_type": "stream",
     "text": [
      "7\n"
     ]
    }
   ],
   "source": [
    "print(a%b)"
   ]
  },
  {
   "cell_type": "code",
   "execution_count": 30,
   "id": "14b93988",
   "metadata": {},
   "outputs": [
    {
     "name": "stdout",
     "output_type": "stream",
     "text": [
      "8\n"
     ]
    }
   ],
   "source": [
    "print(b%a)"
   ]
  },
  {
   "cell_type": "code",
   "execution_count": 31,
   "id": "056415df",
   "metadata": {},
   "outputs": [
    {
     "name": "stdout",
     "output_type": "stream",
     "text": [
      "1\n"
     ]
    }
   ],
   "source": [
    "print(a//b)"
   ]
  },
  {
   "cell_type": "code",
   "execution_count": 32,
   "id": "6bcf7ff2",
   "metadata": {},
   "outputs": [
    {
     "name": "stdout",
     "output_type": "stream",
     "text": [
      "0\n"
     ]
    }
   ],
   "source": [
    "print(b//a)"
   ]
  },
  {
   "cell_type": "code",
   "execution_count": 33,
   "id": "7f1d722d",
   "metadata": {},
   "outputs": [
    {
     "name": "stdout",
     "output_type": "stream",
     "text": [
      "False\n"
     ]
    }
   ],
   "source": [
    "print(a==b)"
   ]
  },
  {
   "cell_type": "code",
   "execution_count": 34,
   "id": "7188e673",
   "metadata": {},
   "outputs": [
    {
     "name": "stdout",
     "output_type": "stream",
     "text": [
      "True\n"
     ]
    }
   ],
   "source": [
    "print((1 == 1) and (2 == 2))"
   ]
  },
  {
   "cell_type": "code",
   "execution_count": 35,
   "id": "0121fc58",
   "metadata": {},
   "outputs": [
    {
     "name": "stdout",
     "output_type": "stream",
     "text": [
      "True\n"
     ]
    }
   ],
   "source": [
    "print((1==1) or ((2>4) or (4==4)))"
   ]
  },
  {
   "cell_type": "code",
   "execution_count": 36,
   "id": "74bb6e28",
   "metadata": {},
   "outputs": [],
   "source": [
    "x=1"
   ]
  },
  {
   "cell_type": "code",
   "execution_count": 37,
   "id": "c8c6a609",
   "metadata": {},
   "outputs": [
    {
     "name": "stdout",
     "output_type": "stream",
     "text": [
      "The condition is true\n"
     ]
    }
   ],
   "source": [
    "if(x==1):\n",
    "    print('The condition is true')    "
   ]
  },
  {
   "cell_type": "code",
   "execution_count": 38,
   "id": "54b815bb",
   "metadata": {},
   "outputs": [],
   "source": [
    "if(x==3):\n",
    "    print('The condition is false , but it doesn''t matter..as it won''t be printed')"
   ]
  },
  {
   "cell_type": "markdown",
   "id": "5f238a24",
   "metadata": {},
   "source": []
  },
  {
   "cell_type": "code",
   "execution_count": 39,
   "id": "e55a2dc1",
   "metadata": {},
   "outputs": [
    {
     "name": "stdout",
     "output_type": "stream",
     "text": [
      "None true\n"
     ]
    }
   ],
   "source": [
    "a=5\n",
    "b=10\n",
    "if(a>b):\n",
    "    print('Both greater than 10')\n",
    "elif((a>5) and (b>5)):\n",
    "    print('both greater than 5')\n",
    "else:\n",
    "    print('None true')"
   ]
  },
  {
   "cell_type": "code",
   "execution_count": 40,
   "id": "0ca49c66",
   "metadata": {},
   "outputs": [],
   "source": [
    "##a = input()\n",
    "##a = int(a)\n",
    "\n",
    "#if(a%2 == 0):\n",
    "    #print('Even')\n",
    "#else:\n",
    "    #print('Odd')"
   ]
  },
  {
   "cell_type": "code",
   "execution_count": 41,
   "id": "2ce6a6f9",
   "metadata": {},
   "outputs": [],
   "source": [
    "#a = input()"
   ]
  },
  {
   "cell_type": "code",
   "execution_count": null,
   "id": "35b36f8f",
   "metadata": {},
   "outputs": [],
   "source": []
  },
  {
   "cell_type": "code",
   "execution_count": 42,
   "id": "7d4f32cb",
   "metadata": {},
   "outputs": [],
   "source": [
    "#a = int(a)\n",
    "\n",
    "#if(a%2 == 0):\n",
    "   # print('Even')\n",
    "#else:\n",
    "    #print('Odd')"
   ]
  },
  {
   "cell_type": "code",
   "execution_count": 43,
   "id": "f7787282",
   "metadata": {},
   "outputs": [
    {
     "name": "stdout",
     "output_type": "stream",
     "text": [
      "0\n",
      "1\n",
      "2\n",
      "3\n",
      "4\n",
      "5\n",
      "6\n",
      "7\n",
      "8\n",
      "9\n"
     ]
    }
   ],
   "source": [
    "for i in range(10):\n",
    "    print(i)"
   ]
  },
  {
   "cell_type": "code",
   "execution_count": 44,
   "id": "002b63e4",
   "metadata": {},
   "outputs": [
    {
     "name": "stdout",
     "output_type": "stream",
     "text": [
      "1\n",
      "2\n",
      "3\n",
      "4\n",
      "5\n",
      "6\n",
      "7\n",
      "8\n",
      "9\n"
     ]
    }
   ],
   "source": [
    "for i in range(1, 10):\n",
    "    print(i)"
   ]
  },
  {
   "cell_type": "code",
   "execution_count": 47,
   "id": "c970f26f",
   "metadata": {},
   "outputs": [
    {
     "name": "stdout",
     "output_type": "stream",
     "text": [
      "1\n",
      "3\n",
      "5\n",
      "7\n",
      "9\n"
     ]
    }
   ],
   "source": [
    "for i in range(1, 10, 2):\n",
    "    print(i)"
   ]
  },
  {
   "cell_type": "code",
   "execution_count": 49,
   "id": "e764ead5",
   "metadata": {},
   "outputs": [
    {
     "name": "stdout",
     "output_type": "stream",
     "text": [
      "m...a...i...t...r...e...y...e...e..."
     ]
    }
   ],
   "source": [
    "for c in ('maitreyee'):\n",
    "    print(c, end='...')\n"
   ]
  },
  {
   "cell_type": "code",
   "execution_count": 55,
   "id": "12974a74",
   "metadata": {},
   "outputs": [
    {
     "name": "stdout",
     "output_type": "stream",
     "text": [
      "1 A\n",
      "1 B\n",
      "1 C\n",
      "2 A\n",
      "2 B\n",
      "2 C\n"
     ]
    }
   ],
   "source": [
    "for outer_loop_number in range(1, 3):\n",
    "    for inner_loop_character in \"ABC\":\n",
    "        print(outer_loop_number, inner_loop_character)\n"
   ]
  },
  {
   "cell_type": "code",
   "execution_count": 56,
   "id": "5da9f435",
   "metadata": {},
   "outputs": [
    {
     "name": "stdout",
     "output_type": "stream",
     "text": [
      "0\n",
      "1\n",
      "2\n",
      "3\n",
      "4\n",
      "5\n",
      "6\n"
     ]
    }
   ],
   "source": [
    "number = 0 \n",
    "while(number<7):\n",
    "    print(number)\n",
    "    number=number+1\n"
   ]
  },
  {
   "cell_type": "code",
   "execution_count": 57,
   "id": "5a235a1b",
   "metadata": {},
   "outputs": [
    {
     "name": "stdout",
     "output_type": "stream",
     "text": [
      "0\n",
      "2\n",
      "4\n",
      "6\n"
     ]
    }
   ],
   "source": [
    "number = 0\n",
    "while(number<7):\n",
    "    print(number)\n",
    "    number=number+2"
   ]
  },
  {
   "cell_type": "code",
   "execution_count": 60,
   "id": "da74f1a7",
   "metadata": {},
   "outputs": [
    {
     "name": "stdout",
     "output_type": "stream",
     "text": [
      "Number is 0\n",
      "Number is 1\n",
      "Number is 2\n",
      "Number is 3\n",
      "Number is 4\n",
      "out of loop\n"
     ]
    }
   ],
   "source": [
    "number = 0 \n",
    "for number in range(10):\n",
    "    if (number==5):\n",
    "        break\n",
    "    print('Number is ' + str(number))\n",
    "print('out of loop')\n"
   ]
  },
  {
   "cell_type": "code",
   "execution_count": 61,
   "id": "b80f1f5a",
   "metadata": {},
   "outputs": [
    {
     "name": "stdout",
     "output_type": "stream",
     "text": [
      "Enter Password: shukla\n",
      "wrong password!!\n",
      "Enter Password: shefali\n",
      "wrong password!!\n",
      "Enter Password: kishore\n",
      "wrong password!!\n",
      "One trial left!!\n",
      "Enter Password: maitreyee\n",
      "Welcome!!\n"
     ]
    }
   ],
   "source": [
    "password='maitreyee'\n",
    "\n",
    "for trial in range(1,5):\n",
    "    if trial == 4:\n",
    "        print(\"One trial left!!\")\n",
    "        \n",
    "    enter_password = input(\"Enter Password: \")\n",
    "    \n",
    "    if enter_password == password:\n",
    "        print(\"Welcome!!\")\n",
    "        break\n",
    "    else:\n",
    "        print(\"wrong password!!\")    \n",
    "        "
   ]
  },
  {
   "cell_type": "code",
   "execution_count": 6,
   "id": "3579ffc1",
   "metadata": {},
   "outputs": [
    {
     "name": "stdout",
     "output_type": "stream",
     "text": [
      "Enter OTP: 1234\n",
      "trial# : 1 OTP is 1234 Enter again!\n",
      "Enter OTP: 2345\n",
      "trial# : 2 OTP is 2345 Enter again!\n",
      "Enter OTP: 3456\n",
      "trial# : 3 OTP is 3456 Enter again!\n",
      " trial# 4 OTP is 3456 but hey ..only one trial left!!!\n",
      "Enter OTP: 4567\n",
      "trial# : 4 OTP is 4567 Enter again!\n"
     ]
    }
   ],
   "source": [
    "OTP='3231'\n",
    "\n",
    "for trial in range(1,5):\n",
    "    if trial == 4:\n",
    "        print(\" trial# \" + str(trial) +\" OTP is \" + enter_otp + \" but hey ..only one trial left!!!\")\n",
    "   \n",
    "       \n",
    "        \n",
    "    enter_otp=input(\"Enter OTP: \")\n",
    "    \n",
    "    if((enter_otp!=OTP) and :\n",
    "        print(\"trial# : \" + str(trial) +\" OTP is \" + enter_otp + \" Enter again!\")\n",
    "    elif trial == 5:\n",
    "        print(\"Last Try ! OTP is \" + enter_otp + \"no more try allowed after this\")\n",
    "    else:\n",
    "        print(\"well done\")\n",
    "        name= input(\"Please enter your name: \")\n",
    "        city= input(\"Please enter your city: \")\n",
    "        print(name + ' lives in ' + city)\n",
    "        break  "
   ]
  },
  {
   "cell_type": "code",
   "execution_count": 1,
   "id": "f47278e7",
   "metadata": {},
   "outputs": [
    {
     "name": "stdout",
     "output_type": "stream",
     "text": [
      "number is 1\n",
      "number is 2\n",
      "number is 3\n",
      "number is 4\n",
      "out of loop\n"
     ]
    }
   ],
   "source": [
    "number = 0\n",
    "for number in range(1,5):\n",
    "    if number == 5:\n",
    "        pass\n",
    "    print(\"number is \" + str(number))\n",
    "print(\"out of loop\")"
   ]
  },
  {
   "cell_type": "code",
   "execution_count": 9,
   "id": "bedda5a8",
   "metadata": {},
   "outputs": [],
   "source": [
    "my_list=[1,2,3,4,5,6,7,8,9,10]"
   ]
  },
  {
   "cell_type": "code",
   "execution_count": 10,
   "id": "a3d59833",
   "metadata": {},
   "outputs": [
    {
     "data": {
      "text/plain": [
       "[1, 2, 3, 4, 5, 6, 7, 8, 9, 10]"
      ]
     },
     "execution_count": 10,
     "metadata": {},
     "output_type": "execute_result"
    }
   ],
   "source": [
    "my_list"
   ]
  },
  {
   "cell_type": "code",
   "execution_count": 11,
   "id": "6989390b",
   "metadata": {},
   "outputs": [],
   "source": [
    "a=my_list[1:4]"
   ]
  },
  {
   "cell_type": "code",
   "execution_count": 12,
   "id": "00e97630",
   "metadata": {},
   "outputs": [
    {
     "name": "stdout",
     "output_type": "stream",
     "text": [
      "[2, 3, 4]\n"
     ]
    }
   ],
   "source": [
    "print(a)"
   ]
  },
  {
   "cell_type": "code",
   "execution_count": 13,
   "id": "6f337b12",
   "metadata": {},
   "outputs": [
    {
     "data": {
      "text/plain": [
       "2"
      ]
     },
     "execution_count": 13,
     "metadata": {},
     "output_type": "execute_result"
    }
   ],
   "source": [
    "my_list[1]"
   ]
  },
  {
   "cell_type": "code",
   "execution_count": 14,
   "id": "01b72482",
   "metadata": {},
   "outputs": [
    {
     "data": {
      "text/plain": [
       "10"
      ]
     },
     "execution_count": 14,
     "metadata": {},
     "output_type": "execute_result"
    }
   ],
   "source": [
    "my_list[-1]"
   ]
  },
  {
   "cell_type": "code",
   "execution_count": 15,
   "id": "1dc53e72",
   "metadata": {},
   "outputs": [
    {
     "data": {
      "text/plain": [
       "[2, 3, 4]"
      ]
     },
     "execution_count": 15,
     "metadata": {},
     "output_type": "execute_result"
    }
   ],
   "source": [
    "my_list[1:4]"
   ]
  },
  {
   "cell_type": "code",
   "execution_count": 16,
   "id": "2f00bf22",
   "metadata": {},
   "outputs": [
    {
     "data": {
      "text/plain": [
       "[]"
      ]
     },
     "execution_count": 16,
     "metadata": {},
     "output_type": "execute_result"
    }
   ],
   "source": [
    "my_list[-1:-7]"
   ]
  },
  {
   "cell_type": "code",
   "execution_count": 17,
   "id": "cc71317f",
   "metadata": {},
   "outputs": [
    {
     "data": {
      "text/plain": [
       "[10]"
      ]
     },
     "execution_count": 17,
     "metadata": {},
     "output_type": "execute_result"
    }
   ],
   "source": [
    "my_list[-1:]"
   ]
  },
  {
   "cell_type": "code",
   "execution_count": 18,
   "id": "a5ec1840",
   "metadata": {},
   "outputs": [
    {
     "data": {
      "text/plain": [
       "[1, 2, 3, 4, 5, 6, 7, 8, 9]"
      ]
     },
     "execution_count": 18,
     "metadata": {},
     "output_type": "execute_result"
    }
   ],
   "source": [
    "my_list[:-1]"
   ]
  },
  {
   "cell_type": "code",
   "execution_count": 19,
   "id": "8d02cd07",
   "metadata": {},
   "outputs": [
    {
     "data": {
      "text/plain": [
       "[1, 2, 3, 4, 5, 6, 7, 8, 9, 10]"
      ]
     },
     "execution_count": 19,
     "metadata": {},
     "output_type": "execute_result"
    }
   ],
   "source": [
    "my_list[:]"
   ]
  },
  {
   "cell_type": "code",
   "execution_count": 20,
   "id": "dfe46c68",
   "metadata": {},
   "outputs": [
    {
     "data": {
      "text/plain": [
       "[1, 2, 3, 4, 5, 6, 7, 8, 9, 10]"
      ]
     },
     "execution_count": 20,
     "metadata": {},
     "output_type": "execute_result"
    }
   ],
   "source": [
    "my_list[::]"
   ]
  },
  {
   "cell_type": "code",
   "execution_count": 21,
   "id": "b7ada4fa",
   "metadata": {},
   "outputs": [
    {
     "data": {
      "text/plain": [
       "[1, 3, 5, 7, 9]"
      ]
     },
     "execution_count": 21,
     "metadata": {},
     "output_type": "execute_result"
    }
   ],
   "source": [
    "my_list[::2]"
   ]
  },
  {
   "cell_type": "code",
   "execution_count": 22,
   "id": "28cb3939",
   "metadata": {},
   "outputs": [
    {
     "data": {
      "text/plain": [
       "[3, 4, 5]"
      ]
     },
     "execution_count": 22,
     "metadata": {},
     "output_type": "execute_result"
    }
   ],
   "source": [
    "my_list[2:5:1]"
   ]
  },
  {
   "cell_type": "code",
   "execution_count": 23,
   "id": "c959d592",
   "metadata": {},
   "outputs": [
    {
     "data": {
      "text/plain": [
       "[3, 5]"
      ]
     },
     "execution_count": 23,
     "metadata": {},
     "output_type": "execute_result"
    }
   ],
   "source": [
    "my_list[2:5:2]"
   ]
  },
  {
   "cell_type": "code",
   "execution_count": 24,
   "id": "ccc4036c",
   "metadata": {},
   "outputs": [
    {
     "data": {
      "text/plain": [
       "[3, 4, 5, 6, 7, 8]"
      ]
     },
     "execution_count": 24,
     "metadata": {},
     "output_type": "execute_result"
    }
   ],
   "source": [
    "my_list[2:-2]"
   ]
  },
  {
   "cell_type": "code",
   "execution_count": 25,
   "id": "7d467725",
   "metadata": {},
   "outputs": [
    {
     "data": {
      "text/plain": [
       "[10, 9, 8, 7, 6, 5, 4, 3, 2, 1]"
      ]
     },
     "execution_count": 25,
     "metadata": {},
     "output_type": "execute_result"
    }
   ],
   "source": [
    "my_list[::-1]"
   ]
  },
  {
   "cell_type": "code",
   "execution_count": 27,
   "id": "c6061111",
   "metadata": {},
   "outputs": [],
   "source": [
    "my_list.append([12,11])"
   ]
  },
  {
   "cell_type": "code",
   "execution_count": 28,
   "id": "6eb53f3e",
   "metadata": {},
   "outputs": [
    {
     "data": {
      "text/plain": [
       "[1, 2, 3, 4, 5, 6, 7, 8, 9, 10, [12, 11]]"
      ]
     },
     "execution_count": 28,
     "metadata": {},
     "output_type": "execute_result"
    }
   ],
   "source": [
    "my_list[:]"
   ]
  },
  {
   "cell_type": "code",
   "execution_count": 30,
   "id": "82ee04e3",
   "metadata": {},
   "outputs": [],
   "source": [
    "my_list.extend([12,11])"
   ]
  },
  {
   "cell_type": "code",
   "execution_count": 31,
   "id": "c824afe5",
   "metadata": {},
   "outputs": [
    {
     "data": {
      "text/plain": [
       "[1, 2, 3, 4, 5, 6, 7, 8, 9, 10, [12, 11], 12, 11]"
      ]
     },
     "execution_count": 31,
     "metadata": {},
     "output_type": "execute_result"
    }
   ],
   "source": [
    "my_list[:]"
   ]
  },
  {
   "cell_type": "code",
   "execution_count": 32,
   "id": "f3e513c7",
   "metadata": {},
   "outputs": [],
   "source": [
    "my_list.extend([13,14])"
   ]
  },
  {
   "cell_type": "code",
   "execution_count": 33,
   "id": "08fd7d30",
   "metadata": {},
   "outputs": [
    {
     "data": {
      "text/plain": [
       "[1, 2, 3, 4, 5, 6, 7, 8, 9, 10, [12, 11], 12, 11, 13, 14]"
      ]
     },
     "execution_count": 33,
     "metadata": {},
     "output_type": "execute_result"
    }
   ],
   "source": [
    "my_list[:]"
   ]
  },
  {
   "cell_type": "code",
   "execution_count": 34,
   "id": "309b621b",
   "metadata": {},
   "outputs": [
    {
     "data": {
      "text/plain": [
       "10"
      ]
     },
     "execution_count": 34,
     "metadata": {},
     "output_type": "execute_result"
    }
   ],
   "source": [
    "my_list.index([12,11])"
   ]
  },
  {
   "cell_type": "code",
   "execution_count": null,
   "id": "1d7a4364",
   "metadata": {},
   "outputs": [],
   "source": [
    "my_list[14]"
   ]
  },
  {
   "cell_type": "code",
   "execution_count": 36,
   "id": "7fa1818d",
   "metadata": {},
   "outputs": [],
   "source": [
    "my_list.insert(4,'Eric')"
   ]
  },
  {
   "cell_type": "code",
   "execution_count": 37,
   "id": "3d1c0a27",
   "metadata": {},
   "outputs": [
    {
     "data": {
      "text/plain": [
       "[1, 2, 3, 4, 'Eric', 5, 6, 7, 8, 9, 10, [12, 11], 12, 11, 13, 14]"
      ]
     },
     "execution_count": 37,
     "metadata": {},
     "output_type": "execute_result"
    }
   ],
   "source": [
    "my_list[:]"
   ]
  },
  {
   "cell_type": "code",
   "execution_count": 38,
   "id": "81df7671",
   "metadata": {},
   "outputs": [
    {
     "data": {
      "text/plain": [
       "False"
      ]
     },
     "execution_count": 38,
     "metadata": {},
     "output_type": "execute_result"
    }
   ],
   "source": [
    "'Maitreyee' in my_list"
   ]
  },
  {
   "cell_type": "code",
   "execution_count": 39,
   "id": "36204161",
   "metadata": {},
   "outputs": [
    {
     "data": {
      "text/plain": [
       "True"
      ]
     },
     "execution_count": 39,
     "metadata": {},
     "output_type": "execute_result"
    }
   ],
   "source": [
    "'Eric' in my_list"
   ]
  },
  {
   "cell_type": "code",
   "execution_count": 40,
   "id": "8c4351fe",
   "metadata": {},
   "outputs": [
    {
     "data": {
      "text/plain": [
       "True"
      ]
     },
     "execution_count": 40,
     "metadata": {},
     "output_type": "execute_result"
    }
   ],
   "source": [
    "'Maitreyee' not in my_list"
   ]
  },
  {
   "cell_type": "code",
   "execution_count": 41,
   "id": "f5d56a0a",
   "metadata": {},
   "outputs": [],
   "source": [
    "my_list.remove(14)"
   ]
  },
  {
   "cell_type": "code",
   "execution_count": 42,
   "id": "0f7be56a",
   "metadata": {},
   "outputs": [
    {
     "data": {
      "text/plain": [
       "[1, 2, 3, 4, 'Eric', 5, 6, 7, 8, 9, 10, [12, 11], 12, 11, 13]"
      ]
     },
     "execution_count": 42,
     "metadata": {},
     "output_type": "execute_result"
    }
   ],
   "source": [
    "my_list[:]"
   ]
  },
  {
   "cell_type": "code",
   "execution_count": 43,
   "id": "7ec646ef",
   "metadata": {},
   "outputs": [],
   "source": [
    "del my_list[10]"
   ]
  },
  {
   "cell_type": "code",
   "execution_count": 44,
   "id": "c43aeba6",
   "metadata": {},
   "outputs": [
    {
     "data": {
      "text/plain": [
       "[1, 2, 3, 4, 'Eric', 5, 6, 7, 8, 9, [12, 11], 12, 11, 13]"
      ]
     },
     "execution_count": 44,
     "metadata": {},
     "output_type": "execute_result"
    }
   ],
   "source": [
    "my_list[:]"
   ]
  },
  {
   "cell_type": "code",
   "execution_count": 55,
   "id": "7a33decb",
   "metadata": {},
   "outputs": [
    {
     "name": "stdout",
     "output_type": "stream",
     "text": [
      "element# 1 is 1\n",
      "element# 2 is 2\n",
      "element# 3 is 3\n",
      "element# 4 is 4\n",
      "element# Eric is Eric\n",
      "element# 5 is 5\n",
      "element# 6 is 6\n",
      "element# 7 is 7\n",
      "element# 8 is 8\n",
      "element# 9 is 9\n",
      "element# [12, 11] is [12, 11]\n",
      "element# 12 is 12\n",
      "element# 11 is 11\n",
      "element# 13 is 13\n"
     ]
    }
   ],
   "source": [
    "for i in my_list:\n",
    "    print('element# ' + str(i) + ' is ' + str(i))"
   ]
  },
  {
   "cell_type": "code",
   "execution_count": 56,
   "id": "7a7ca1c5",
   "metadata": {},
   "outputs": [
    {
     "data": {
      "text/plain": [
       "14"
      ]
     },
     "execution_count": 56,
     "metadata": {},
     "output_type": "execute_result"
    }
   ],
   "source": [
    "len(my_list)"
   ]
  },
  {
   "cell_type": "code",
   "execution_count": 59,
   "id": "e954d107",
   "metadata": {},
   "outputs": [],
   "source": [
    "my_list.reverse()"
   ]
  },
  {
   "cell_type": "code",
   "execution_count": 60,
   "id": "42794d71",
   "metadata": {},
   "outputs": [
    {
     "data": {
      "text/plain": [
       "[1, 2, 3, 4, 'Eric', 5, 6, 7, 8, 9, [12, 11], 12, 11, 13]"
      ]
     },
     "execution_count": 60,
     "metadata": {},
     "output_type": "execute_result"
    }
   ],
   "source": [
    "my_list"
   ]
  },
  {
   "cell_type": "code",
   "execution_count": 62,
   "id": "af16a0fa",
   "metadata": {},
   "outputs": [
    {
     "ename": "TypeError",
     "evalue": "'<' not supported between instances of 'str' and 'int'",
     "output_type": "error",
     "traceback": [
      "\u001b[1;31m---------------------------------------------------------------------------\u001b[0m",
      "\u001b[1;31mTypeError\u001b[0m                                 Traceback (most recent call last)",
      "\u001b[1;32mC:\\Users\\MAITRE~1\\AppData\\Local\\Temp/ipykernel_85964/1879591915.py\u001b[0m in \u001b[0;36m<module>\u001b[1;34m\u001b[0m\n\u001b[1;32m----> 1\u001b[1;33m \u001b[0mmy_list\u001b[0m\u001b[1;33m.\u001b[0m\u001b[0msort\u001b[0m\u001b[1;33m(\u001b[0m\u001b[1;33m)\u001b[0m\u001b[1;33m\u001b[0m\u001b[1;33m\u001b[0m\u001b[0m\n\u001b[0m",
      "\u001b[1;31mTypeError\u001b[0m: '<' not supported between instances of 'str' and 'int'"
     ]
    }
   ],
   "source": [
    "my_list.sort()"
   ]
  },
  {
   "cell_type": "code",
   "execution_count": 63,
   "id": "87c0f7ed",
   "metadata": {},
   "outputs": [
    {
     "ename": "TypeError",
     "evalue": "'<' not supported between instances of 'str' and 'int'",
     "output_type": "error",
     "traceback": [
      "\u001b[1;31m---------------------------------------------------------------------------\u001b[0m",
      "\u001b[1;31mTypeError\u001b[0m                                 Traceback (most recent call last)",
      "\u001b[1;32mC:\\Users\\MAITRE~1\\AppData\\Local\\Temp/ipykernel_85964/2994717615.py\u001b[0m in \u001b[0;36m<module>\u001b[1;34m\u001b[0m\n\u001b[1;32m----> 1\u001b[1;33m \u001b[0msorted\u001b[0m\u001b[1;33m(\u001b[0m\u001b[0mmy_list\u001b[0m\u001b[1;33m)\u001b[0m\u001b[1;33m\u001b[0m\u001b[1;33m\u001b[0m\u001b[0m\n\u001b[0m",
      "\u001b[1;31mTypeError\u001b[0m: '<' not supported between instances of 'str' and 'int'"
     ]
    }
   ],
   "source": [
    "sorted(my_list)"
   ]
  },
  {
   "cell_type": "code",
   "execution_count": 69,
   "id": "e4a9f2ec",
   "metadata": {},
   "outputs": [],
   "source": [
    "sample_list = [10, 20, 40, 30]"
   ]
  },
  {
   "cell_type": "code",
   "execution_count": 70,
   "id": "0855e19a",
   "metadata": {},
   "outputs": [
    {
     "data": {
      "text/plain": [
       "[10, 20, 40, 30]"
      ]
     },
     "execution_count": 70,
     "metadata": {},
     "output_type": "execute_result"
    }
   ],
   "source": [
    "sample_list"
   ]
  },
  {
   "cell_type": "code",
   "execution_count": 67,
   "id": "e818c33b",
   "metadata": {},
   "outputs": [],
   "source": [
    "sample_list.sort()"
   ]
  },
  {
   "cell_type": "code",
   "execution_count": 71,
   "id": "0d5a784f",
   "metadata": {},
   "outputs": [
    {
     "data": {
      "text/plain": [
       "[10, 20, 30, 40]"
      ]
     },
     "execution_count": 71,
     "metadata": {},
     "output_type": "execute_result"
    }
   ],
   "source": [
    "sorted(sample_list)"
   ]
  },
  {
   "cell_type": "code",
   "execution_count": 72,
   "id": "c0e86b52",
   "metadata": {},
   "outputs": [],
   "source": [
    "nest=[1,2,[1,2,1],['A','B','C'],'W',['A','A','A']]"
   ]
  },
  {
   "cell_type": "code",
   "execution_count": 73,
   "id": "6d565b22",
   "metadata": {},
   "outputs": [
    {
     "data": {
      "text/plain": [
       "[1, 2, [1, 2, 1], ['A', 'B', 'C'], 'W', ['A', 'A', 'A']]"
      ]
     },
     "execution_count": 73,
     "metadata": {},
     "output_type": "execute_result"
    }
   ],
   "source": [
    "nest"
   ]
  },
  {
   "cell_type": "code",
   "execution_count": 74,
   "id": "a61f22f0",
   "metadata": {},
   "outputs": [
    {
     "data": {
      "text/plain": [
       "6"
      ]
     },
     "execution_count": 74,
     "metadata": {},
     "output_type": "execute_result"
    }
   ],
   "source": [
    "len(nest)"
   ]
  },
  {
   "cell_type": "code",
   "execution_count": 75,
   "id": "ebffd490",
   "metadata": {},
   "outputs": [
    {
     "data": {
      "text/plain": [
       "2"
      ]
     },
     "execution_count": 75,
     "metadata": {},
     "output_type": "execute_result"
    }
   ],
   "source": [
    "nest[2][1]"
   ]
  },
  {
   "cell_type": "code",
   "execution_count": 76,
   "id": "942e6033",
   "metadata": {},
   "outputs": [
    {
     "data": {
      "text/plain": [
       "'C'"
      ]
     },
     "execution_count": 76,
     "metadata": {},
     "output_type": "execute_result"
    }
   ],
   "source": [
    "nest[-3][-1]"
   ]
  },
  {
   "cell_type": "code",
   "execution_count": 77,
   "id": "a2bc0a3a",
   "metadata": {},
   "outputs": [],
   "source": [
    "student_marks = [\n",
    "                ['Name',  ['A','B','C','D','E']], ['Ankit',  [41, 34, 45, 55, 63]],['Aravind',[42, 23, 34, 44, 53]], ['Lakshay',[32, 23, 13, 54, 67]],\n",
    "                 ['Gyan',   [23, 82, 23, 63, 34]], ['Pranav', [21, 23, 25, 56, 56]]\n",
    "                ]"
   ]
  },
  {
   "cell_type": "code",
   "execution_count": 78,
   "id": "e00fc355",
   "metadata": {},
   "outputs": [
    {
     "data": {
      "text/plain": [
       "['A', 'B', 'C', 'D', 'E']"
      ]
     },
     "execution_count": 78,
     "metadata": {},
     "output_type": "execute_result"
    }
   ],
   "source": [
    "student_marks[0][1]"
   ]
  },
  {
   "cell_type": "code",
   "execution_count": 79,
   "id": "ff628c91",
   "metadata": {},
   "outputs": [
    {
     "data": {
      "text/plain": [
       "[41, 34, 45, 55, 63]"
      ]
     },
     "execution_count": 79,
     "metadata": {},
     "output_type": "execute_result"
    }
   ],
   "source": [
    "student_marks[1][1]"
   ]
  },
  {
   "cell_type": "code",
   "execution_count": 104,
   "id": "17e6a0fb",
   "metadata": {},
   "outputs": [
    {
     "name": "stdout",
     "output_type": "stream",
     "text": [
      "Ankit\n",
      "34\n",
      "[[34, 'Ankit']]\n",
      "Aravind\n",
      "23\n",
      "[[34, 'Ankit'], [23, 'Aravind']]\n",
      "Lakshay\n",
      "23\n",
      "[[34, 'Ankit'], [23, 'Aravind'], [23, 'Lakshay']]\n",
      "Gyan\n",
      "82\n",
      "[[34, 'Ankit'], [23, 'Aravind'], [23, 'Lakshay'], [82, 'Gyan']]\n",
      "Pranav\n",
      "23\n",
      "[[34, 'Ankit'], [23, 'Aravind'], [23, 'Lakshay'], [82, 'Gyan'], [23, 'Pranav']]\n"
     ]
    }
   ],
   "source": [
    "score_B = []\n",
    "for students in student_marks[1:]:\n",
    "    name=students[0]\n",
    "    print(name)\n",
    "    marks_in_B = students[1][1]\n",
    "    print(marks_in_B)\n",
    "    score_B.append([marks_in_B,name,])\n",
    "    print(score_B)"
   ]
  },
  {
   "cell_type": "code",
   "execution_count": 105,
   "id": "6dd36813",
   "metadata": {},
   "outputs": [
    {
     "data": {
      "text/plain": [
       "[[34, 'Ankit'], [23, 'Aravind'], [23, 'Lakshay'], [82, 'Gyan'], [23, 'Pranav']]"
      ]
     },
     "execution_count": 105,
     "metadata": {},
     "output_type": "execute_result"
    }
   ],
   "source": [
    "score_B"
   ]
  },
  {
   "cell_type": "code",
   "execution_count": 106,
   "id": "cfb6730c",
   "metadata": {},
   "outputs": [
    {
     "data": {
      "text/plain": [
       "[[23, 'Aravind'], [23, 'Lakshay'], [23, 'Pranav'], [34, 'Ankit'], [82, 'Gyan']]"
      ]
     },
     "execution_count": 106,
     "metadata": {},
     "output_type": "execute_result"
    }
   ],
   "source": [
    "sorted(score_B)"
   ]
  },
  {
   "cell_type": "code",
   "execution_count": 107,
   "id": "385ec983",
   "metadata": {},
   "outputs": [
    {
     "data": {
      "text/plain": [
       "'Gyan'"
      ]
     },
     "execution_count": 107,
     "metadata": {},
     "output_type": "execute_result"
    }
   ],
   "source": [
    "sorted(score_B)[-1][1]"
   ]
  },
  {
   "cell_type": "code",
   "execution_count": 108,
   "id": "84976b4e",
   "metadata": {},
   "outputs": [],
   "source": [
    "my_tuple = ('A','B','C','D','E',1,'D')"
   ]
  },
  {
   "cell_type": "code",
   "execution_count": 109,
   "id": "526f3dc2",
   "metadata": {},
   "outputs": [
    {
     "data": {
      "text/plain": [
       "('A', 'B', 'C', 'D', 'E', 1, 'D')"
      ]
     },
     "execution_count": 109,
     "metadata": {},
     "output_type": "execute_result"
    }
   ],
   "source": [
    "my_tuple"
   ]
  },
  {
   "cell_type": "code",
   "execution_count": 111,
   "id": "29bcadcf",
   "metadata": {},
   "outputs": [
    {
     "data": {
      "text/plain": [
       "'C'"
      ]
     },
     "execution_count": 111,
     "metadata": {},
     "output_type": "execute_result"
    }
   ],
   "source": [
    "my_tuple[2]"
   ]
  },
  {
   "cell_type": "code",
   "execution_count": 112,
   "id": "a81df6bd",
   "metadata": {},
   "outputs": [
    {
     "data": {
      "text/plain": [
       "7"
      ]
     },
     "execution_count": 112,
     "metadata": {},
     "output_type": "execute_result"
    }
   ],
   "source": [
    "len(my_tuple)"
   ]
  },
  {
   "cell_type": "code",
   "execution_count": 113,
   "id": "862d7591",
   "metadata": {},
   "outputs": [
    {
     "data": {
      "text/plain": [
       "4"
      ]
     },
     "execution_count": 113,
     "metadata": {},
     "output_type": "execute_result"
    }
   ],
   "source": [
    "my_tuple.index('E')"
   ]
  },
  {
   "cell_type": "code",
   "execution_count": 114,
   "id": "d9dd1f96",
   "metadata": {},
   "outputs": [
    {
     "data": {
      "text/plain": [
       "2"
      ]
     },
     "execution_count": 114,
     "metadata": {},
     "output_type": "execute_result"
    }
   ],
   "source": [
    "my_tuple.count('D')"
   ]
  },
  {
   "cell_type": "code",
   "execution_count": 115,
   "id": "6250c4b1",
   "metadata": {},
   "outputs": [
    {
     "name": "stdout",
     "output_type": "stream",
     "text": [
      "A\n",
      "B\n",
      "C\n",
      "D\n",
      "E\n",
      "1\n",
      "D\n"
     ]
    }
   ],
   "source": [
    "for element in my_tuple:\n",
    "    print(element)"
   ]
  },
  {
   "cell_type": "code",
   "execution_count": 116,
   "id": "17df37eb",
   "metadata": {},
   "outputs": [
    {
     "data": {
      "text/plain": [
       "('D', 'E', 1, 'D')"
      ]
     },
     "execution_count": 116,
     "metadata": {},
     "output_type": "execute_result"
    }
   ],
   "source": [
    "my_tuple[3:]"
   ]
  },
  {
   "cell_type": "code",
   "execution_count": 117,
   "id": "a5c5812e",
   "metadata": {},
   "outputs": [
    {
     "data": {
      "text/plain": [
       "('A', 'B', 'C')"
      ]
     },
     "execution_count": 117,
     "metadata": {},
     "output_type": "execute_result"
    }
   ],
   "source": [
    "my_tuple[:3]"
   ]
  },
  {
   "cell_type": "code",
   "execution_count": 123,
   "id": "888e9af2",
   "metadata": {},
   "outputs": [
    {
     "data": {
      "text/plain": [
       "1"
      ]
     },
     "execution_count": 123,
     "metadata": {},
     "output_type": "execute_result"
    }
   ],
   "source": [
    "my_tuple[3:5].count('D')"
   ]
  },
  {
   "cell_type": "code",
   "execution_count": 126,
   "id": "f56c8791",
   "metadata": {},
   "outputs": [
    {
     "data": {
      "text/plain": [
       "0"
      ]
     },
     "execution_count": 126,
     "metadata": {},
     "output_type": "execute_result"
    }
   ],
   "source": [
    "my_tuple[1:4].index('B')"
   ]
  },
  {
   "cell_type": "code",
   "execution_count": 127,
   "id": "67d43968",
   "metadata": {},
   "outputs": [],
   "source": [
    "my_set={'A','B','C','D',1,'E',2,4}"
   ]
  },
  {
   "cell_type": "code",
   "execution_count": 128,
   "id": "1ec1ba5f",
   "metadata": {},
   "outputs": [
    {
     "data": {
      "text/plain": [
       "{1, 2, 4, 'A', 'B', 'C', 'D', 'E'}"
      ]
     },
     "execution_count": 128,
     "metadata": {},
     "output_type": "execute_result"
    }
   ],
   "source": [
    "my_set"
   ]
  },
  {
   "cell_type": "code",
   "execution_count": 129,
   "id": "526d4ca4",
   "metadata": {},
   "outputs": [],
   "source": [
    "my_set={'A','B','C','D',1,'E',2,4,2,2}"
   ]
  },
  {
   "cell_type": "code",
   "execution_count": 130,
   "id": "6324d990",
   "metadata": {},
   "outputs": [
    {
     "data": {
      "text/plain": [
       "{1, 2, 4, 'A', 'B', 'C', 'D', 'E'}"
      ]
     },
     "execution_count": 130,
     "metadata": {},
     "output_type": "execute_result"
    }
   ],
   "source": [
    "my_set"
   ]
  },
  {
   "cell_type": "code",
   "execution_count": 131,
   "id": "b746efce",
   "metadata": {},
   "outputs": [],
   "source": [
    "my_list=['A','B',1,2,'B','A']"
   ]
  },
  {
   "cell_type": "code",
   "execution_count": 132,
   "id": "006fe6b6",
   "metadata": {},
   "outputs": [],
   "source": [
    "my_set_from_list=set(my_list)"
   ]
  },
  {
   "cell_type": "code",
   "execution_count": 133,
   "id": "c09151c8",
   "metadata": {},
   "outputs": [
    {
     "data": {
      "text/plain": [
       "{1, 2, 'A', 'B'}"
      ]
     },
     "execution_count": 133,
     "metadata": {},
     "output_type": "execute_result"
    }
   ],
   "source": [
    "my_set_from_list"
   ]
  },
  {
   "cell_type": "code",
   "execution_count": 134,
   "id": "60aebf7e",
   "metadata": {},
   "outputs": [],
   "source": [
    "my_tuple= ('A','B',1,2,'B','A')"
   ]
  },
  {
   "cell_type": "code",
   "execution_count": 135,
   "id": "01a09d80",
   "metadata": {},
   "outputs": [],
   "source": [
    "my_set_from_tuple = set(my_tuple)"
   ]
  },
  {
   "cell_type": "code",
   "execution_count": 136,
   "id": "71e7e777",
   "metadata": {},
   "outputs": [
    {
     "data": {
      "text/plain": [
       "{1, 2, 'A', 'B'}"
      ]
     },
     "execution_count": 136,
     "metadata": {},
     "output_type": "execute_result"
    }
   ],
   "source": [
    "my_set_from_tuple"
   ]
  },
  {
   "cell_type": "code",
   "execution_count": 137,
   "id": "c5c8e60f",
   "metadata": {},
   "outputs": [],
   "source": [
    "my_set.add('O')"
   ]
  },
  {
   "cell_type": "code",
   "execution_count": 138,
   "id": "3550ac81",
   "metadata": {},
   "outputs": [
    {
     "data": {
      "text/plain": [
       "{1, 2, 4, 'A', 'B', 'C', 'D', 'E', 'O'}"
      ]
     },
     "execution_count": 138,
     "metadata": {},
     "output_type": "execute_result"
    }
   ],
   "source": [
    "my_set"
   ]
  },
  {
   "cell_type": "code",
   "execution_count": 139,
   "id": "8e4c854d",
   "metadata": {},
   "outputs": [],
   "source": [
    "my_set.discard('A')"
   ]
  },
  {
   "cell_type": "code",
   "execution_count": 140,
   "id": "75fc7275",
   "metadata": {},
   "outputs": [
    {
     "data": {
      "text/plain": [
       "{1, 2, 4, 'B', 'C', 'D', 'E', 'O'}"
      ]
     },
     "execution_count": 140,
     "metadata": {},
     "output_type": "execute_result"
    }
   ],
   "source": [
    "my_set"
   ]
  },
  {
   "cell_type": "code",
   "execution_count": 141,
   "id": "37bc1ebc",
   "metadata": {},
   "outputs": [],
   "source": [
    "my_set.discard('X')"
   ]
  },
  {
   "cell_type": "code",
   "execution_count": 142,
   "id": "2bd2894f",
   "metadata": {},
   "outputs": [
    {
     "ename": "KeyError",
     "evalue": "'X'",
     "output_type": "error",
     "traceback": [
      "\u001b[1;31m---------------------------------------------------------------------------\u001b[0m",
      "\u001b[1;31mKeyError\u001b[0m                                  Traceback (most recent call last)",
      "\u001b[1;32mC:\\Users\\MAITRE~1\\AppData\\Local\\Temp/ipykernel_85964/1600051858.py\u001b[0m in \u001b[0;36m<module>\u001b[1;34m\u001b[0m\n\u001b[1;32m----> 1\u001b[1;33m \u001b[0mmy_set\u001b[0m\u001b[1;33m.\u001b[0m\u001b[0mremove\u001b[0m\u001b[1;33m(\u001b[0m\u001b[1;34m'X'\u001b[0m\u001b[1;33m)\u001b[0m\u001b[1;33m\u001b[0m\u001b[1;33m\u001b[0m\u001b[0m\n\u001b[0m",
      "\u001b[1;31mKeyError\u001b[0m: 'X'"
     ]
    }
   ],
   "source": [
    "my_set.remove('X')"
   ]
  },
  {
   "cell_type": "code",
   "execution_count": 145,
   "id": "234ec9d0",
   "metadata": {},
   "outputs": [],
   "source": [
    "set_A = {1, 2, 4, 'B', 'C', 'D', 'E', 'O'}"
   ]
  },
  {
   "cell_type": "code",
   "execution_count": 144,
   "id": "0240ee4f",
   "metadata": {},
   "outputs": [],
   "source": [
    "set_B = {1, 2, 'A', 'B'}"
   ]
  },
  {
   "cell_type": "code",
   "execution_count": 146,
   "id": "7a239bc5",
   "metadata": {},
   "outputs": [
    {
     "data": {
      "text/plain": [
       "{4, 'C', 'D', 'E', 'O'}"
      ]
     },
     "execution_count": 146,
     "metadata": {},
     "output_type": "execute_result"
    }
   ],
   "source": [
    "set_A.difference(set_B)"
   ]
  },
  {
   "cell_type": "code",
   "execution_count": 147,
   "id": "04cd8e9b",
   "metadata": {},
   "outputs": [
    {
     "data": {
      "text/plain": [
       "{'A'}"
      ]
     },
     "execution_count": 147,
     "metadata": {},
     "output_type": "execute_result"
    }
   ],
   "source": [
    "set_B.difference(set_A)"
   ]
  },
  {
   "cell_type": "code",
   "execution_count": 149,
   "id": "d24b9c9d",
   "metadata": {},
   "outputs": [],
   "source": [
    "set_A.difference_update(set_B)"
   ]
  },
  {
   "cell_type": "code",
   "execution_count": 150,
   "id": "2ed5ca98",
   "metadata": {},
   "outputs": [
    {
     "data": {
      "text/plain": [
       "{1, 2, 'A', 'B'}"
      ]
     },
     "execution_count": 150,
     "metadata": {},
     "output_type": "execute_result"
    }
   ],
   "source": [
    "set_B"
   ]
  },
  {
   "cell_type": "code",
   "execution_count": 151,
   "id": "8ed90869",
   "metadata": {},
   "outputs": [],
   "source": [
    "set_A = {1, 2, 4, 'B', 'C', 'D', 'E', 'O'}"
   ]
  },
  {
   "cell_type": "code",
   "execution_count": 152,
   "id": "87643746",
   "metadata": {},
   "outputs": [],
   "source": [
    "set_B = {1, 2, 'A', 'B'}"
   ]
  },
  {
   "cell_type": "code",
   "execution_count": 153,
   "id": "850ff8c5",
   "metadata": {},
   "outputs": [
    {
     "data": {
      "text/plain": [
       "{1, 2, 'B'}"
      ]
     },
     "execution_count": 153,
     "metadata": {},
     "output_type": "execute_result"
    }
   ],
   "source": [
    "set_A.intersection(set_B)"
   ]
  },
  {
   "cell_type": "code",
   "execution_count": 154,
   "id": "8ff074eb",
   "metadata": {},
   "outputs": [],
   "source": [
    "set_A.intersection_update(set_B)"
   ]
  },
  {
   "cell_type": "code",
   "execution_count": 155,
   "id": "ad1796b6",
   "metadata": {},
   "outputs": [
    {
     "data": {
      "text/plain": [
       "{1, 2, 'B'}"
      ]
     },
     "execution_count": 155,
     "metadata": {},
     "output_type": "execute_result"
    }
   ],
   "source": [
    "set_A"
   ]
  },
  {
   "cell_type": "code",
   "execution_count": 156,
   "id": "dbf1f8a3",
   "metadata": {},
   "outputs": [],
   "source": [
    "set_A = {1, 2, 4, 'B', 'C', 'D', 'E', 'O'}"
   ]
  },
  {
   "cell_type": "code",
   "execution_count": 157,
   "id": "5ad8a42c",
   "metadata": {},
   "outputs": [],
   "source": [
    "set_B = {1, 2, 'A', 'B'}"
   ]
  },
  {
   "cell_type": "code",
   "execution_count": 158,
   "id": "26e8cef5",
   "metadata": {},
   "outputs": [
    {
     "data": {
      "text/plain": [
       "False"
      ]
     },
     "execution_count": 158,
     "metadata": {},
     "output_type": "execute_result"
    }
   ],
   "source": [
    "set_A.isdisjoint(set_B)"
   ]
  },
  {
   "cell_type": "code",
   "execution_count": 159,
   "id": "8def29d7",
   "metadata": {},
   "outputs": [
    {
     "data": {
      "text/plain": [
       "False"
      ]
     },
     "execution_count": 159,
     "metadata": {},
     "output_type": "execute_result"
    }
   ],
   "source": [
    "set_A.issubset(set_B)"
   ]
  },
  {
   "cell_type": "code",
   "execution_count": 160,
   "id": "6b334fcd",
   "metadata": {},
   "outputs": [
    {
     "data": {
      "text/plain": [
       "False"
      ]
     },
     "execution_count": 160,
     "metadata": {},
     "output_type": "execute_result"
    }
   ],
   "source": [
    "set_A.issuperset(set_B)"
   ]
  },
  {
   "cell_type": "code",
   "execution_count": 161,
   "id": "fb470fcc",
   "metadata": {},
   "outputs": [
    {
     "data": {
      "text/plain": [
       "{1, 2, 4, 'A', 'B', 'C', 'D', 'E', 'O'}"
      ]
     },
     "execution_count": 161,
     "metadata": {},
     "output_type": "execute_result"
    }
   ],
   "source": [
    "set_A.union(set_B)"
   ]
  },
  {
   "cell_type": "code",
   "execution_count": 162,
   "id": "7ca348e6",
   "metadata": {},
   "outputs": [],
   "source": [
    "set_A.update('P','Q','R')"
   ]
  },
  {
   "cell_type": "code",
   "execution_count": 163,
   "id": "76ac77c2",
   "metadata": {},
   "outputs": [
    {
     "data": {
      "text/plain": [
       "{1, 2, 4, 'B', 'C', 'D', 'E', 'O', 'P', 'Q', 'R'}"
      ]
     },
     "execution_count": 163,
     "metadata": {},
     "output_type": "execute_result"
    }
   ],
   "source": [
    "set_A"
   ]
  },
  {
   "cell_type": "code",
   "execution_count": 165,
   "id": "bb5bd99a",
   "metadata": {},
   "outputs": [],
   "source": [
    "my_dictionary = {'name' : 'Maitreyee'\n",
    "                ,'age' : 22\n",
    "                ,'roll_no' : 'CSE100'\n",
    "                ,'percentage' : 85\n",
    "                ,'attendance': 74\n",
    "                ,'city' : 'Gurgaon'\n",
    "                ,'country' : 'India'\n",
    "                }"
   ]
  },
  {
   "cell_type": "code",
   "execution_count": 166,
   "id": "28173540",
   "metadata": {},
   "outputs": [
    {
     "data": {
      "text/plain": [
       "{'name': 'Maitreyee',\n",
       " 'age': 22,\n",
       " 'roll_no': 'CSE100',\n",
       " 'percentage': 85,\n",
       " 'attendance': 74,\n",
       " 'city': 'Gurgaon',\n",
       " 'country': 'India'}"
      ]
     },
     "execution_count": 166,
     "metadata": {},
     "output_type": "execute_result"
    }
   ],
   "source": [
    "my_dictionary"
   ]
  },
  {
   "cell_type": "code",
   "execution_count": 167,
   "id": "a2ce827a",
   "metadata": {},
   "outputs": [
    {
     "data": {
      "text/plain": [
       "'Maitreyee'"
      ]
     },
     "execution_count": 167,
     "metadata": {},
     "output_type": "execute_result"
    }
   ],
   "source": [
    "my_dictionary['name']"
   ]
  },
  {
   "cell_type": "code",
   "execution_count": 168,
   "id": "be2435b3",
   "metadata": {},
   "outputs": [
    {
     "name": "stdout",
     "output_type": "stream",
     "text": [
      "22\n"
     ]
    }
   ],
   "source": [
    "print(my_dictionary['age'])"
   ]
  },
  {
   "cell_type": "code",
   "execution_count": 169,
   "id": "aba88761",
   "metadata": {},
   "outputs": [],
   "source": [
    "my_dictionary['age']=25"
   ]
  },
  {
   "cell_type": "code",
   "execution_count": 170,
   "id": "60cc7323",
   "metadata": {},
   "outputs": [
    {
     "name": "stdout",
     "output_type": "stream",
     "text": [
      "25\n"
     ]
    }
   ],
   "source": [
    "print(my_dictionary['age'])"
   ]
  },
  {
   "cell_type": "code",
   "execution_count": 171,
   "id": "749db240",
   "metadata": {},
   "outputs": [
    {
     "data": {
      "text/plain": [
       "{'name': 'Maitreyee',\n",
       " 'age': 25,\n",
       " 'roll_no': 'CSE100',\n",
       " 'percentage': 85,\n",
       " 'attendance': 74,\n",
       " 'city': 'Gurgaon',\n",
       " 'country': 'India'}"
      ]
     },
     "execution_count": 171,
     "metadata": {},
     "output_type": "execute_result"
    }
   ],
   "source": [
    "my_dictionary"
   ]
  },
  {
   "cell_type": "code",
   "execution_count": 173,
   "id": "26f55aba",
   "metadata": {},
   "outputs": [
    {
     "data": {
      "text/plain": [
       "dict_keys(['name', 'age', 'roll_no', 'percentage', 'attendance', 'city', 'country'])"
      ]
     },
     "execution_count": 173,
     "metadata": {},
     "output_type": "execute_result"
    }
   ],
   "source": [
    "my_dictionary.keys()"
   ]
  },
  {
   "cell_type": "code",
   "execution_count": 174,
   "id": "721b1230",
   "metadata": {},
   "outputs": [
    {
     "data": {
      "text/plain": [
       "dict_values(['Maitreyee', 25, 'CSE100', 85, 74, 'Gurgaon', 'India'])"
      ]
     },
     "execution_count": 174,
     "metadata": {},
     "output_type": "execute_result"
    }
   ],
   "source": [
    "my_dictionary.values()"
   ]
  },
  {
   "cell_type": "code",
   "execution_count": 175,
   "id": "bf6818b4",
   "metadata": {},
   "outputs": [],
   "source": [
    "my_dictionary.update({'pincode' : '560034' , 'Last Name' : 'Sinha Chowdhury'})"
   ]
  },
  {
   "cell_type": "code",
   "execution_count": 176,
   "id": "c13ed2e7",
   "metadata": {},
   "outputs": [
    {
     "data": {
      "text/plain": [
       "{'name': 'Maitreyee',\n",
       " 'age': 25,\n",
       " 'roll_no': 'CSE100',\n",
       " 'percentage': 85,\n",
       " 'attendance': 74,\n",
       " 'city': 'Gurgaon',\n",
       " 'country': 'India',\n",
       " 'pincode': '560034',\n",
       " 'Last Name': 'Sinha Chowdhury'}"
      ]
     },
     "execution_count": 176,
     "metadata": {},
     "output_type": "execute_result"
    }
   ],
   "source": [
    "my_dictionary"
   ]
  },
  {
   "cell_type": "code",
   "execution_count": 177,
   "id": "8b864708",
   "metadata": {},
   "outputs": [],
   "source": [
    "my_dictionary['New_key'] = 'New_value'"
   ]
  },
  {
   "cell_type": "code",
   "execution_count": 178,
   "id": "06893855",
   "metadata": {},
   "outputs": [
    {
     "data": {
      "text/plain": [
       "{'name': 'Maitreyee',\n",
       " 'age': 25,\n",
       " 'roll_no': 'CSE100',\n",
       " 'percentage': 85,\n",
       " 'attendance': 74,\n",
       " 'city': 'Gurgaon',\n",
       " 'country': 'India',\n",
       " 'pincode': '560034',\n",
       " 'Last Name': 'Sinha Chowdhury',\n",
       " 'New_key': 'New_value'}"
      ]
     },
     "execution_count": 178,
     "metadata": {},
     "output_type": "execute_result"
    }
   ],
   "source": [
    "my_dictionary"
   ]
  },
  {
   "cell_type": "code",
   "execution_count": 179,
   "id": "3a04826c",
   "metadata": {},
   "outputs": [],
   "source": [
    "sample = {'A' :1 , 'B' :2, 'C' :3}"
   ]
  },
  {
   "cell_type": "code",
   "execution_count": 180,
   "id": "b9f3c770",
   "metadata": {},
   "outputs": [
    {
     "data": {
      "text/plain": [
       "{'A': 1, 'B': 2, 'C': 3}"
      ]
     },
     "execution_count": 180,
     "metadata": {},
     "output_type": "execute_result"
    }
   ],
   "source": [
    "sample"
   ]
  },
  {
   "cell_type": "code",
   "execution_count": 181,
   "id": "d3a59e77",
   "metadata": {},
   "outputs": [],
   "source": [
    "sample['A'] = 20"
   ]
  },
  {
   "cell_type": "code",
   "execution_count": 182,
   "id": "1d2513cf",
   "metadata": {},
   "outputs": [
    {
     "data": {
      "text/plain": [
       "{'A': 20, 'B': 2, 'C': 3}"
      ]
     },
     "execution_count": 182,
     "metadata": {},
     "output_type": "execute_result"
    }
   ],
   "source": [
    "sample"
   ]
  },
  {
   "cell_type": "code",
   "execution_count": 183,
   "id": "a4723425",
   "metadata": {},
   "outputs": [],
   "source": [
    "my_string = \"Analytics Vidhya creating next generation data science eco-system\""
   ]
  },
  {
   "cell_type": "code",
   "execution_count": 184,
   "id": "457eeff8",
   "metadata": {},
   "outputs": [
    {
     "data": {
      "text/plain": [
       "65"
      ]
     },
     "execution_count": 184,
     "metadata": {},
     "output_type": "execute_result"
    }
   ],
   "source": [
    "len(my_string)"
   ]
  },
  {
   "cell_type": "code",
   "execution_count": 185,
   "id": "617334e7",
   "metadata": {},
   "outputs": [
    {
     "data": {
      "text/plain": [
       "'A'"
      ]
     },
     "execution_count": 185,
     "metadata": {},
     "output_type": "execute_result"
    }
   ],
   "source": [
    "my_string[0]"
   ]
  },
  {
   "cell_type": "code",
   "execution_count": 186,
   "id": "c27367b1",
   "metadata": {},
   "outputs": [
    {
     "data": {
      "text/plain": [
       "'l'"
      ]
     },
     "execution_count": 186,
     "metadata": {},
     "output_type": "execute_result"
    }
   ],
   "source": [
    "my_string[3]"
   ]
  },
  {
   "cell_type": "code",
   "execution_count": 187,
   "id": "0ee5f6af",
   "metadata": {},
   "outputs": [
    {
     "data": {
      "text/plain": [
       "'na'"
      ]
     },
     "execution_count": 187,
     "metadata": {},
     "output_type": "execute_result"
    }
   ],
   "source": [
    "my_string[1:3]"
   ]
  },
  {
   "cell_type": "code",
   "execution_count": 188,
   "id": "7e1edb71",
   "metadata": {},
   "outputs": [
    {
     "data": {
      "text/plain": [
       "'Vidhya creating next generation data science '"
      ]
     },
     "execution_count": 188,
     "metadata": {},
     "output_type": "execute_result"
    }
   ],
   "source": [
    "my_string[10:-10]"
   ]
  },
  {
   "cell_type": "code",
   "execution_count": 189,
   "id": "ea2513dc",
   "metadata": {},
   "outputs": [
    {
     "data": {
      "text/plain": [
       "5"
      ]
     },
     "execution_count": 189,
     "metadata": {},
     "output_type": "execute_result"
    }
   ],
   "source": [
    "my_string[10:-10].count('a')"
   ]
  },
  {
   "cell_type": "code",
   "execution_count": 190,
   "id": "977ac02e",
   "metadata": {},
   "outputs": [
    {
     "data": {
      "text/plain": [
       "2"
      ]
     },
     "execution_count": 190,
     "metadata": {},
     "output_type": "execute_result"
    }
   ],
   "source": [
    "my_string.count('en')"
   ]
  },
  {
   "cell_type": "code",
   "execution_count": 191,
   "id": "2a819426",
   "metadata": {},
   "outputs": [
    {
     "data": {
      "text/plain": [
       "26"
      ]
     },
     "execution_count": 191,
     "metadata": {},
     "output_type": "execute_result"
    }
   ],
   "source": [
    "my_string.find('next')"
   ]
  },
  {
   "cell_type": "code",
   "execution_count": 192,
   "id": "ffb3cc0a",
   "metadata": {},
   "outputs": [
    {
     "data": {
      "text/plain": [
       "-1"
      ]
     },
     "execution_count": 192,
     "metadata": {},
     "output_type": "execute_result"
    }
   ],
   "source": [
    "my_string.find('python')"
   ]
  },
  {
   "cell_type": "code",
   "execution_count": 193,
   "id": "471dcf5d",
   "metadata": {},
   "outputs": [
    {
     "data": {
      "text/plain": [
       "26"
      ]
     },
     "execution_count": 193,
     "metadata": {},
     "output_type": "execute_result"
    }
   ],
   "source": [
    "my_string.index('next')"
   ]
  },
  {
   "cell_type": "code",
   "execution_count": 194,
   "id": "dea74b39",
   "metadata": {},
   "outputs": [
    {
     "ename": "ValueError",
     "evalue": "substring not found",
     "output_type": "error",
     "traceback": [
      "\u001b[1;31m---------------------------------------------------------------------------\u001b[0m",
      "\u001b[1;31mValueError\u001b[0m                                Traceback (most recent call last)",
      "\u001b[1;32mC:\\Users\\MAITRE~1\\AppData\\Local\\Temp/ipykernel_85964/1520920811.py\u001b[0m in \u001b[0;36m<module>\u001b[1;34m\u001b[0m\n\u001b[1;32m----> 1\u001b[1;33m \u001b[0mmy_string\u001b[0m\u001b[1;33m.\u001b[0m\u001b[0mindex\u001b[0m\u001b[1;33m(\u001b[0m\u001b[1;34m'python'\u001b[0m\u001b[1;33m)\u001b[0m\u001b[1;33m\u001b[0m\u001b[1;33m\u001b[0m\u001b[0m\n\u001b[0m",
      "\u001b[1;31mValueError\u001b[0m: substring not found"
     ]
    }
   ],
   "source": [
    "my_string.index('python')"
   ]
  },
  {
   "cell_type": "code",
   "execution_count": 195,
   "id": "1db2e745",
   "metadata": {},
   "outputs": [
    {
     "data": {
      "text/plain": [
       "'Analytics Vidhya creating next generation data science eco-system'"
      ]
     },
     "execution_count": 195,
     "metadata": {},
     "output_type": "execute_result"
    }
   ],
   "source": [
    "my_string"
   ]
  },
  {
   "cell_type": "code",
   "execution_count": 196,
   "id": "f0125f0e",
   "metadata": {},
   "outputs": [
    {
     "data": {
      "text/plain": [
       "False"
      ]
     },
     "execution_count": 196,
     "metadata": {},
     "output_type": "execute_result"
    }
   ],
   "source": [
    "my_string.endswith('Python')"
   ]
  },
  {
   "cell_type": "code",
   "execution_count": 197,
   "id": "c4dfa604",
   "metadata": {},
   "outputs": [
    {
     "data": {
      "text/plain": [
       "False"
      ]
     },
     "execution_count": 197,
     "metadata": {},
     "output_type": "execute_result"
    }
   ],
   "source": [
    "my_string.startswith('analytics')"
   ]
  },
  {
   "cell_type": "code",
   "execution_count": 198,
   "id": "b09f3d3f",
   "metadata": {},
   "outputs": [
    {
     "data": {
      "text/plain": [
       "'ANALYTICS VIDHYA CREATING NEXT GENERATION DATA SCIENCE ECO-SYSTEM'"
      ]
     },
     "execution_count": 198,
     "metadata": {},
     "output_type": "execute_result"
    }
   ],
   "source": [
    "my_string.upper()"
   ]
  },
  {
   "cell_type": "code",
   "execution_count": 199,
   "id": "9f5c65a5",
   "metadata": {},
   "outputs": [
    {
     "data": {
      "text/plain": [
       "'Analytics Vidhya creating next generation data science eco-system'"
      ]
     },
     "execution_count": 199,
     "metadata": {},
     "output_type": "execute_result"
    }
   ],
   "source": [
    "my_string"
   ]
  },
  {
   "cell_type": "code",
   "execution_count": 200,
   "id": "a4f0543c",
   "metadata": {},
   "outputs": [
    {
     "data": {
      "text/plain": [
       "'Analytics vidhya creating next generation data science eco-system'"
      ]
     },
     "execution_count": 200,
     "metadata": {},
     "output_type": "execute_result"
    }
   ],
   "source": [
    "my_string.capitalize()"
   ]
  },
  {
   "cell_type": "code",
   "execution_count": 202,
   "id": "1b85367f",
   "metadata": {},
   "outputs": [
    {
     "data": {
      "text/plain": [
       "False"
      ]
     },
     "execution_count": 202,
     "metadata": {},
     "output_type": "execute_result"
    }
   ],
   "source": [
    "my_string.islower()"
   ]
  },
  {
   "cell_type": "code",
   "execution_count": 203,
   "id": "e004595d",
   "metadata": {},
   "outputs": [
    {
     "data": {
      "text/plain": [
       "False"
      ]
     },
     "execution_count": 203,
     "metadata": {},
     "output_type": "execute_result"
    }
   ],
   "source": [
    "my_string.isupper()"
   ]
  },
  {
   "cell_type": "code",
   "execution_count": 204,
   "id": "15ad65ff",
   "metadata": {},
   "outputs": [
    {
     "data": {
      "text/plain": [
       "True"
      ]
     },
     "execution_count": 204,
     "metadata": {},
     "output_type": "execute_result"
    }
   ],
   "source": [
    "\"100\".isnumeric()"
   ]
  },
  {
   "cell_type": "code",
   "execution_count": 205,
   "id": "5f0ec30e",
   "metadata": {},
   "outputs": [
    {
     "data": {
      "text/plain": [
       "False"
      ]
     },
     "execution_count": 205,
     "metadata": {},
     "output_type": "execute_result"
    }
   ],
   "source": [
    "\"123as\".isnumeric()"
   ]
  },
  {
   "cell_type": "code",
   "execution_count": 207,
   "id": "db945a4c",
   "metadata": {},
   "outputs": [
    {
     "data": {
      "text/plain": [
       "True"
      ]
     },
     "execution_count": 207,
     "metadata": {},
     "output_type": "execute_result"
    }
   ],
   "source": [
    "\"python\".isalpha()"
   ]
  },
  {
   "cell_type": "code",
   "execution_count": 208,
   "id": "f86ffb47",
   "metadata": {},
   "outputs": [
    {
     "data": {
      "text/plain": [
       "False"
      ]
     },
     "execution_count": 208,
     "metadata": {},
     "output_type": "execute_result"
    }
   ],
   "source": [
    "\"1212as\".isalpha()"
   ]
  },
  {
   "cell_type": "code",
   "execution_count": 209,
   "id": "56527cb7",
   "metadata": {},
   "outputs": [],
   "source": [
    "string=\"AnalyticsVidhya\""
   ]
  },
  {
   "cell_type": "code",
   "execution_count": 210,
   "id": "235b26fb",
   "metadata": {},
   "outputs": [
    {
     "data": {
      "text/plain": [
       "True"
      ]
     },
     "execution_count": 210,
     "metadata": {},
     "output_type": "execute_result"
    }
   ],
   "source": [
    "string.isalpha()"
   ]
  },
  {
   "cell_type": "code",
   "execution_count": 211,
   "id": "b0492059",
   "metadata": {},
   "outputs": [],
   "source": [
    "string= \"Analytics Vidhya\""
   ]
  },
  {
   "cell_type": "code",
   "execution_count": 212,
   "id": "e10e7008",
   "metadata": {},
   "outputs": [
    {
     "data": {
      "text/plain": [
       "False"
      ]
     },
     "execution_count": 212,
     "metadata": {},
     "output_type": "execute_result"
    }
   ],
   "source": [
    "string.isalpha()"
   ]
  },
  {
   "cell_type": "code",
   "execution_count": 213,
   "id": "4461e51c",
   "metadata": {},
   "outputs": [
    {
     "data": {
      "text/plain": [
       "'python is easy to learn'"
      ]
     },
     "execution_count": 213,
     "metadata": {},
     "output_type": "execute_result"
    }
   ],
   "source": [
    "\"java is easy to learn\".replace('java','python')"
   ]
  },
  {
   "cell_type": "code",
   "execution_count": 214,
   "id": "b9f9c452",
   "metadata": {},
   "outputs": [],
   "source": [
    "string=\"java is easy to learn\""
   ]
  },
  {
   "cell_type": "code",
   "execution_count": 215,
   "id": "e604e69e",
   "metadata": {},
   "outputs": [
    {
     "data": {
      "text/plain": [
       "'python is easy to learn'"
      ]
     },
     "execution_count": 215,
     "metadata": {},
     "output_type": "execute_result"
    }
   ],
   "source": [
    "string.replace('java','python')"
   ]
  },
  {
   "cell_type": "code",
   "execution_count": 216,
   "id": "4c457aef",
   "metadata": {},
   "outputs": [
    {
     "data": {
      "text/plain": [
       "['python', 'is', 'easy', 'to', 'learn']"
      ]
     },
     "execution_count": 216,
     "metadata": {},
     "output_type": "execute_result"
    }
   ],
   "source": [
    "\"python is easy to learn\".split(' ')"
   ]
  },
  {
   "cell_type": "code",
   "execution_count": 217,
   "id": "43861d6a",
   "metadata": {},
   "outputs": [
    {
     "data": {
      "text/plain": [
       "['python is ', ' to learn']"
      ]
     },
     "execution_count": 217,
     "metadata": {},
     "output_type": "execute_result"
    }
   ],
   "source": [
    "\"python is easy to learn\".split('easy')"
   ]
  },
  {
   "cell_type": "code",
   "execution_count": 218,
   "id": "4993a5bd",
   "metadata": {},
   "outputs": [
    {
     "data": {
      "text/plain": [
       "['java is ', ' to learn']"
      ]
     },
     "execution_count": 218,
     "metadata": {},
     "output_type": "execute_result"
    }
   ],
   "source": [
    "string.split('easy')"
   ]
  },
  {
   "cell_type": "code",
   "execution_count": 232,
   "id": "513fb67f",
   "metadata": {},
   "outputs": [],
   "source": [
    "def add_two_numbers():\n",
    "    total = 3 + 4\n",
    "    print(\"sum of 3 & 4 is : \", total)\n",
    "    return total"
   ]
  },
  {
   "cell_type": "code",
   "execution_count": 230,
   "id": "ee1ac95f",
   "metadata": {},
   "outputs": [
    {
     "name": "stdout",
     "output_type": "stream",
     "text": [
      "sum of 3 & 4 is :  7\n"
     ]
    },
    {
     "data": {
      "text/plain": [
       "7"
      ]
     },
     "execution_count": 230,
     "metadata": {},
     "output_type": "execute_result"
    }
   ],
   "source": [
    "add_two_numbers()"
   ]
  },
  {
   "cell_type": "code",
   "execution_count": 233,
   "id": "535f6a5e",
   "metadata": {},
   "outputs": [
    {
     "name": "stdout",
     "output_type": "stream",
     "text": [
      "sum of 3 & 4 is :  7\n"
     ]
    }
   ],
   "source": [
    "X=add_two_numbers()"
   ]
  },
  {
   "cell_type": "code",
   "execution_count": 234,
   "id": "2ae0f15c",
   "metadata": {},
   "outputs": [
    {
     "name": "stdout",
     "output_type": "stream",
     "text": [
      "7\n"
     ]
    }
   ],
   "source": [
    "print(X)"
   ]
  },
  {
   "cell_type": "code",
   "execution_count": 243,
   "id": "1d011698",
   "metadata": {},
   "outputs": [],
   "source": [
    "def welcome(name):\n",
    "    return \"Welcome to Python Course, \" + name"
   ]
  },
  {
   "cell_type": "code",
   "execution_count": 244,
   "id": "c41f30a6",
   "metadata": {},
   "outputs": [
    {
     "data": {
      "text/plain": [
       "'Welcome to Python Course, Lakshay'"
      ]
     },
     "execution_count": 244,
     "metadata": {},
     "output_type": "execute_result"
    }
   ],
   "source": [
    "welcome('Lakshay')"
   ]
  },
  {
   "cell_type": "code",
   "execution_count": 245,
   "id": "a2239a68",
   "metadata": {},
   "outputs": [],
   "source": [
    "def welcome(name):\n",
    "    return \"welcome to the United Kingdom,\" + name\n"
   ]
  },
  {
   "cell_type": "code",
   "execution_count": 246,
   "id": "60b76fcb",
   "metadata": {},
   "outputs": [
    {
     "data": {
      "text/plain": [
       "'welcome to the United Kingdom,Maitreyee'"
      ]
     },
     "execution_count": 246,
     "metadata": {},
     "output_type": "execute_result"
    }
   ],
   "source": [
    "welcome('Maitreyee')"
   ]
  },
  {
   "cell_type": "code",
   "execution_count": 247,
   "id": "5095ad6f",
   "metadata": {},
   "outputs": [],
   "source": [
    "def Welcome(name='Aravind'):\n",
    "    return \"Welcome to the world, \" +name"
   ]
  },
  {
   "cell_type": "code",
   "execution_count": 249,
   "id": "a99288a8",
   "metadata": {},
   "outputs": [
    {
     "data": {
      "text/plain": [
       "'welcome to the United Kingdom,Pranav'"
      ]
     },
     "execution_count": 249,
     "metadata": {},
     "output_type": "execute_result"
    }
   ],
   "source": [
    "welcome(name)"
   ]
  },
  {
   "cell_type": "code",
   "execution_count": 251,
   "id": "b5e2ec28",
   "metadata": {},
   "outputs": [
    {
     "data": {
      "text/plain": [
       "'welcome to the United Kingdom,maitreyee'"
      ]
     },
     "execution_count": 251,
     "metadata": {},
     "output_type": "execute_result"
    }
   ],
   "source": [
    "welcome('maitreyee')"
   ]
  },
  {
   "cell_type": "code",
   "execution_count": 252,
   "id": "6f3a3338",
   "metadata": {},
   "outputs": [],
   "source": [
    "def math_functions(small_num, large_num):\n",
    "    difference = large_num - small_num\n",
    "    return difference\n"
   ]
  },
  {
   "cell_type": "code",
   "execution_count": 253,
   "id": "516e8515",
   "metadata": {},
   "outputs": [
    {
     "data": {
      "text/plain": [
       "12"
      ]
     },
     "execution_count": 253,
     "metadata": {},
     "output_type": "execute_result"
    }
   ],
   "source": [
    "math_functions(4,16)"
   ]
  },
  {
   "cell_type": "code",
   "execution_count": 254,
   "id": "2ab82967",
   "metadata": {},
   "outputs": [
    {
     "data": {
      "text/plain": [
       "-12"
      ]
     },
     "execution_count": 254,
     "metadata": {},
     "output_type": "execute_result"
    }
   ],
   "source": [
    "math_functions(16,4)"
   ]
  },
  {
   "cell_type": "code",
   "execution_count": 259,
   "id": "86f78e56",
   "metadata": {},
   "outputs": [
    {
     "ename": "SyntaxError",
     "evalue": "positional argument follows keyword argument (Temp/ipykernel_85964/585944349.py, line 3)",
     "output_type": "error",
     "traceback": [
      "\u001b[1;36m  File \u001b[1;32m\"C:\\Users\\MAITRE~1\\AppData\\Local\\Temp/ipykernel_85964/585944349.py\"\u001b[1;36m, line \u001b[1;32m3\u001b[0m\n\u001b[1;33m    math_functions(small_num=4, large_num)\u001b[0m\n\u001b[1;37m                                         ^\u001b[0m\n\u001b[1;31mSyntaxError\u001b[0m\u001b[1;31m:\u001b[0m positional argument follows keyword argument\n"
     ]
    }
   ],
   "source": [
    "small_num=4\n",
    "large_num=16\n",
    "math_functions(small_num=4, large_num)"
   ]
  },
  {
   "cell_type": "code",
   "execution_count": 257,
   "id": "b81af468",
   "metadata": {},
   "outputs": [
    {
     "data": {
      "text/plain": [
       "12"
      ]
     },
     "execution_count": 257,
     "metadata": {},
     "output_type": "execute_result"
    }
   ],
   "source": [
    "small_num=4\n",
    "math_functions(small_num, large_num = 16)"
   ]
  },
  {
   "cell_type": "code",
   "execution_count": 260,
   "id": "b2aea659",
   "metadata": {},
   "outputs": [],
   "source": [
    "def my_function(*arg):\n",
    "    for i in arg:\n",
    "        print(i)\n",
    "    "
   ]
  },
  {
   "cell_type": "code",
   "execution_count": 261,
   "id": "5cc8981f",
   "metadata": {},
   "outputs": [
    {
     "name": "stdout",
     "output_type": "stream",
     "text": [
      "1\n",
      "2\n",
      "3\n",
      "4\n"
     ]
    }
   ],
   "source": [
    "my_function(1,2,3,4)"
   ]
  },
  {
   "cell_type": "code",
   "execution_count": 262,
   "id": "7edf99ed",
   "metadata": {},
   "outputs": [
    {
     "name": "stdout",
     "output_type": "stream",
     "text": [
      "1\n",
      "2\n"
     ]
    }
   ],
   "source": [
    "my_function(1,2)"
   ]
  },
  {
   "cell_type": "code",
   "execution_count": 263,
   "id": "ee3ad5b2",
   "metadata": {},
   "outputs": [
    {
     "name": "stdout",
     "output_type": "stream",
     "text": [
      "Maitreyee\n",
      "Sinha\n",
      "Chowdhury\n"
     ]
    }
   ],
   "source": [
    "my_function('Maitreyee', 'Sinha', 'Chowdhury')"
   ]
  },
  {
   "cell_type": "code",
   "execution_count": 265,
   "id": "1e426e71",
   "metadata": {},
   "outputs": [],
   "source": [
    "name = \"variable outside the function\"\n",
    "\n",
    "def my_function(name): \n",
    "    name = \"variable inside the function\"\n",
    "    return name"
   ]
  },
  {
   "cell_type": "code",
   "execution_count": 267,
   "id": "03da4969",
   "metadata": {},
   "outputs": [
    {
     "name": "stdout",
     "output_type": "stream",
     "text": [
      "variable inside the function\n"
     ]
    }
   ],
   "source": [
    "print(my_function(name))"
   ]
  },
  {
   "cell_type": "code",
   "execution_count": 269,
   "id": "a0912f73",
   "metadata": {},
   "outputs": [
    {
     "name": "stdout",
     "output_type": "stream",
     "text": [
      "variable outside the function\n"
     ]
    }
   ],
   "source": [
    "print(name)"
   ]
  },
  {
   "cell_type": "code",
   "execution_count": 272,
   "id": "4a4f5986",
   "metadata": {},
   "outputs": [],
   "source": [
    "name = \"variable outside the function\"\n",
    "\n",
    "def my_function():\n",
    "    global name\n",
    "    name = \"variable inside the function\"\n",
    "    return name"
   ]
  },
  {
   "cell_type": "code",
   "execution_count": 276,
   "id": "76c3978f",
   "metadata": {},
   "outputs": [
    {
     "name": "stdout",
     "output_type": "stream",
     "text": [
      "variable inside the function\n"
     ]
    }
   ],
   "source": [
    "print(name)"
   ]
  },
  {
   "cell_type": "code",
   "execution_count": 275,
   "id": "c259de2f",
   "metadata": {},
   "outputs": [
    {
     "name": "stdout",
     "output_type": "stream",
     "text": [
      "variable inside the function\n"
     ]
    }
   ],
   "source": [
    "print(my_function())"
   ]
  },
  {
   "cell_type": "code",
   "execution_count": null,
   "id": "5ff6d04d",
   "metadata": {},
   "outputs": [],
   "source": [
    "print(name)"
   ]
  },
  {
   "cell_type": "code",
   "execution_count": 285,
   "id": "2df14d50",
   "metadata": {},
   "outputs": [],
   "source": [
    "def count_hand_shakes_iterative(total_persons_in_room):\n",
    "    count = 0\n",
    "    for i in range(1, total_persons_in_room):\n",
    "        for j in range(i+1, total_persons_in_room+1):\n",
    "            print('hand shake of ' , i, 'and', j )\n",
    "            count = count+1\n",
    "    print('total number of handshakes:', count)\n",
    "            "
   ]
  },
  {
   "cell_type": "code",
   "execution_count": 286,
   "id": "fa223c9e",
   "metadata": {},
   "outputs": [
    {
     "name": "stdout",
     "output_type": "stream",
     "text": [
      "hand shake of  1 and 2\n",
      "hand shake of  1 and 3\n",
      "hand shake of  1 and 4\n",
      "hand shake of  1 and 5\n",
      "hand shake of  2 and 3\n",
      "hand shake of  2 and 4\n",
      "hand shake of  2 and 5\n",
      "hand shake of  3 and 4\n",
      "hand shake of  3 and 5\n",
      "hand shake of  4 and 5\n",
      "total number of handshakes: 10\n"
     ]
    }
   ],
   "source": [
    "count_hand_shakes_iterative(total_persons_in_room=5)"
   ]
  },
  {
   "cell_type": "code",
   "execution_count": 293,
   "id": "7e263ab7",
   "metadata": {},
   "outputs": [],
   "source": [
    "def count_of_hand_shakes(total_persons_in_room):\n",
    "    if total_persons_in_room == 2:\n",
    "        return 1\n",
    "    else:\n",
    "        return count_of_hand_shakes(total_persons_in_room - 1) + (total_persons_in_room - 1)"
   ]
  },
  {
   "cell_type": "code",
   "execution_count": 294,
   "id": "7fab4387",
   "metadata": {},
   "outputs": [
    {
     "data": {
      "text/plain": [
       "10"
      ]
     },
     "execution_count": 294,
     "metadata": {},
     "output_type": "execute_result"
    }
   ],
   "source": [
    "count_of_hand_shakes(5)"
   ]
  },
  {
   "cell_type": "code",
   "execution_count": 295,
   "id": "ac61e04b",
   "metadata": {},
   "outputs": [],
   "source": [
    "def add_20(a):\n",
    "    return(a+20)"
   ]
  },
  {
   "cell_type": "code",
   "execution_count": 296,
   "id": "cbba0f7d",
   "metadata": {},
   "outputs": [
    {
     "data": {
      "text/plain": [
       "25"
      ]
     },
     "execution_count": 296,
     "metadata": {},
     "output_type": "execute_result"
    }
   ],
   "source": [
    "add_20(5)"
   ]
  },
  {
   "cell_type": "code",
   "execution_count": 297,
   "id": "dcc63c83",
   "metadata": {},
   "outputs": [
    {
     "name": "stdout",
     "output_type": "stream",
     "text": [
      "with argument value 5: 25\n",
      "with argument value 10: 30\n"
     ]
    }
   ],
   "source": [
    "var = lambda a: a+20\n",
    "\n",
    "print('with argument value 5:' , var(5))\n",
    "print('with argument value 10:', var(10))"
   ]
  },
  {
   "cell_type": "code",
   "execution_count": 299,
   "id": "43198e92",
   "metadata": {},
   "outputs": [
    {
     "name": "stdout",
     "output_type": "stream",
     "text": [
      "The value of 5+3 = 8\n",
      "The value of 6+4 = 10\n"
     ]
    }
   ],
   "source": [
    "lambda_add = lambda a,b : a+b\n",
    "\n",
    "print('The value of 5+3 =', lambda_add(5,3))\n",
    "print('The value of 6+4 =', lambda_add(6,4))\n"
   ]
  },
  {
   "cell_type": "code",
   "execution_count": 300,
   "id": "1dd1e75a",
   "metadata": {},
   "outputs": [
    {
     "name": "stdout",
     "output_type": "stream",
     "text": [
      "The odd numbers are: [5, 17, 43, 237, 133, 21]\n"
     ]
    }
   ],
   "source": [
    "original_list = [5,17,32,43,12,62,237,133,78,21]\n",
    "filtered_list = list(filter(lambda x: (x%2!=0), original_list))\n",
    "print('The odd numbers are:', filtered_list)"
   ]
  },
  {
   "cell_type": "code",
   "execution_count": 303,
   "id": "4862faa1",
   "metadata": {},
   "outputs": [
    {
     "name": "stdout",
     "output_type": "stream",
     "text": [
      "multiples of 5 are [5, 15, 20, 65, 235, 75]\n"
     ]
    }
   ],
   "source": [
    "original_list = [5,11,15,43,20,65,235,133,75,21]\n",
    "filtered_list = list(filter(lambda x: (x%5==0), original_list))\n",
    "print('multiples of 5 are', filtered_list)"
   ]
  },
  {
   "cell_type": "code",
   "execution_count": 307,
   "id": "bcb6307e",
   "metadata": {},
   "outputs": [
    {
     "name": "stdout",
     "output_type": "stream",
     "text": [
      "The words starting with S ['Standard', 'Super', 'Science']\n"
     ]
    }
   ],
   "source": [
    "original_list = ['Analytics','Standard','Super','Data','Science','Vidhya']\n",
    "filtered_list = list(filter((lambda x: (x[0]=='S')), original_list))\n",
    "print('The words starting with S', filtered_list)"
   ]
  },
  {
   "cell_type": "code",
   "execution_count": 308,
   "id": "b7874a3d",
   "metadata": {},
   "outputs": [
    {
     "name": "stdout",
     "output_type": "stream",
     "text": [
      "New list [2, 4, 6, 8, 10, 12, 14, 16, 18]\n"
     ]
    }
   ],
   "source": [
    "original_list = [1,2,3,4,5,6,7,8,9]\n",
    "mapped_list = list(map(lambda x: x*2, original_list))\n",
    "print('New list', mapped_list)"
   ]
  },
  {
   "cell_type": "code",
   "execution_count": 313,
   "id": "be5a2fcb",
   "metadata": {},
   "outputs": [
    {
     "name": "stdout",
     "output_type": "stream",
     "text": [
      "New list ['Analytics', 'Vidhya', 'King', 'South', 'East']\n"
     ]
    }
   ],
   "source": [
    "original_list = ['analytics','vidhya','king','south','east']\n",
    "mapped_list = list(map(lambda x: x[0].upper() + x[1:],original_list))\n",
    "print('New list', mapped_list)"
   ]
  },
  {
   "cell_type": "code",
   "execution_count": 314,
   "id": "9ed6edff",
   "metadata": {},
   "outputs": [
    {
     "name": "stdout",
     "output_type": "stream",
     "text": [
      "sum of the list : 45\n"
     ]
    }
   ],
   "source": [
    "from functools import reduce\n",
    "original_list = [1,2,3,4,5,6,7,8,9]\n",
    "sum_of_list = reduce(lambda x,y : x+y, original_list)\n",
    "print('sum of the list :', sum_of_list)"
   ]
  },
  {
   "cell_type": "code",
   "execution_count": 15,
   "id": "2d7b78b4",
   "metadata": {},
   "outputs": [
    {
     "name": "stdout",
     "output_type": "stream",
     "text": [
      "largest number in the list: 424\n"
     ]
    }
   ],
   "source": [
    "from functools import reduce\n",
    "original_list = [110,53,3,424,255,16,42,28]\n",
    "largest_num = reduce(lambda x,y : x if (x>y) else y, original_list)\n",
    "\n",
    "\n",
    "print('largest number in the list:' , largest_num)"
   ]
  },
  {
   "cell_type": "code",
   "execution_count": 72,
   "id": "f83670cd",
   "metadata": {},
   "outputs": [
    {
     "name": "stdout",
     "output_type": "stream",
     "text": [
      "root: C:\\\\\n",
      "input file path: C:\\\\Users\\Maitreyee\\OneDrive\\Documents\\Personal_Development\\Certification_Efforts\\Analytics_Vidhya\\Input_Data\\File\\\n",
      "C:\\\\Users\\Maitreyee\\OneDrive\\Documents\\Personal_Development\\Certification_Efforts\\Analytics_Vidhya\\Input_Data\\File\\file_1.txt\n",
      "closed the file if open\n",
      "This is line number 1.\n",
      "This is line number 2.\n",
      "This is line number 3.\n",
      "This is line number 4.\n",
      "This is line number 5.\n",
      "This is line number 6.\n",
      "This is line number 7.\n",
      "This is line number 8.\n",
      "This is line number 9.\n",
      "This is line number 10.\n",
      "This is line number 11.\n",
      "This is line number 12.\n",
      "This is line number 13.\n",
      "This is line number 14.\n",
      "This is line number 15.\n",
      "This is line number 16.\n",
      "This is line number 17.\n",
      "This is line number 18.\n",
      "This is line number 19.\n",
      "This is line number 20.\n",
      "This is line number 21.\n",
      "This is line number 22.\n",
      "This is line number 23.\n",
      "This is line number 24.\n",
      "This is line number 25.\n",
      "This is line number 26.\n",
      "This is line number 27.\n",
      "This is line number 28.\n",
      "This is line number 29.\n",
      "This is line number 30.\n",
      "\n",
      "re-opening the file with seek function without closing before reading\n",
      "This is line number 1.\n",
      "This is line number 2.\n",
      "This is line number 3.\n",
      "This is line number 4.\n",
      "This is line number 5.\n",
      "This is line number 6.\n",
      "This is line number 7.\n",
      "This is line number 8.\n",
      "This is line number 9.\n",
      "This is line number 10.\n",
      "This is line number 11.\n",
      "This is line number 12.\n",
      "This is line number 13.\n",
      "This is line number 14.\n",
      "This is line number 15.\n",
      "This is line number 16.\n",
      "This is line number 17.\n",
      "This is line number 18.\n",
      "This is line number 19.\n",
      "This is line number 20.\n",
      "This is line number 21.\n",
      "This is line number 22.\n",
      "This is line number 23.\n",
      "This is line number 24.\n",
      "This is line number 25.\n",
      "This is line number 26.\n",
      "This is line number 27.\n",
      "This is line number 28.\n",
      "This is line number 29.\n",
      "This is line number 30.\n",
      "\n",
      "finally closing\n"
     ]
    }
   ],
   "source": [
    "ROOT_VAR = \"C:\\\\\\\\\"\n",
    "a=ROOT_VAR\n",
    "print(\"root:\", a)\n",
    "input_file_path = a + \"Users\\Maitreyee\\OneDrive\\Documents\\Personal_Development\\Certification_Efforts\\Analytics_Vidhya\\Input_Data\\File\\\\\"\n",
    "print(\"input file path: \" + str(input_file_path))\n",
    "input_file=input_file_path + \"file_1.txt\"\n",
    "print(input_file)\n",
    "text_file.close()\n",
    "print(\"closed the file if open\")\n",
    "text_file = open(input_file, \"r\")\n",
    "complete_text = text_file.read()\n",
    "print(complete_text)\n",
    "print(\"re-opening the file with seek function without closing before reading\")\n",
    "complete_text=text_file.seek(0)\n",
    "complete_text= text_file.read()\n",
    "print (complete_text)\n",
    "print(\"finally closing\")\n",
    "text_file.close()"
   ]
  },
  {
   "cell_type": "code",
   "execution_count": 75,
   "id": "9b6e855f",
   "metadata": {},
   "outputs": [
    {
     "name": "stdout",
     "output_type": "stream",
     "text": [
      "root: C:\\\\\n",
      "input file path: C:\\\\Users\\Maitreyee\\OneDrive\\Documents\\Personal_Development\\Certification_Efforts\\Analytics_Vidhya\\Input_Data\\File\\\n",
      "C:\\\\Users\\Maitreyee\\OneDrive\\Documents\\Personal_Development\\Certification_Efforts\\Analytics_Vidhya\\Input_Data\\File\\file_1.txt\n",
      "closed the file if open\n",
      "['This is line number 1.\\n', 'This is line number 2.\\n', 'This is line number 3.\\n', 'This is line number 4.\\n', 'This is line number 5.\\n', 'This is line number 6.\\n', 'This is line number 7.\\n', 'This is line number 8.\\n', 'This is line number 9.\\n', 'This is line number 10.\\n', 'This is line number 11.\\n', 'This is line number 12.\\n', 'This is line number 13.\\n', 'This is line number 14.\\n', 'This is line number 15.\\n', 'This is line number 16.\\n', 'This is line number 17.\\n', 'This is line number 18.\\n', 'This is line number 19.\\n', 'This is line number 20.\\n', 'This is line number 21.\\n', 'This is line number 22.\\n', 'This is line number 23.\\n', 'This is line number 24.\\n', 'This is line number 25.\\n', 'This is line number 26.\\n', 'This is line number 27.\\n', 'This is line number 28.\\n', 'This is line number 29.\\n', 'This is line number 30.\\n']\n",
      "total line count:  30\n",
      "closing the file...\n",
      "closed the file NOW\n"
     ]
    }
   ],
   "source": [
    "ROOT_VAR = \"C:\\\\\\\\\"\n",
    "a=ROOT_VAR\n",
    "print(\"root:\", a)\n",
    "input_file_path = a + \"Users\\Maitreyee\\OneDrive\\Documents\\Personal_Development\\Certification_Efforts\\Analytics_Vidhya\\Input_Data\\File\\\\\"\n",
    "print(\"input file path: \" + str(input_file_path))\n",
    "input_file=input_file_path + \"file_1.txt\"\n",
    "print(input_file)\n",
    "text_file.close()\n",
    "print(\"closed the file if open\")\n",
    "text_file = open(input_file, \"r\")\n",
    "lines=text_file.readlines()\n",
    "print(lines)\n",
    "line_count= format(len(lines))\n",
    "print(\"total line count: \", line_count)\n",
    "print(\"closing the file...\")\n",
    "text_file.close()\n",
    "print(\"closed the file NOW\")"
   ]
  },
  {
   "cell_type": "code",
   "execution_count": 100,
   "id": "2792e9a9",
   "metadata": {},
   "outputs": [
    {
     "name": "stdout",
     "output_type": "stream",
     "text": [
      "root: C:\\\\\n",
      "input file path: C:\\\\Users\\Maitreyee\\OneDrive\\Documents\\Personal_Development\\Certification_Efforts\\Analytics_Vidhya\\Input_Data\\File\\\n",
      "input file :  C:\\\\Users\\Maitreyee\\OneDrive\\Documents\\Personal_Development\\Certification_Efforts\\Analytics_Vidhya\\Input_Data\\File\\file_1.txt\n",
      "closed the file if open\n",
      "This is line number 1.\n",
      "This is line number 2.\n",
      "This is line number 3.\n",
      "This is line number 4.\n",
      "This is line number 5.\n",
      "This is line number 6.\n",
      "This is line number 7.\n",
      "This is line number 8.\n",
      "This is line number 9.\n",
      "This is line number 10.\n",
      "This is line number 11.\n",
      "This is line number 12.\n",
      "This is line number 13.\n",
      "This is line number 14.\n",
      "This is line number 15.\n",
      "This is line number 16.\n",
      "This is line number 17.\n",
      "This is line number 18.\n",
      "This is line number 19.\n",
      "This is line number 20.\n",
      "This is line number 21.\n",
      "This is line number 22.\n",
      "This is line number 23.\n",
      "This is line number 24.\n",
      "This is line number 25.\n",
      "This is line number 26.\n",
      "This is line number 27.\n",
      "This is line number 28.\n",
      "This is line number 29.\n",
      "This is line number 30.\n",
      "\n",
      "closing the file...\n",
      "closed the file NOW\n"
     ]
    }
   ],
   "source": [
    "ROOT_VAR = \"C:\\\\\\\\\"\n",
    "a=ROOT_VAR\n",
    "print(\"root:\", a)\n",
    "input_file_path = a + \"Users\\Maitreyee\\OneDrive\\Documents\\Personal_Development\\Certification_Efforts\\Analytics_Vidhya\\Input_Data\\File\\\\\"\n",
    "print(\"input file path: \" + str(input_file_path))\n",
    "input_file=input_file_path + \"file_1.txt\"\n",
    "print(\"input file : \",input_file)\n",
    "text_file.close()\n",
    "print(\"closed the file if open\")\n",
    "text_file = open(input_file,\"r\")\n",
    "complete_text=text_file.read()\n",
    "print(complete_text)\n",
    "print(\"closing the file...\")\n",
    "text_file.close()\n",
    "print(\"closed the file NOW\")\n",
    "#with open(input_file,'r') as f\n",
    "#complete_text=f.read()\n",
    "#print(complete_text)"
   ]
  },
  {
   "cell_type": "code",
   "execution_count": 117,
   "id": "f26124c2",
   "metadata": {},
   "outputs": [
    {
     "name": "stdout",
     "output_type": "stream",
     "text": [
      "root: C:\\\\\n",
      "input file path: C:\\\\Users\\Maitreyee\\OneDrive\\Documents\\Personal_Development\\Certification_Efforts\\Analytics_Vidhya\\Input_Data\\File\\\n",
      "input file :  C:\\\\Users\\Maitreyee\\OneDrive\\Documents\\Personal_Development\\Certification_Efforts\\Analytics_Vidhya\\Input_Data\\File\\new_file.txt\n",
      "closed the file if open\n",
      "opening the file in write only mode now...\n",
      "23\n",
      "closing the file...\n",
      "closed the file NOW\n"
     ]
    }
   ],
   "source": [
    "ROOT_VAR = \"C:\\\\\\\\\"\n",
    "a=ROOT_VAR\n",
    "print(\"root:\", a)\n",
    "input_file_path = a + \"Users\\Maitreyee\\OneDrive\\Documents\\Personal_Development\\Certification_Efforts\\Analytics_Vidhya\\Input_Data\\File\\\\\"\n",
    "print(\"input file path: \" + str(input_file_path))\n",
    "input_file=input_file_path + \"new_file.txt\"\n",
    "print(\"input file : \",input_file)\n",
    "#my_file.close()\n",
    "print(\"closed the file if open\")\n",
    "print(\"opening the file in write only mode now...\")\n",
    "my_file = open(input_file,\"w\")\n",
    "complete_text=my_file.write(\"Data Science is awesome\")\n",
    "print(complete_text)\n",
    "print(\"closing the file...\")\n",
    "my_file.close()\n",
    "print(\"closed the file NOW\")"
   ]
  },
  {
   "cell_type": "code",
   "execution_count": 119,
   "id": "9267720f",
   "metadata": {},
   "outputs": [
    {
     "name": "stdout",
     "output_type": "stream",
     "text": [
      "root: C:\\\\\n",
      "input file path: C:\\\\Users\\Maitreyee\\OneDrive\\Documents\\Personal_Development\\Certification_Efforts\\Analytics_Vidhya\\Input_Data\\File\\\n",
      "input file :  C:\\\\Users\\Maitreyee\\OneDrive\\Documents\\Personal_Development\\Certification_Efforts\\Analytics_Vidhya\\Input_Data\\File\\new_file.txt\n",
      "opening the file in read write  mode now...\n",
      "\n",
      "closing the file...\n",
      "closed the file NOW\n"
     ]
    }
   ],
   "source": [
    "ROOT_VAR = \"C:\\\\\\\\\"\n",
    "a=ROOT_VAR\n",
    "print(\"root:\", a)\n",
    "input_file_path = a + \"Users\\Maitreyee\\OneDrive\\Documents\\Personal_Development\\Certification_Efforts\\Analytics_Vidhya\\Input_Data\\File\\\\\"\n",
    "print(\"input file path: \" + str(input_file_path))\n",
    "input_file=input_file_path + \"new_file.txt\"\n",
    "print(\"input file : \",input_file)\n",
    "#my_file.close()\n",
    "#print(\"closed the file if open\")\n",
    "print(\"opening the file in read write  mode now...\")\n",
    "my_file=open(input_file,\"w+\")\n",
    "complete_text=my_file.read()\n",
    "print(complete_text)\n",
    "print(\"closing the file...\")\n",
    "my_file.close()\n",
    "print(\"closed the file NOW\")"
   ]
  },
  {
   "cell_type": "code",
   "execution_count": 168,
   "id": "fba8396e",
   "metadata": {},
   "outputs": [],
   "source": [
    "def read_my_file(file_nm):\n",
    "    ROOT_VAR = \"C:\\\\\\\\\"\n",
    "    a=ROOT_VAR\n",
    "    print(\"root:\", a)\n",
    "    input_file_path = a + \"Users\\Maitreyee\\OneDrive\\Documents\\Personal_Development\\Certification_Efforts\\Analytics_Vidhya\\Input_Data\\File\\\\\"\n",
    "    print(\"input file path: \" + input_file_path)\n",
    "    #input_file = input_file_path.replace(\"\\\\\", \"\\\"\")\n",
    "    #print(\"input file :\" input_file)\n",
    "    return str(input_file_path)"
   ]
  },
  {
   "cell_type": "code",
   "execution_count": 169,
   "id": "e8e3b711",
   "metadata": {},
   "outputs": [
    {
     "name": "stdout",
     "output_type": "stream",
     "text": [
      "root: C:\\\\\n",
      "input file path: C:\\\\Users\\Maitreyee\\OneDrive\\Documents\\Personal_Development\\Certification_Efforts\\Analytics_Vidhya\\Input_Data\\File\\\n"
     ]
    },
    {
     "data": {
      "text/plain": [
       "'C:\\\\\\\\Users\\\\Maitreyee\\\\OneDrive\\\\Documents\\\\Personal_Development\\\\Certification_Efforts\\\\Analytics_Vidhya\\\\Input_Data\\\\File\\\\'"
      ]
     },
     "execution_count": 169,
     "metadata": {},
     "output_type": "execute_result"
    }
   ],
   "source": [
    "read_my_file(file_nm=\"big_mart_sales.csv\")"
   ]
  },
  {
   "cell_type": "code",
   "execution_count": 170,
   "id": "3e724266",
   "metadata": {},
   "outputs": [
    {
     "name": "stdout",
     "output_type": "stream",
     "text": [
      "root: C:\\\\\n",
      "input file path: C:\\\\Users\\Maitreyee\\OneDrive\\Documents\\Personal_Development\\Certification_Efforts\\Analytics_Vidhya\\Input_Data\\File\\\n",
      "input file :  C:\\\\Users\\Maitreyee\\OneDrive\\Documents\\Personal_Development\\Certification_Efforts\\Analytics_Vidhya\\Input_Data\\File\\big_mart_sales.csv\n"
     ]
    }
   ],
   "source": [
    "ROOT_VAR = \"C:\\\\\\\\\"\n",
    "a=ROOT_VAR\n",
    "print(\"root:\", a)\n",
    "input_file_path = a + \"Users\\Maitreyee\\OneDrive\\Documents\\Personal_Development\\Certification_Efforts\\Analytics_Vidhya\\Input_Data\\File\\\\\"\n",
    "print(\"input file path: \" + str(input_file_path))\n",
    "input_file=input_file_path + \"big_mart_sales.csv\"\n",
    "print(\"input file : \",input_file)"
   ]
  },
  {
   "cell_type": "code",
   "execution_count": 171,
   "id": "7b91a7ef",
   "metadata": {},
   "outputs": [],
   "source": [
    "import numpy as np"
   ]
  },
  {
   "cell_type": "code",
   "execution_count": 172,
   "id": "3a8dc9f6",
   "metadata": {},
   "outputs": [
    {
     "data": {
      "text/plain": [
       "'1.20.3'"
      ]
     },
     "execution_count": 172,
     "metadata": {},
     "output_type": "execute_result"
    }
   ],
   "source": [
    "np.__version__"
   ]
  },
  {
   "cell_type": "code",
   "execution_count": 173,
   "id": "2bae2271",
   "metadata": {},
   "outputs": [
    {
     "data": {
      "text/plain": [
       "array([1, 4, 2, 5, 3])"
      ]
     },
     "execution_count": 173,
     "metadata": {},
     "output_type": "execute_result"
    }
   ],
   "source": [
    "np.array([1,4,2,5,3])"
   ]
  },
  {
   "cell_type": "code",
   "execution_count": 174,
   "id": "37908f82",
   "metadata": {},
   "outputs": [],
   "source": [
    "list=[1,4,'2',5,False]"
   ]
  },
  {
   "cell_type": "code",
   "execution_count": 176,
   "id": "80c22b38",
   "metadata": {},
   "outputs": [
    {
     "data": {
      "text/plain": [
       "[1, 4, '2', 5, False]"
      ]
     },
     "execution_count": 176,
     "metadata": {},
     "output_type": "execute_result"
    }
   ],
   "source": [
    "list"
   ]
  },
  {
   "cell_type": "code",
   "execution_count": 177,
   "id": "1dfc471d",
   "metadata": {},
   "outputs": [
    {
     "data": {
      "text/plain": [
       "array(['1', '4', '2', '5', '3', 'False'], dtype='<U11')"
      ]
     },
     "execution_count": 177,
     "metadata": {},
     "output_type": "execute_result"
    }
   ],
   "source": [
    "np.array([1, 4, 2, '5', 3, False])"
   ]
  },
  {
   "cell_type": "code",
   "execution_count": 179,
   "id": "333f2399",
   "metadata": {},
   "outputs": [],
   "source": [
    "sample_list=[1,2,3,4,5,6]"
   ]
  },
  {
   "cell_type": "code",
   "execution_count": 180,
   "id": "f47f6b94",
   "metadata": {},
   "outputs": [
    {
     "data": {
      "text/plain": [
       "[1, 2, 3, 4, 5, 6]"
      ]
     },
     "execution_count": 180,
     "metadata": {},
     "output_type": "execute_result"
    }
   ],
   "source": [
    "sample_list"
   ]
  },
  {
   "cell_type": "code",
   "execution_count": 181,
   "id": "2d11063d",
   "metadata": {},
   "outputs": [
    {
     "data": {
      "text/plain": [
       "[1, 2, 3, 4, 5, 6, 1, 2, 3, 4, 5, 6]"
      ]
     },
     "execution_count": 181,
     "metadata": {},
     "output_type": "execute_result"
    }
   ],
   "source": [
    "sample_list*2"
   ]
  },
  {
   "cell_type": "code",
   "execution_count": 185,
   "id": "6b53f49d",
   "metadata": {},
   "outputs": [],
   "source": [
    "sample_numpy_array = np.array([1,2,3,4,5,6])"
   ]
  },
  {
   "cell_type": "code",
   "execution_count": 186,
   "id": "c504089d",
   "metadata": {},
   "outputs": [
    {
     "data": {
      "text/plain": [
       "array([1, 2, 3, 4, 5, 6])"
      ]
     },
     "execution_count": 186,
     "metadata": {},
     "output_type": "execute_result"
    }
   ],
   "source": [
    "sample_numpy_array"
   ]
  },
  {
   "cell_type": "code",
   "execution_count": 187,
   "id": "20c0bc04",
   "metadata": {},
   "outputs": [
    {
     "data": {
      "text/plain": [
       "array([ 2,  4,  6,  8, 10, 12])"
      ]
     },
     "execution_count": 187,
     "metadata": {},
     "output_type": "execute_result"
    }
   ],
   "source": [
    "sample_numpy_array*2"
   ]
  },
  {
   "cell_type": "code",
   "execution_count": 188,
   "id": "57e6d6a3",
   "metadata": {},
   "outputs": [],
   "source": [
    "a = [[1,2,3],[4,5,6],[7,8,9]]"
   ]
  },
  {
   "cell_type": "code",
   "execution_count": 189,
   "id": "ebc04d56",
   "metadata": {},
   "outputs": [
    {
     "data": {
      "text/plain": [
       "[[1, 2, 3], [4, 5, 6], [7, 8, 9]]"
      ]
     },
     "execution_count": 189,
     "metadata": {},
     "output_type": "execute_result"
    }
   ],
   "source": [
    "a"
   ]
  },
  {
   "cell_type": "code",
   "execution_count": 190,
   "id": "abe90759",
   "metadata": {},
   "outputs": [],
   "source": [
    "a= np.array([[1, 2, 3], [4, 5, 6], [7, 8, 9]])"
   ]
  },
  {
   "cell_type": "code",
   "execution_count": 191,
   "id": "39778b31",
   "metadata": {},
   "outputs": [
    {
     "data": {
      "text/plain": [
       "array([[1, 2, 3],\n",
       "       [4, 5, 6],\n",
       "       [7, 8, 9]])"
      ]
     },
     "execution_count": 191,
     "metadata": {},
     "output_type": "execute_result"
    }
   ],
   "source": [
    "a"
   ]
  },
  {
   "cell_type": "code",
   "execution_count": 193,
   "id": "2fd83019",
   "metadata": {},
   "outputs": [
    {
     "data": {
      "text/plain": [
       "2"
      ]
     },
     "execution_count": 193,
     "metadata": {},
     "output_type": "execute_result"
    }
   ],
   "source": [
    "a[0][1]"
   ]
  },
  {
   "cell_type": "code",
   "execution_count": 194,
   "id": "0930a434",
   "metadata": {},
   "outputs": [],
   "source": [
    "b = np.array([[1,2,3],\n",
    "             [4,5,6],\n",
    "             [7,8,9]])"
   ]
  },
  {
   "cell_type": "code",
   "execution_count": 195,
   "id": "3828aef6",
   "metadata": {},
   "outputs": [
    {
     "data": {
      "text/plain": [
       "array([[1, 2, 3],\n",
       "       [4, 5, 6],\n",
       "       [7, 8, 9]])"
      ]
     },
     "execution_count": 195,
     "metadata": {},
     "output_type": "execute_result"
    }
   ],
   "source": [
    "b"
   ]
  },
  {
   "cell_type": "code",
   "execution_count": 196,
   "id": "833b57bb",
   "metadata": {},
   "outputs": [
    {
     "data": {
      "text/plain": [
       "array([[9, 8, 0],\n",
       "       [4, 4, 0],\n",
       "       [0, 2, 6]])"
      ]
     },
     "execution_count": 196,
     "metadata": {},
     "output_type": "execute_result"
    }
   ],
   "source": [
    "np.random.randint(0,10,(3,3))"
   ]
  },
  {
   "cell_type": "code",
   "execution_count": 197,
   "id": "7c194988",
   "metadata": {},
   "outputs": [
    {
     "data": {
      "text/plain": [
       "array([[0, 0, 8],\n",
       "       [8, 4, 4],\n",
       "       [1, 6, 1]])"
      ]
     },
     "execution_count": 197,
     "metadata": {},
     "output_type": "execute_result"
    }
   ],
   "source": [
    "np.random.randint(0,10,(3,3))"
   ]
  },
  {
   "cell_type": "code",
   "execution_count": 200,
   "id": "a01b3c15",
   "metadata": {},
   "outputs": [
    {
     "data": {
      "text/plain": [
       "array([[5, 0, 3],\n",
       "       [3, 7, 9],\n",
       "       [3, 5, 2]])"
      ]
     },
     "execution_count": 200,
     "metadata": {},
     "output_type": "execute_result"
    }
   ],
   "source": [
    "np.random.seed(0)\n",
    "np.random.randint(0,10,(3,3))"
   ]
  },
  {
   "cell_type": "code",
   "execution_count": 202,
   "id": "26fdb39a",
   "metadata": {},
   "outputs": [
    {
     "data": {
      "text/plain": [
       "array([[5, 0, 3],\n",
       "       [3, 7, 9],\n",
       "       [3, 5, 2]])"
      ]
     },
     "execution_count": 202,
     "metadata": {},
     "output_type": "execute_result"
    }
   ],
   "source": [
    "np.random.seed(0)\n",
    "np.random.randint(0,10,(3,3))"
   ]
  },
  {
   "cell_type": "code",
   "execution_count": 203,
   "id": "95e2dad4",
   "metadata": {},
   "outputs": [
    {
     "data": {
      "text/plain": [
       "array([[0, 0, 0, 0],\n",
       "       [0, 0, 0, 0],\n",
       "       [0, 0, 0, 0]])"
      ]
     },
     "execution_count": 203,
     "metadata": {},
     "output_type": "execute_result"
    }
   ],
   "source": [
    "np.zeros((3,4), dtype=int)"
   ]
  },
  {
   "cell_type": "code",
   "execution_count": 204,
   "id": "adfbb12c",
   "metadata": {},
   "outputs": [
    {
     "data": {
      "text/plain": [
       "array([[0, 0, 0, 0, 0],\n",
       "       [0, 0, 0, 0, 0],\n",
       "       [0, 0, 0, 0, 0],\n",
       "       [0, 0, 0, 0, 0]])"
      ]
     },
     "execution_count": 204,
     "metadata": {},
     "output_type": "execute_result"
    }
   ],
   "source": [
    "np.zeros((4,5), dtype=int)"
   ]
  },
  {
   "cell_type": "code",
   "execution_count": 205,
   "id": "c658306a",
   "metadata": {},
   "outputs": [
    {
     "data": {
      "text/plain": [
       "array([[1, 1, 1, 1],\n",
       "       [1, 1, 1, 1],\n",
       "       [1, 1, 1, 1]])"
      ]
     },
     "execution_count": 205,
     "metadata": {},
     "output_type": "execute_result"
    }
   ],
   "source": [
    "np.ones((3,4), dtype=int)"
   ]
  },
  {
   "cell_type": "code",
   "execution_count": 206,
   "id": "e03f9f4a",
   "metadata": {},
   "outputs": [
    {
     "data": {
      "text/plain": [
       "array([[1, 1, 1, 1, 1],\n",
       "       [1, 1, 1, 1, 1],\n",
       "       [1, 1, 1, 1, 1],\n",
       "       [1, 1, 1, 1, 1]])"
      ]
     },
     "execution_count": 206,
     "metadata": {},
     "output_type": "execute_result"
    }
   ],
   "source": [
    "np.ones((4,5), dtype=int)"
   ]
  },
  {
   "cell_type": "code",
   "execution_count": 207,
   "id": "fd9558fa",
   "metadata": {},
   "outputs": [
    {
     "data": {
      "text/plain": [
       "array([[1, 0, 0, 0, 0],\n",
       "       [0, 1, 0, 0, 0],\n",
       "       [0, 0, 1, 0, 0],\n",
       "       [0, 0, 0, 1, 0],\n",
       "       [0, 0, 0, 0, 1]])"
      ]
     },
     "execution_count": 207,
     "metadata": {},
     "output_type": "execute_result"
    }
   ],
   "source": [
    "np.identity(5, dtype=int)"
   ]
  },
  {
   "cell_type": "code",
   "execution_count": 208,
   "id": "683fb0a2",
   "metadata": {},
   "outputs": [
    {
     "data": {
      "text/plain": [
       "array([[3.14, 3.14, 3.14, 3.14, 3.14],\n",
       "       [3.14, 3.14, 3.14, 3.14, 3.14],\n",
       "       [3.14, 3.14, 3.14, 3.14, 3.14]])"
      ]
     },
     "execution_count": 208,
     "metadata": {},
     "output_type": "execute_result"
    }
   ],
   "source": [
    "np.full((3,5), 3.14)"
   ]
  },
  {
   "cell_type": "code",
   "execution_count": 210,
   "id": "e6c41959",
   "metadata": {},
   "outputs": [
    {
     "data": {
      "text/plain": [
       "array([[7, 7, 7, 7],\n",
       "       [7, 7, 7, 7]])"
      ]
     },
     "execution_count": 210,
     "metadata": {},
     "output_type": "execute_result"
    }
   ],
   "source": [
    "np.full((2,4), 7)"
   ]
  },
  {
   "cell_type": "code",
   "execution_count": 214,
   "id": "c183d164",
   "metadata": {},
   "outputs": [],
   "source": [
    "matrix1=np.array([[1,2,3], [4,5,6]])"
   ]
  },
  {
   "cell_type": "code",
   "execution_count": 215,
   "id": "1800a0cd",
   "metadata": {},
   "outputs": [
    {
     "data": {
      "text/plain": [
       "array([[1, 2, 3],\n",
       "       [4, 5, 6]])"
      ]
     },
     "execution_count": 215,
     "metadata": {},
     "output_type": "execute_result"
    }
   ],
   "source": [
    "matrix1"
   ]
  },
  {
   "cell_type": "code",
   "execution_count": 216,
   "id": "bc98c9fa",
   "metadata": {},
   "outputs": [],
   "source": [
    "matrix2=np.array([[7,8,9],[10,11,12]])"
   ]
  },
  {
   "cell_type": "code",
   "execution_count": 217,
   "id": "b1b0c5c5",
   "metadata": {},
   "outputs": [
    {
     "data": {
      "text/plain": [
       "array([[ 7,  8,  9],\n",
       "       [10, 11, 12]])"
      ]
     },
     "execution_count": 217,
     "metadata": {},
     "output_type": "execute_result"
    }
   ],
   "source": [
    "matrix2"
   ]
  },
  {
   "cell_type": "code",
   "execution_count": 218,
   "id": "7f5b592f",
   "metadata": {},
   "outputs": [],
   "source": [
    "matrix_1_2_row=np.concatenate([matrix1,matrix2], axis=0)"
   ]
  },
  {
   "cell_type": "code",
   "execution_count": 219,
   "id": "d9fc00c1",
   "metadata": {},
   "outputs": [
    {
     "data": {
      "text/plain": [
       "array([[ 1,  2,  3],\n",
       "       [ 4,  5,  6],\n",
       "       [ 7,  8,  9],\n",
       "       [10, 11, 12]])"
      ]
     },
     "execution_count": 219,
     "metadata": {},
     "output_type": "execute_result"
    }
   ],
   "source": [
    "matrix_1_2_row"
   ]
  },
  {
   "cell_type": "code",
   "execution_count": 220,
   "id": "260f1041",
   "metadata": {},
   "outputs": [],
   "source": [
    "matrix_1_2_col=np.concatenate([matrix1,matrix2], axis=1)"
   ]
  },
  {
   "cell_type": "code",
   "execution_count": 221,
   "id": "3a1a40e5",
   "metadata": {},
   "outputs": [
    {
     "data": {
      "text/plain": [
       "array([[ 1,  2,  3,  7,  8,  9],\n",
       "       [ 4,  5,  6, 10, 11, 12]])"
      ]
     },
     "execution_count": 221,
     "metadata": {},
     "output_type": "execute_result"
    }
   ],
   "source": [
    "matrix_1_2_col"
   ]
  },
  {
   "cell_type": "code",
   "execution_count": 222,
   "id": "b57393a6",
   "metadata": {},
   "outputs": [],
   "source": [
    "import scipy"
   ]
  },
  {
   "cell_type": "code",
   "execution_count": 223,
   "id": "75e19bbb",
   "metadata": {},
   "outputs": [
    {
     "data": {
      "text/plain": [
       "'1.7.1'"
      ]
     },
     "execution_count": 223,
     "metadata": {},
     "output_type": "execute_result"
    }
   ],
   "source": [
    "scipy.__version__"
   ]
  },
  {
   "cell_type": "code",
   "execution_count": 227,
   "id": "58281c15",
   "metadata": {},
   "outputs": [],
   "source": [
    "from scipy.misc import derivative"
   ]
  },
  {
   "cell_type": "code",
   "execution_count": 228,
   "id": "8de80a2f",
   "metadata": {},
   "outputs": [
    {
     "data": {
      "text/plain": [
       "5.0"
      ]
     },
     "execution_count": 228,
     "metadata": {},
     "output_type": "execute_result"
    }
   ],
   "source": [
    "def my_function(x):\n",
    "    return x**2+x+1\n",
    "derivative(func=my_function, x0=2)"
   ]
  },
  {
   "cell_type": "code",
   "execution_count": 229,
   "id": "b582fcd2",
   "metadata": {},
   "outputs": [
    {
     "data": {
      "text/plain": [
       "2.0"
      ]
     },
     "execution_count": 229,
     "metadata": {},
     "output_type": "execute_result"
    }
   ],
   "source": [
    "def my_function(x):\n",
    "    return x**2+x+1\n",
    "derivative(func=my_function, x0=2, n=2)"
   ]
  },
  {
   "cell_type": "code",
   "execution_count": 230,
   "id": "25c08d98",
   "metadata": {},
   "outputs": [],
   "source": [
    "from scipy.special import comb"
   ]
  },
  {
   "cell_type": "code",
   "execution_count": 232,
   "id": "29d85f89",
   "metadata": {},
   "outputs": [
    {
     "name": "stdout",
     "output_type": "stream",
     "text": [
      "6.0\n"
     ]
    }
   ],
   "source": [
    "com=comb(4,2)\n",
    "print(com)"
   ]
  },
  {
   "cell_type": "code",
   "execution_count": 233,
   "id": "54122a84",
   "metadata": {},
   "outputs": [],
   "source": [
    "from scipy.special import perm"
   ]
  },
  {
   "cell_type": "code",
   "execution_count": 234,
   "id": "e0468d3b",
   "metadata": {},
   "outputs": [
    {
     "name": "stdout",
     "output_type": "stream",
     "text": [
      "12.0\n"
     ]
    }
   ],
   "source": [
    "per=perm(4,2)\n",
    "print(per)"
   ]
  },
  {
   "cell_type": "code",
   "execution_count": 235,
   "id": "370f32ce",
   "metadata": {},
   "outputs": [],
   "source": [
    "from scipy import linalg\n",
    "import numpy as np"
   ]
  },
  {
   "cell_type": "code",
   "execution_count": 236,
   "id": "5cb68b69",
   "metadata": {},
   "outputs": [],
   "source": [
    "matrix=np.array([[1,5,2],[3,2,1],[1,2,1]])"
   ]
  },
  {
   "cell_type": "code",
   "execution_count": 237,
   "id": "d42cc167",
   "metadata": {},
   "outputs": [
    {
     "data": {
      "text/plain": [
       "array([[1, 5, 2],\n",
       "       [3, 2, 1],\n",
       "       [1, 2, 1]])"
      ]
     },
     "execution_count": 237,
     "metadata": {},
     "output_type": "execute_result"
    }
   ],
   "source": [
    "matrix"
   ]
  },
  {
   "cell_type": "code",
   "execution_count": 238,
   "id": "8cb68cd2",
   "metadata": {},
   "outputs": [
    {
     "data": {
      "text/plain": [
       "-1.9999999999999998"
      ]
     },
     "execution_count": 238,
     "metadata": {},
     "output_type": "execute_result"
    }
   ],
   "source": [
    "linalg.det(matrix)"
   ]
  },
  {
   "cell_type": "code",
   "execution_count": 239,
   "id": "f0b44d6f",
   "metadata": {},
   "outputs": [
    {
     "data": {
      "text/plain": [
       "array([[ 0. ,  0.5, -0.5],\n",
       "       [ 1. ,  0.5, -2.5],\n",
       "       [-2. , -1.5,  6.5]])"
      ]
     },
     "execution_count": 239,
     "metadata": {},
     "output_type": "execute_result"
    }
   ],
   "source": [
    "linalg.inv(matrix)"
   ]
  },
  {
   "cell_type": "code",
   "execution_count": 241,
   "id": "ce226829",
   "metadata": {},
   "outputs": [],
   "source": [
    "import statsmodels"
   ]
  },
  {
   "cell_type": "code",
   "execution_count": 242,
   "id": "44ad0d3f",
   "metadata": {},
   "outputs": [
    {
     "data": {
      "text/plain": [
       "'0.12.2'"
      ]
     },
     "execution_count": 242,
     "metadata": {},
     "output_type": "execute_result"
    }
   ],
   "source": [
    "statsmodels.__version__"
   ]
  },
  {
   "cell_type": "code",
   "execution_count": 5,
   "id": "eef65679",
   "metadata": {},
   "outputs": [],
   "source": [
    "import statsmodels.api as sm\n",
    "from sklearn import datasets\n",
    "import numpy as np\n",
    "import pandas as pd"
   ]
  },
  {
   "cell_type": "code",
   "execution_count": 6,
   "id": "f7411cb8",
   "metadata": {},
   "outputs": [],
   "source": [
    "data=datasets.load_boston()"
   ]
  },
  {
   "cell_type": "code",
   "execution_count": 7,
   "id": "d2c5fc9f",
   "metadata": {},
   "outputs": [],
   "source": [
    "features=pd.DataFrame(data.data, columns=data.feature_names)"
   ]
  },
  {
   "cell_type": "code",
   "execution_count": 8,
   "id": "5d378311",
   "metadata": {},
   "outputs": [
    {
     "data": {
      "text/html": [
       "<div>\n",
       "<style scoped>\n",
       "    .dataframe tbody tr th:only-of-type {\n",
       "        vertical-align: middle;\n",
       "    }\n",
       "\n",
       "    .dataframe tbody tr th {\n",
       "        vertical-align: top;\n",
       "    }\n",
       "\n",
       "    .dataframe thead th {\n",
       "        text-align: right;\n",
       "    }\n",
       "</style>\n",
       "<table border=\"1\" class=\"dataframe\">\n",
       "  <thead>\n",
       "    <tr style=\"text-align: right;\">\n",
       "      <th></th>\n",
       "      <th>CRIM</th>\n",
       "      <th>ZN</th>\n",
       "      <th>INDUS</th>\n",
       "      <th>CHAS</th>\n",
       "      <th>NOX</th>\n",
       "      <th>RM</th>\n",
       "      <th>AGE</th>\n",
       "      <th>DIS</th>\n",
       "      <th>RAD</th>\n",
       "      <th>TAX</th>\n",
       "      <th>PTRATIO</th>\n",
       "      <th>B</th>\n",
       "      <th>LSTAT</th>\n",
       "    </tr>\n",
       "  </thead>\n",
       "  <tbody>\n",
       "    <tr>\n",
       "      <th>0</th>\n",
       "      <td>0.00632</td>\n",
       "      <td>18.0</td>\n",
       "      <td>2.31</td>\n",
       "      <td>0.0</td>\n",
       "      <td>0.538</td>\n",
       "      <td>6.575</td>\n",
       "      <td>65.2</td>\n",
       "      <td>4.0900</td>\n",
       "      <td>1.0</td>\n",
       "      <td>296.0</td>\n",
       "      <td>15.3</td>\n",
       "      <td>396.90</td>\n",
       "      <td>4.98</td>\n",
       "    </tr>\n",
       "    <tr>\n",
       "      <th>1</th>\n",
       "      <td>0.02731</td>\n",
       "      <td>0.0</td>\n",
       "      <td>7.07</td>\n",
       "      <td>0.0</td>\n",
       "      <td>0.469</td>\n",
       "      <td>6.421</td>\n",
       "      <td>78.9</td>\n",
       "      <td>4.9671</td>\n",
       "      <td>2.0</td>\n",
       "      <td>242.0</td>\n",
       "      <td>17.8</td>\n",
       "      <td>396.90</td>\n",
       "      <td>9.14</td>\n",
       "    </tr>\n",
       "    <tr>\n",
       "      <th>2</th>\n",
       "      <td>0.02729</td>\n",
       "      <td>0.0</td>\n",
       "      <td>7.07</td>\n",
       "      <td>0.0</td>\n",
       "      <td>0.469</td>\n",
       "      <td>7.185</td>\n",
       "      <td>61.1</td>\n",
       "      <td>4.9671</td>\n",
       "      <td>2.0</td>\n",
       "      <td>242.0</td>\n",
       "      <td>17.8</td>\n",
       "      <td>392.83</td>\n",
       "      <td>4.03</td>\n",
       "    </tr>\n",
       "    <tr>\n",
       "      <th>3</th>\n",
       "      <td>0.03237</td>\n",
       "      <td>0.0</td>\n",
       "      <td>2.18</td>\n",
       "      <td>0.0</td>\n",
       "      <td>0.458</td>\n",
       "      <td>6.998</td>\n",
       "      <td>45.8</td>\n",
       "      <td>6.0622</td>\n",
       "      <td>3.0</td>\n",
       "      <td>222.0</td>\n",
       "      <td>18.7</td>\n",
       "      <td>394.63</td>\n",
       "      <td>2.94</td>\n",
       "    </tr>\n",
       "    <tr>\n",
       "      <th>4</th>\n",
       "      <td>0.06905</td>\n",
       "      <td>0.0</td>\n",
       "      <td>2.18</td>\n",
       "      <td>0.0</td>\n",
       "      <td>0.458</td>\n",
       "      <td>7.147</td>\n",
       "      <td>54.2</td>\n",
       "      <td>6.0622</td>\n",
       "      <td>3.0</td>\n",
       "      <td>222.0</td>\n",
       "      <td>18.7</td>\n",
       "      <td>396.90</td>\n",
       "      <td>5.33</td>\n",
       "    </tr>\n",
       "  </tbody>\n",
       "</table>\n",
       "</div>"
      ],
      "text/plain": [
       "      CRIM    ZN  INDUS  CHAS    NOX     RM   AGE     DIS  RAD    TAX  \\\n",
       "0  0.00632  18.0   2.31   0.0  0.538  6.575  65.2  4.0900  1.0  296.0   \n",
       "1  0.02731   0.0   7.07   0.0  0.469  6.421  78.9  4.9671  2.0  242.0   \n",
       "2  0.02729   0.0   7.07   0.0  0.469  7.185  61.1  4.9671  2.0  242.0   \n",
       "3  0.03237   0.0   2.18   0.0  0.458  6.998  45.8  6.0622  3.0  222.0   \n",
       "4  0.06905   0.0   2.18   0.0  0.458  7.147  54.2  6.0622  3.0  222.0   \n",
       "\n",
       "   PTRATIO       B  LSTAT  \n",
       "0     15.3  396.90   4.98  \n",
       "1     17.8  396.90   9.14  \n",
       "2     17.8  392.83   4.03  \n",
       "3     18.7  394.63   2.94  \n",
       "4     18.7  396.90   5.33  "
      ]
     },
     "execution_count": 8,
     "metadata": {},
     "output_type": "execute_result"
    }
   ],
   "source": [
    "features.head()"
   ]
  },
  {
   "cell_type": "code",
   "execution_count": 12,
   "id": "1007315e",
   "metadata": {},
   "outputs": [],
   "source": [
    "target=pd.DataFrame(data.target, columns=[\"MEDV\"])"
   ]
  },
  {
   "cell_type": "code",
   "execution_count": 13,
   "id": "94e5e33f",
   "metadata": {},
   "outputs": [
    {
     "ename": "NameError",
     "evalue": "name 'df' is not defined",
     "output_type": "error",
     "traceback": [
      "\u001b[1;31m---------------------------------------------------------------------------\u001b[0m",
      "\u001b[1;31mNameError\u001b[0m                                 Traceback (most recent call last)",
      "\u001b[1;32mC:\\Users\\MAITRE~1\\AppData\\Local\\Temp/ipykernel_11884/3652337665.py\u001b[0m in \u001b[0;36m<module>\u001b[1;34m\u001b[0m\n\u001b[0;32m      1\u001b[0m \u001b[1;31m# define X and Y\u001b[0m\u001b[1;33m\u001b[0m\u001b[1;33m\u001b[0m\u001b[0m\n\u001b[1;32m----> 2\u001b[1;33m \u001b[0mX\u001b[0m \u001b[1;33m=\u001b[0m \u001b[0mdf\u001b[0m\u001b[1;33m\u001b[0m\u001b[1;33m\u001b[0m\u001b[0m\n\u001b[0m\u001b[0;32m      3\u001b[0m \u001b[0my\u001b[0m \u001b[1;33m=\u001b[0m \u001b[0mtarget\u001b[0m\u001b[1;33m[\u001b[0m\u001b[1;34m\"MEDV\"\u001b[0m\u001b[1;33m]\u001b[0m\u001b[1;33m\u001b[0m\u001b[1;33m\u001b[0m\u001b[0m\n",
      "\u001b[1;31mNameError\u001b[0m: name 'df' is not defined"
     ]
    }
   ],
   "source": [
    "# define X and Y\n",
    "X = df\n",
    "y = target[\"MEDV\"]"
   ]
  },
  {
   "cell_type": "code",
   "execution_count": 11,
   "id": "3d6ba36b",
   "metadata": {},
   "outputs": [
    {
     "ename": "NameError",
     "evalue": "name 'y' is not defined",
     "output_type": "error",
     "traceback": [
      "\u001b[1;31m---------------------------------------------------------------------------\u001b[0m",
      "\u001b[1;31mNameError\u001b[0m                                 Traceback (most recent call last)",
      "\u001b[1;32mC:\\Users\\MAITRE~1\\AppData\\Local\\Temp/ipykernel_11884/398813377.py\u001b[0m in \u001b[0;36m<module>\u001b[1;34m\u001b[0m\n\u001b[1;32m----> 1\u001b[1;33m \u001b[0mmodel\u001b[0m\u001b[1;33m=\u001b[0m\u001b[0msm\u001b[0m\u001b[1;33m.\u001b[0m\u001b[0mOLS\u001b[0m\u001b[1;33m(\u001b[0m\u001b[0my\u001b[0m\u001b[1;33m,\u001b[0m\u001b[0mx\u001b[0m\u001b[1;33m)\u001b[0m\u001b[1;33m.\u001b[0m\u001b[0mfit\u001b[0m\u001b[1;33m(\u001b[0m\u001b[1;33m)\u001b[0m\u001b[1;33m\u001b[0m\u001b[1;33m\u001b[0m\u001b[0m\n\u001b[0m",
      "\u001b[1;31mNameError\u001b[0m: name 'y' is not defined"
     ]
    }
   ],
   "source": [
    "model=sm.OLS(y,x).fit()"
   ]
  },
  {
   "cell_type": "code",
   "execution_count": 14,
   "id": "f7bbed92",
   "metadata": {},
   "outputs": [],
   "source": [
    "import pandas as pd"
   ]
  },
  {
   "cell_type": "code",
   "execution_count": 15,
   "id": "7e7a235e",
   "metadata": {},
   "outputs": [
    {
     "data": {
      "text/plain": [
       "'1.3.4'"
      ]
     },
     "execution_count": 15,
     "metadata": {},
     "output_type": "execute_result"
    }
   ],
   "source": [
    "pd.__version__"
   ]
  },
  {
   "cell_type": "code",
   "execution_count": 40,
   "id": "85c9211f",
   "metadata": {},
   "outputs": [
    {
     "name": "stdout",
     "output_type": "stream",
     "text": [
      "root: C:\\\\\n",
      "input file path: C:\\\\Users\\Maitreyee\\OneDrive\\Documents\\Personal_Development\\Certification_Efforts\\Analytics_Vidhya\\Input_Data\\File\\\n",
      "input file :  C:\\\\Users\\Maitreyee\\OneDrive\\Documents\\Personal_Development\\Certification_Efforts\\Analytics_Vidhya\\Input_Data\\File\\big_mart_sales.csv\n"
     ]
    }
   ],
   "source": [
    "ROOT_VAR = \"C:\\\\\\\\\"\n",
    "a=ROOT_VAR\n",
    "print(\"root:\", a)\n",
    "input_file_path = a + \"Users\\Maitreyee\\OneDrive\\Documents\\Personal_Development\\Certification_Efforts\\Analytics_Vidhya\\Input_Data\\File\\\\\"\n",
    "print(\"input file path: \" + str(input_file_path))\n",
    "input_file=input_file_path + \"big_mart_sales.csv\"\n",
    "print(\"input file : \",input_file)\n",
    "data=pd.read_csv(input_file)"
   ]
  },
  {
   "cell_type": "code",
   "execution_count": 41,
   "id": "c0e0ea32",
   "metadata": {},
   "outputs": [
    {
     "data": {
      "text/html": [
       "<div>\n",
       "<style scoped>\n",
       "    .dataframe tbody tr th:only-of-type {\n",
       "        vertical-align: middle;\n",
       "    }\n",
       "\n",
       "    .dataframe tbody tr th {\n",
       "        vertical-align: top;\n",
       "    }\n",
       "\n",
       "    .dataframe thead th {\n",
       "        text-align: right;\n",
       "    }\n",
       "</style>\n",
       "<table border=\"1\" class=\"dataframe\">\n",
       "  <thead>\n",
       "    <tr style=\"text-align: right;\">\n",
       "      <th></th>\n",
       "      <th>Item_Identifier</th>\n",
       "      <th>Item_Weight</th>\n",
       "      <th>Item_Fat_Content</th>\n",
       "      <th>Item_Visibility</th>\n",
       "      <th>Item_Type</th>\n",
       "      <th>Item_MRP</th>\n",
       "      <th>Outlet_Identifier</th>\n",
       "      <th>Outlet_Establishment_Year</th>\n",
       "      <th>Outlet_Size</th>\n",
       "      <th>Outlet_Location_Type</th>\n",
       "      <th>Outlet_Type</th>\n",
       "      <th>Item_Outlet_Sales</th>\n",
       "    </tr>\n",
       "  </thead>\n",
       "  <tbody>\n",
       "    <tr>\n",
       "      <th>0</th>\n",
       "      <td>FDA15</td>\n",
       "      <td>9.300</td>\n",
       "      <td>Low Fat</td>\n",
       "      <td>0.016047</td>\n",
       "      <td>Dairy</td>\n",
       "      <td>249.8092</td>\n",
       "      <td>OUT049</td>\n",
       "      <td>1999</td>\n",
       "      <td>Medium</td>\n",
       "      <td>Tier 1</td>\n",
       "      <td>Supermarket Type1</td>\n",
       "      <td>3735.1380</td>\n",
       "    </tr>\n",
       "    <tr>\n",
       "      <th>1</th>\n",
       "      <td>DRC01</td>\n",
       "      <td>5.920</td>\n",
       "      <td>Regular</td>\n",
       "      <td>0.019278</td>\n",
       "      <td>Soft Drinks</td>\n",
       "      <td>48.2692</td>\n",
       "      <td>OUT018</td>\n",
       "      <td>2009</td>\n",
       "      <td>Medium</td>\n",
       "      <td>Tier 3</td>\n",
       "      <td>Supermarket Type2</td>\n",
       "      <td>443.4228</td>\n",
       "    </tr>\n",
       "    <tr>\n",
       "      <th>2</th>\n",
       "      <td>FDN15</td>\n",
       "      <td>17.500</td>\n",
       "      <td>Low Fat</td>\n",
       "      <td>0.016760</td>\n",
       "      <td>Meat</td>\n",
       "      <td>141.6180</td>\n",
       "      <td>OUT049</td>\n",
       "      <td>1999</td>\n",
       "      <td>Medium</td>\n",
       "      <td>Tier 1</td>\n",
       "      <td>Supermarket Type1</td>\n",
       "      <td>2097.2700</td>\n",
       "    </tr>\n",
       "    <tr>\n",
       "      <th>3</th>\n",
       "      <td>FDX07</td>\n",
       "      <td>19.200</td>\n",
       "      <td>Regular</td>\n",
       "      <td>0.000000</td>\n",
       "      <td>Fruits and Vegetables</td>\n",
       "      <td>182.0950</td>\n",
       "      <td>OUT010</td>\n",
       "      <td>1998</td>\n",
       "      <td>NaN</td>\n",
       "      <td>Tier 3</td>\n",
       "      <td>Grocery Store</td>\n",
       "      <td>732.3800</td>\n",
       "    </tr>\n",
       "    <tr>\n",
       "      <th>4</th>\n",
       "      <td>NCD19</td>\n",
       "      <td>8.930</td>\n",
       "      <td>Low Fat</td>\n",
       "      <td>0.000000</td>\n",
       "      <td>Household</td>\n",
       "      <td>53.8614</td>\n",
       "      <td>OUT013</td>\n",
       "      <td>1987</td>\n",
       "      <td>High</td>\n",
       "      <td>Tier 3</td>\n",
       "      <td>Supermarket Type1</td>\n",
       "      <td>994.7052</td>\n",
       "    </tr>\n",
       "    <tr>\n",
       "      <th>5</th>\n",
       "      <td>FDP36</td>\n",
       "      <td>10.395</td>\n",
       "      <td>Regular</td>\n",
       "      <td>0.000000</td>\n",
       "      <td>Baking Goods</td>\n",
       "      <td>51.4008</td>\n",
       "      <td>OUT018</td>\n",
       "      <td>2009</td>\n",
       "      <td>Medium</td>\n",
       "      <td>Tier 3</td>\n",
       "      <td>Supermarket Type2</td>\n",
       "      <td>556.6088</td>\n",
       "    </tr>\n",
       "    <tr>\n",
       "      <th>6</th>\n",
       "      <td>FDO10</td>\n",
       "      <td>13.650</td>\n",
       "      <td>Regular</td>\n",
       "      <td>0.012741</td>\n",
       "      <td>Snack Foods</td>\n",
       "      <td>57.6588</td>\n",
       "      <td>OUT013</td>\n",
       "      <td>1987</td>\n",
       "      <td>High</td>\n",
       "      <td>Tier 3</td>\n",
       "      <td>Supermarket Type1</td>\n",
       "      <td>343.5528</td>\n",
       "    </tr>\n",
       "    <tr>\n",
       "      <th>7</th>\n",
       "      <td>FDP10</td>\n",
       "      <td>NaN</td>\n",
       "      <td>Low Fat</td>\n",
       "      <td>0.127470</td>\n",
       "      <td>Snack Foods</td>\n",
       "      <td>107.7622</td>\n",
       "      <td>OUT027</td>\n",
       "      <td>1985</td>\n",
       "      <td>Medium</td>\n",
       "      <td>Tier 3</td>\n",
       "      <td>Supermarket Type3</td>\n",
       "      <td>4022.7636</td>\n",
       "    </tr>\n",
       "    <tr>\n",
       "      <th>8</th>\n",
       "      <td>FDH17</td>\n",
       "      <td>16.200</td>\n",
       "      <td>Regular</td>\n",
       "      <td>0.016687</td>\n",
       "      <td>Frozen Foods</td>\n",
       "      <td>96.9726</td>\n",
       "      <td>OUT045</td>\n",
       "      <td>2002</td>\n",
       "      <td>NaN</td>\n",
       "      <td>Tier 2</td>\n",
       "      <td>Supermarket Type1</td>\n",
       "      <td>1076.5986</td>\n",
       "    </tr>\n",
       "    <tr>\n",
       "      <th>9</th>\n",
       "      <td>FDU28</td>\n",
       "      <td>19.200</td>\n",
       "      <td>Regular</td>\n",
       "      <td>0.094450</td>\n",
       "      <td>Frozen Foods</td>\n",
       "      <td>187.8214</td>\n",
       "      <td>OUT017</td>\n",
       "      <td>2007</td>\n",
       "      <td>NaN</td>\n",
       "      <td>Tier 2</td>\n",
       "      <td>Supermarket Type1</td>\n",
       "      <td>4710.5350</td>\n",
       "    </tr>\n",
       "  </tbody>\n",
       "</table>\n",
       "</div>"
      ],
      "text/plain": [
       "  Item_Identifier  Item_Weight Item_Fat_Content  Item_Visibility  \\\n",
       "0           FDA15        9.300          Low Fat         0.016047   \n",
       "1           DRC01        5.920          Regular         0.019278   \n",
       "2           FDN15       17.500          Low Fat         0.016760   \n",
       "3           FDX07       19.200          Regular         0.000000   \n",
       "4           NCD19        8.930          Low Fat         0.000000   \n",
       "5           FDP36       10.395          Regular         0.000000   \n",
       "6           FDO10       13.650          Regular         0.012741   \n",
       "7           FDP10          NaN          Low Fat         0.127470   \n",
       "8           FDH17       16.200          Regular         0.016687   \n",
       "9           FDU28       19.200          Regular         0.094450   \n",
       "\n",
       "               Item_Type  Item_MRP Outlet_Identifier  \\\n",
       "0                  Dairy  249.8092            OUT049   \n",
       "1            Soft Drinks   48.2692            OUT018   \n",
       "2                   Meat  141.6180            OUT049   \n",
       "3  Fruits and Vegetables  182.0950            OUT010   \n",
       "4              Household   53.8614            OUT013   \n",
       "5           Baking Goods   51.4008            OUT018   \n",
       "6            Snack Foods   57.6588            OUT013   \n",
       "7            Snack Foods  107.7622            OUT027   \n",
       "8           Frozen Foods   96.9726            OUT045   \n",
       "9           Frozen Foods  187.8214            OUT017   \n",
       "\n",
       "   Outlet_Establishment_Year Outlet_Size Outlet_Location_Type  \\\n",
       "0                       1999      Medium               Tier 1   \n",
       "1                       2009      Medium               Tier 3   \n",
       "2                       1999      Medium               Tier 1   \n",
       "3                       1998         NaN               Tier 3   \n",
       "4                       1987        High               Tier 3   \n",
       "5                       2009      Medium               Tier 3   \n",
       "6                       1987        High               Tier 3   \n",
       "7                       1985      Medium               Tier 3   \n",
       "8                       2002         NaN               Tier 2   \n",
       "9                       2007         NaN               Tier 2   \n",
       "\n",
       "         Outlet_Type  Item_Outlet_Sales  \n",
       "0  Supermarket Type1          3735.1380  \n",
       "1  Supermarket Type2           443.4228  \n",
       "2  Supermarket Type1          2097.2700  \n",
       "3      Grocery Store           732.3800  \n",
       "4  Supermarket Type1           994.7052  \n",
       "5  Supermarket Type2           556.6088  \n",
       "6  Supermarket Type1           343.5528  \n",
       "7  Supermarket Type3          4022.7636  \n",
       "8  Supermarket Type1          1076.5986  \n",
       "9  Supermarket Type1          4710.5350  "
      ]
     },
     "execution_count": 41,
     "metadata": {},
     "output_type": "execute_result"
    }
   ],
   "source": [
    "data.head(10)"
   ]
  },
  {
   "cell_type": "code",
   "execution_count": 42,
   "id": "5b25e027",
   "metadata": {},
   "outputs": [
    {
     "data": {
      "text/plain": [
       "(8523, 12)"
      ]
     },
     "execution_count": 42,
     "metadata": {},
     "output_type": "execute_result"
    }
   ],
   "source": [
    "data.shape"
   ]
  },
  {
   "cell_type": "code",
   "execution_count": 43,
   "id": "da99dee9",
   "metadata": {},
   "outputs": [
    {
     "data": {
      "text/plain": [
       "Index(['Item_Identifier', 'Item_Weight', 'Item_Fat_Content', 'Item_Visibility',\n",
       "       'Item_Type', 'Item_MRP', 'Outlet_Identifier',\n",
       "       'Outlet_Establishment_Year', 'Outlet_Size', 'Outlet_Location_Type',\n",
       "       'Outlet_Type', 'Item_Outlet_Sales'],\n",
       "      dtype='object')"
      ]
     },
     "execution_count": 43,
     "metadata": {},
     "output_type": "execute_result"
    }
   ],
   "source": [
    "data.columns"
   ]
  },
  {
   "cell_type": "code",
   "execution_count": 44,
   "id": "8d5d6616",
   "metadata": {},
   "outputs": [
    {
     "data": {
      "text/plain": [
       "Item_Identifier               object\n",
       "Item_Weight                  float64\n",
       "Item_Fat_Content              object\n",
       "Item_Visibility              float64\n",
       "Item_Type                     object\n",
       "Item_MRP                     float64\n",
       "Outlet_Identifier             object\n",
       "Outlet_Establishment_Year      int64\n",
       "Outlet_Size                   object\n",
       "Outlet_Location_Type          object\n",
       "Outlet_Type                   object\n",
       "Item_Outlet_Sales            float64\n",
       "dtype: object"
      ]
     },
     "execution_count": 44,
     "metadata": {},
     "output_type": "execute_result"
    }
   ],
   "source": [
    "data.dtypes"
   ]
  },
  {
   "cell_type": "code",
   "execution_count": 45,
   "id": "4037a919",
   "metadata": {},
   "outputs": [
    {
     "data": {
      "text/plain": [
       "Item_Identifier                 0\n",
       "Item_Weight                  1463\n",
       "Item_Fat_Content                0\n",
       "Item_Visibility                 0\n",
       "Item_Type                       0\n",
       "Item_MRP                        0\n",
       "Outlet_Identifier               0\n",
       "Outlet_Establishment_Year       0\n",
       "Outlet_Size                  2410\n",
       "Outlet_Location_Type            0\n",
       "Outlet_Type                     0\n",
       "Item_Outlet_Sales               0\n",
       "dtype: int64"
      ]
     },
     "execution_count": 45,
     "metadata": {},
     "output_type": "execute_result"
    }
   ],
   "source": [
    "data.isna().sum()"
   ]
  },
  {
   "cell_type": "code",
   "execution_count": 46,
   "id": "1e11337a",
   "metadata": {},
   "outputs": [
    {
     "data": {
      "text/html": [
       "<div>\n",
       "<style scoped>\n",
       "    .dataframe tbody tr th:only-of-type {\n",
       "        vertical-align: middle;\n",
       "    }\n",
       "\n",
       "    .dataframe tbody tr th {\n",
       "        vertical-align: top;\n",
       "    }\n",
       "\n",
       "    .dataframe thead th {\n",
       "        text-align: right;\n",
       "    }\n",
       "</style>\n",
       "<table border=\"1\" class=\"dataframe\">\n",
       "  <thead>\n",
       "    <tr style=\"text-align: right;\">\n",
       "      <th></th>\n",
       "      <th>Item_Weight</th>\n",
       "      <th>Item_Visibility</th>\n",
       "      <th>Item_MRP</th>\n",
       "      <th>Outlet_Establishment_Year</th>\n",
       "      <th>Item_Outlet_Sales</th>\n",
       "    </tr>\n",
       "  </thead>\n",
       "  <tbody>\n",
       "    <tr>\n",
       "      <th>count</th>\n",
       "      <td>7060.000000</td>\n",
       "      <td>8523.000000</td>\n",
       "      <td>8523.000000</td>\n",
       "      <td>8523.000000</td>\n",
       "      <td>8523.000000</td>\n",
       "    </tr>\n",
       "    <tr>\n",
       "      <th>mean</th>\n",
       "      <td>12.857645</td>\n",
       "      <td>0.066132</td>\n",
       "      <td>140.992782</td>\n",
       "      <td>1997.831867</td>\n",
       "      <td>2181.288914</td>\n",
       "    </tr>\n",
       "    <tr>\n",
       "      <th>std</th>\n",
       "      <td>4.643456</td>\n",
       "      <td>0.051598</td>\n",
       "      <td>62.275067</td>\n",
       "      <td>8.371760</td>\n",
       "      <td>1706.499616</td>\n",
       "    </tr>\n",
       "    <tr>\n",
       "      <th>min</th>\n",
       "      <td>4.555000</td>\n",
       "      <td>0.000000</td>\n",
       "      <td>31.290000</td>\n",
       "      <td>1985.000000</td>\n",
       "      <td>33.290000</td>\n",
       "    </tr>\n",
       "    <tr>\n",
       "      <th>25%</th>\n",
       "      <td>8.773750</td>\n",
       "      <td>0.026989</td>\n",
       "      <td>93.826500</td>\n",
       "      <td>1987.000000</td>\n",
       "      <td>834.247400</td>\n",
       "    </tr>\n",
       "    <tr>\n",
       "      <th>50%</th>\n",
       "      <td>12.600000</td>\n",
       "      <td>0.053931</td>\n",
       "      <td>143.012800</td>\n",
       "      <td>1999.000000</td>\n",
       "      <td>1794.331000</td>\n",
       "    </tr>\n",
       "    <tr>\n",
       "      <th>75%</th>\n",
       "      <td>16.850000</td>\n",
       "      <td>0.094585</td>\n",
       "      <td>185.643700</td>\n",
       "      <td>2004.000000</td>\n",
       "      <td>3101.296400</td>\n",
       "    </tr>\n",
       "    <tr>\n",
       "      <th>max</th>\n",
       "      <td>21.350000</td>\n",
       "      <td>0.328391</td>\n",
       "      <td>266.888400</td>\n",
       "      <td>2009.000000</td>\n",
       "      <td>13086.964800</td>\n",
       "    </tr>\n",
       "  </tbody>\n",
       "</table>\n",
       "</div>"
      ],
      "text/plain": [
       "       Item_Weight  Item_Visibility     Item_MRP  Outlet_Establishment_Year  \\\n",
       "count  7060.000000      8523.000000  8523.000000                8523.000000   \n",
       "mean     12.857645         0.066132   140.992782                1997.831867   \n",
       "std       4.643456         0.051598    62.275067                   8.371760   \n",
       "min       4.555000         0.000000    31.290000                1985.000000   \n",
       "25%       8.773750         0.026989    93.826500                1987.000000   \n",
       "50%      12.600000         0.053931   143.012800                1999.000000   \n",
       "75%      16.850000         0.094585   185.643700                2004.000000   \n",
       "max      21.350000         0.328391   266.888400                2009.000000   \n",
       "\n",
       "       Item_Outlet_Sales  \n",
       "count        8523.000000  \n",
       "mean         2181.288914  \n",
       "std          1706.499616  \n",
       "min            33.290000  \n",
       "25%           834.247400  \n",
       "50%          1794.331000  \n",
       "75%          3101.296400  \n",
       "max         13086.964800  "
      ]
     },
     "execution_count": 46,
     "metadata": {},
     "output_type": "execute_result"
    }
   ],
   "source": [
    "data.describe()"
   ]
  },
  {
   "cell_type": "code",
   "execution_count": 47,
   "id": "a3467c85",
   "metadata": {},
   "outputs": [
    {
     "name": "stdout",
     "output_type": "stream",
     "text": [
      "Requirement already satisfied: scikit-learn in c:\\users\\maitreyee\\anaconda3\\lib\\site-packages (0.24.2)\n",
      "Requirement already satisfied: joblib>=0.11 in c:\\users\\maitreyee\\anaconda3\\lib\\site-packages (from scikit-learn) (1.1.0)\n",
      "Requirement already satisfied: threadpoolctl>=2.0.0 in c:\\users\\maitreyee\\anaconda3\\lib\\site-packages (from scikit-learn) (2.2.0)\n",
      "Requirement already satisfied: numpy>=1.13.3 in c:\\users\\maitreyee\\anaconda3\\lib\\site-packages (from scikit-learn) (1.20.3)\n",
      "Requirement already satisfied: scipy>=0.19.1 in c:\\users\\maitreyee\\anaconda3\\lib\\site-packages (from scikit-learn) (1.7.1)\n"
     ]
    }
   ],
   "source": [
    "import sklearn\n",
    "!pip install scikit-learn\n"
   ]
  },
  {
   "cell_type": "code",
   "execution_count": 48,
   "id": "acde5726",
   "metadata": {},
   "outputs": [
    {
     "data": {
      "text/plain": [
       "'0.24.2'"
      ]
     },
     "execution_count": 48,
     "metadata": {},
     "output_type": "execute_result"
    }
   ],
   "source": [
    "sklearn.__version__"
   ]
  },
  {
   "cell_type": "code",
   "execution_count": 49,
   "id": "2dc9e78a",
   "metadata": {},
   "outputs": [],
   "source": [
    "from sklearn.impute import SimpleImputer"
   ]
  },
  {
   "cell_type": "code",
   "execution_count": 50,
   "id": "9ff8d141",
   "metadata": {},
   "outputs": [],
   "source": [
    "impute_weight=SimpleImputer(strategy = 'mean')\n",
    "impute_size=SimpleImputer(strategy = 'most frequent')"
   ]
  },
  {
   "cell_type": "code",
   "execution_count": 51,
   "id": "9fd0605b",
   "metadata": {},
   "outputs": [
    {
     "ename": "KeyError",
     "evalue": "\"None of [Index(['item_weight'], dtype='object')] are in the [columns]\"",
     "output_type": "error",
     "traceback": [
      "\u001b[1;31m---------------------------------------------------------------------------\u001b[0m",
      "\u001b[1;31mKeyError\u001b[0m                                  Traceback (most recent call last)",
      "\u001b[1;32mC:\\Users\\MAITRE~1\\AppData\\Local\\Temp/ipykernel_11884/979360064.py\u001b[0m in \u001b[0;36m<module>\u001b[1;34m\u001b[0m\n\u001b[1;32m----> 1\u001b[1;33m \u001b[0mimpute_weight\u001b[0m\u001b[1;33m.\u001b[0m\u001b[0mfit\u001b[0m\u001b[1;33m(\u001b[0m\u001b[0mdata\u001b[0m\u001b[1;33m[\u001b[0m\u001b[1;33m[\u001b[0m\u001b[1;34m'item_weight'\u001b[0m\u001b[1;33m]\u001b[0m\u001b[1;33m]\u001b[0m\u001b[1;33m)\u001b[0m\u001b[1;33m\u001b[0m\u001b[1;33m\u001b[0m\u001b[0m\n\u001b[0m\u001b[0;32m      2\u001b[0m \u001b[0mdata\u001b[0m\u001b[1;33m.\u001b[0m\u001b[0mitem_weight\u001b[0m \u001b[1;33m=\u001b[0m \u001b[0mimpute_weight\u001b[0m\u001b[1;33m.\u001b[0m\u001b[0mtransform\u001b[0m\u001b[1;33m(\u001b[0m\u001b[1;33m[\u001b[0m\u001b[1;33m[\u001b[0m\u001b[1;34m'item_weight'\u001b[0m\u001b[1;33m]\u001b[0m\u001b[1;33m]\u001b[0m\u001b[1;33m)\u001b[0m\u001b[1;33m\u001b[0m\u001b[1;33m\u001b[0m\u001b[0m\n",
      "\u001b[1;32m~\\anaconda3\\lib\\site-packages\\pandas\\core\\frame.py\u001b[0m in \u001b[0;36m__getitem__\u001b[1;34m(self, key)\u001b[0m\n\u001b[0;32m   3462\u001b[0m             \u001b[1;32mif\u001b[0m \u001b[0mis_iterator\u001b[0m\u001b[1;33m(\u001b[0m\u001b[0mkey\u001b[0m\u001b[1;33m)\u001b[0m\u001b[1;33m:\u001b[0m\u001b[1;33m\u001b[0m\u001b[1;33m\u001b[0m\u001b[0m\n\u001b[0;32m   3463\u001b[0m                 \u001b[0mkey\u001b[0m \u001b[1;33m=\u001b[0m \u001b[0mlist\u001b[0m\u001b[1;33m(\u001b[0m\u001b[0mkey\u001b[0m\u001b[1;33m)\u001b[0m\u001b[1;33m\u001b[0m\u001b[1;33m\u001b[0m\u001b[0m\n\u001b[1;32m-> 3464\u001b[1;33m             \u001b[0mindexer\u001b[0m \u001b[1;33m=\u001b[0m \u001b[0mself\u001b[0m\u001b[1;33m.\u001b[0m\u001b[0mloc\u001b[0m\u001b[1;33m.\u001b[0m\u001b[0m_get_listlike_indexer\u001b[0m\u001b[1;33m(\u001b[0m\u001b[0mkey\u001b[0m\u001b[1;33m,\u001b[0m \u001b[0maxis\u001b[0m\u001b[1;33m=\u001b[0m\u001b[1;36m1\u001b[0m\u001b[1;33m)\u001b[0m\u001b[1;33m[\u001b[0m\u001b[1;36m1\u001b[0m\u001b[1;33m]\u001b[0m\u001b[1;33m\u001b[0m\u001b[1;33m\u001b[0m\u001b[0m\n\u001b[0m\u001b[0;32m   3465\u001b[0m \u001b[1;33m\u001b[0m\u001b[0m\n\u001b[0;32m   3466\u001b[0m         \u001b[1;31m# take() does not accept boolean indexers\u001b[0m\u001b[1;33m\u001b[0m\u001b[1;33m\u001b[0m\u001b[0m\n",
      "\u001b[1;32m~\\anaconda3\\lib\\site-packages\\pandas\\core\\indexing.py\u001b[0m in \u001b[0;36m_get_listlike_indexer\u001b[1;34m(self, key, axis)\u001b[0m\n\u001b[0;32m   1312\u001b[0m             \u001b[0mkeyarr\u001b[0m\u001b[1;33m,\u001b[0m \u001b[0mindexer\u001b[0m\u001b[1;33m,\u001b[0m \u001b[0mnew_indexer\u001b[0m \u001b[1;33m=\u001b[0m \u001b[0max\u001b[0m\u001b[1;33m.\u001b[0m\u001b[0m_reindex_non_unique\u001b[0m\u001b[1;33m(\u001b[0m\u001b[0mkeyarr\u001b[0m\u001b[1;33m)\u001b[0m\u001b[1;33m\u001b[0m\u001b[1;33m\u001b[0m\u001b[0m\n\u001b[0;32m   1313\u001b[0m \u001b[1;33m\u001b[0m\u001b[0m\n\u001b[1;32m-> 1314\u001b[1;33m         \u001b[0mself\u001b[0m\u001b[1;33m.\u001b[0m\u001b[0m_validate_read_indexer\u001b[0m\u001b[1;33m(\u001b[0m\u001b[0mkeyarr\u001b[0m\u001b[1;33m,\u001b[0m \u001b[0mindexer\u001b[0m\u001b[1;33m,\u001b[0m \u001b[0maxis\u001b[0m\u001b[1;33m)\u001b[0m\u001b[1;33m\u001b[0m\u001b[1;33m\u001b[0m\u001b[0m\n\u001b[0m\u001b[0;32m   1315\u001b[0m \u001b[1;33m\u001b[0m\u001b[0m\n\u001b[0;32m   1316\u001b[0m         if needs_i8_conversion(ax.dtype) or isinstance(\n",
      "\u001b[1;32m~\\anaconda3\\lib\\site-packages\\pandas\\core\\indexing.py\u001b[0m in \u001b[0;36m_validate_read_indexer\u001b[1;34m(self, key, indexer, axis)\u001b[0m\n\u001b[0;32m   1372\u001b[0m                 \u001b[1;32mif\u001b[0m \u001b[0muse_interval_msg\u001b[0m\u001b[1;33m:\u001b[0m\u001b[1;33m\u001b[0m\u001b[1;33m\u001b[0m\u001b[0m\n\u001b[0;32m   1373\u001b[0m                     \u001b[0mkey\u001b[0m \u001b[1;33m=\u001b[0m \u001b[0mlist\u001b[0m\u001b[1;33m(\u001b[0m\u001b[0mkey\u001b[0m\u001b[1;33m)\u001b[0m\u001b[1;33m\u001b[0m\u001b[1;33m\u001b[0m\u001b[0m\n\u001b[1;32m-> 1374\u001b[1;33m                 \u001b[1;32mraise\u001b[0m \u001b[0mKeyError\u001b[0m\u001b[1;33m(\u001b[0m\u001b[1;34mf\"None of [{key}] are in the [{axis_name}]\"\u001b[0m\u001b[1;33m)\u001b[0m\u001b[1;33m\u001b[0m\u001b[1;33m\u001b[0m\u001b[0m\n\u001b[0m\u001b[0;32m   1375\u001b[0m \u001b[1;33m\u001b[0m\u001b[0m\n\u001b[0;32m   1376\u001b[0m             \u001b[0mnot_found\u001b[0m \u001b[1;33m=\u001b[0m \u001b[0mlist\u001b[0m\u001b[1;33m(\u001b[0m\u001b[0mensure_index\u001b[0m\u001b[1;33m(\u001b[0m\u001b[0mkey\u001b[0m\u001b[1;33m)\u001b[0m\u001b[1;33m[\u001b[0m\u001b[0mmissing_mask\u001b[0m\u001b[1;33m.\u001b[0m\u001b[0mnonzero\u001b[0m\u001b[1;33m(\u001b[0m\u001b[1;33m)\u001b[0m\u001b[1;33m[\u001b[0m\u001b[1;36m0\u001b[0m\u001b[1;33m]\u001b[0m\u001b[1;33m]\u001b[0m\u001b[1;33m.\u001b[0m\u001b[0munique\u001b[0m\u001b[1;33m(\u001b[0m\u001b[1;33m)\u001b[0m\u001b[1;33m)\u001b[0m\u001b[1;33m\u001b[0m\u001b[1;33m\u001b[0m\u001b[0m\n",
      "\u001b[1;31mKeyError\u001b[0m: \"None of [Index(['item_weight'], dtype='object')] are in the [columns]\""
     ]
    }
   ],
   "source": [
    "impute_weight.fit(data[['item_weight']])\n",
    "data.item_weight = impute_weight.transform([['item_weight']])"
   ]
  },
  {
   "cell_type": "code",
   "execution_count": 52,
   "id": "45bfe3f7",
   "metadata": {},
   "outputs": [
    {
     "ename": "KeyError",
     "evalue": "\"None of [Index(['outlet_size'], dtype='object')] are in the [columns]\"",
     "output_type": "error",
     "traceback": [
      "\u001b[1;31m---------------------------------------------------------------------------\u001b[0m",
      "\u001b[1;31mKeyError\u001b[0m                                  Traceback (most recent call last)",
      "\u001b[1;32mC:\\Users\\MAITRE~1\\AppData\\Local\\Temp/ipykernel_11884/1278953153.py\u001b[0m in \u001b[0;36m<module>\u001b[1;34m\u001b[0m\n\u001b[1;32m----> 1\u001b[1;33m \u001b[0mimpute_size\u001b[0m\u001b[1;33m.\u001b[0m\u001b[0mfit\u001b[0m\u001b[1;33m(\u001b[0m\u001b[0mdata\u001b[0m\u001b[1;33m[\u001b[0m\u001b[1;33m[\u001b[0m\u001b[1;34m'outlet_size'\u001b[0m\u001b[1;33m]\u001b[0m\u001b[1;33m]\u001b[0m\u001b[1;33m)\u001b[0m\u001b[1;33m\u001b[0m\u001b[1;33m\u001b[0m\u001b[0m\n\u001b[0m\u001b[0;32m      2\u001b[0m \u001b[0mdata\u001b[0m\u001b[1;33m.\u001b[0m\u001b[0moutlet_size\u001b[0m \u001b[1;33m=\u001b[0m \u001b[0mimpute_size\u001b[0m\u001b[1;33m.\u001b[0m\u001b[0mtransform\u001b[0m\u001b[1;33m(\u001b[0m\u001b[1;33m[\u001b[0m\u001b[1;33m[\u001b[0m\u001b[1;34m'outlet_size'\u001b[0m\u001b[1;33m]\u001b[0m\u001b[1;33m]\u001b[0m\u001b[1;33m)\u001b[0m\u001b[1;33m\u001b[0m\u001b[1;33m\u001b[0m\u001b[0m\n",
      "\u001b[1;32m~\\anaconda3\\lib\\site-packages\\pandas\\core\\frame.py\u001b[0m in \u001b[0;36m__getitem__\u001b[1;34m(self, key)\u001b[0m\n\u001b[0;32m   3462\u001b[0m             \u001b[1;32mif\u001b[0m \u001b[0mis_iterator\u001b[0m\u001b[1;33m(\u001b[0m\u001b[0mkey\u001b[0m\u001b[1;33m)\u001b[0m\u001b[1;33m:\u001b[0m\u001b[1;33m\u001b[0m\u001b[1;33m\u001b[0m\u001b[0m\n\u001b[0;32m   3463\u001b[0m                 \u001b[0mkey\u001b[0m \u001b[1;33m=\u001b[0m \u001b[0mlist\u001b[0m\u001b[1;33m(\u001b[0m\u001b[0mkey\u001b[0m\u001b[1;33m)\u001b[0m\u001b[1;33m\u001b[0m\u001b[1;33m\u001b[0m\u001b[0m\n\u001b[1;32m-> 3464\u001b[1;33m             \u001b[0mindexer\u001b[0m \u001b[1;33m=\u001b[0m \u001b[0mself\u001b[0m\u001b[1;33m.\u001b[0m\u001b[0mloc\u001b[0m\u001b[1;33m.\u001b[0m\u001b[0m_get_listlike_indexer\u001b[0m\u001b[1;33m(\u001b[0m\u001b[0mkey\u001b[0m\u001b[1;33m,\u001b[0m \u001b[0maxis\u001b[0m\u001b[1;33m=\u001b[0m\u001b[1;36m1\u001b[0m\u001b[1;33m)\u001b[0m\u001b[1;33m[\u001b[0m\u001b[1;36m1\u001b[0m\u001b[1;33m]\u001b[0m\u001b[1;33m\u001b[0m\u001b[1;33m\u001b[0m\u001b[0m\n\u001b[0m\u001b[0;32m   3465\u001b[0m \u001b[1;33m\u001b[0m\u001b[0m\n\u001b[0;32m   3466\u001b[0m         \u001b[1;31m# take() does not accept boolean indexers\u001b[0m\u001b[1;33m\u001b[0m\u001b[1;33m\u001b[0m\u001b[0m\n",
      "\u001b[1;32m~\\anaconda3\\lib\\site-packages\\pandas\\core\\indexing.py\u001b[0m in \u001b[0;36m_get_listlike_indexer\u001b[1;34m(self, key, axis)\u001b[0m\n\u001b[0;32m   1312\u001b[0m             \u001b[0mkeyarr\u001b[0m\u001b[1;33m,\u001b[0m \u001b[0mindexer\u001b[0m\u001b[1;33m,\u001b[0m \u001b[0mnew_indexer\u001b[0m \u001b[1;33m=\u001b[0m \u001b[0max\u001b[0m\u001b[1;33m.\u001b[0m\u001b[0m_reindex_non_unique\u001b[0m\u001b[1;33m(\u001b[0m\u001b[0mkeyarr\u001b[0m\u001b[1;33m)\u001b[0m\u001b[1;33m\u001b[0m\u001b[1;33m\u001b[0m\u001b[0m\n\u001b[0;32m   1313\u001b[0m \u001b[1;33m\u001b[0m\u001b[0m\n\u001b[1;32m-> 1314\u001b[1;33m         \u001b[0mself\u001b[0m\u001b[1;33m.\u001b[0m\u001b[0m_validate_read_indexer\u001b[0m\u001b[1;33m(\u001b[0m\u001b[0mkeyarr\u001b[0m\u001b[1;33m,\u001b[0m \u001b[0mindexer\u001b[0m\u001b[1;33m,\u001b[0m \u001b[0maxis\u001b[0m\u001b[1;33m)\u001b[0m\u001b[1;33m\u001b[0m\u001b[1;33m\u001b[0m\u001b[0m\n\u001b[0m\u001b[0;32m   1315\u001b[0m \u001b[1;33m\u001b[0m\u001b[0m\n\u001b[0;32m   1316\u001b[0m         if needs_i8_conversion(ax.dtype) or isinstance(\n",
      "\u001b[1;32m~\\anaconda3\\lib\\site-packages\\pandas\\core\\indexing.py\u001b[0m in \u001b[0;36m_validate_read_indexer\u001b[1;34m(self, key, indexer, axis)\u001b[0m\n\u001b[0;32m   1372\u001b[0m                 \u001b[1;32mif\u001b[0m \u001b[0muse_interval_msg\u001b[0m\u001b[1;33m:\u001b[0m\u001b[1;33m\u001b[0m\u001b[1;33m\u001b[0m\u001b[0m\n\u001b[0;32m   1373\u001b[0m                     \u001b[0mkey\u001b[0m \u001b[1;33m=\u001b[0m \u001b[0mlist\u001b[0m\u001b[1;33m(\u001b[0m\u001b[0mkey\u001b[0m\u001b[1;33m)\u001b[0m\u001b[1;33m\u001b[0m\u001b[1;33m\u001b[0m\u001b[0m\n\u001b[1;32m-> 1374\u001b[1;33m                 \u001b[1;32mraise\u001b[0m \u001b[0mKeyError\u001b[0m\u001b[1;33m(\u001b[0m\u001b[1;34mf\"None of [{key}] are in the [{axis_name}]\"\u001b[0m\u001b[1;33m)\u001b[0m\u001b[1;33m\u001b[0m\u001b[1;33m\u001b[0m\u001b[0m\n\u001b[0m\u001b[0;32m   1375\u001b[0m \u001b[1;33m\u001b[0m\u001b[0m\n\u001b[0;32m   1376\u001b[0m             \u001b[0mnot_found\u001b[0m \u001b[1;33m=\u001b[0m \u001b[0mlist\u001b[0m\u001b[1;33m(\u001b[0m\u001b[0mensure_index\u001b[0m\u001b[1;33m(\u001b[0m\u001b[0mkey\u001b[0m\u001b[1;33m)\u001b[0m\u001b[1;33m[\u001b[0m\u001b[0mmissing_mask\u001b[0m\u001b[1;33m.\u001b[0m\u001b[0mnonzero\u001b[0m\u001b[1;33m(\u001b[0m\u001b[1;33m)\u001b[0m\u001b[1;33m[\u001b[0m\u001b[1;36m0\u001b[0m\u001b[1;33m]\u001b[0m\u001b[1;33m]\u001b[0m\u001b[1;33m.\u001b[0m\u001b[0munique\u001b[0m\u001b[1;33m(\u001b[0m\u001b[1;33m)\u001b[0m\u001b[1;33m)\u001b[0m\u001b[1;33m\u001b[0m\u001b[1;33m\u001b[0m\u001b[0m\n",
      "\u001b[1;31mKeyError\u001b[0m: \"None of [Index(['outlet_size'], dtype='object')] are in the [columns]\""
     ]
    }
   ],
   "source": [
    "impute_size.fit(data[['outlet_size']])\n",
    "data.outlet_size = impute_size.transform([['outlet_size']])"
   ]
  },
  {
   "cell_type": "code",
   "execution_count": 53,
   "id": "a96f41ec",
   "metadata": {},
   "outputs": [],
   "source": [
    "from sklearn.linear_model import LinearRegression\n",
    "from sklearn.tree import DecisionTreeClassifier"
   ]
  },
  {
   "cell_type": "code",
   "execution_count": 54,
   "id": "2e7c6f73",
   "metadata": {},
   "outputs": [
    {
     "ename": "ImportError",
     "evalue": "cannot import name 'pipeline' from 'sklearn.pipeline' (C:\\Users\\Maitreyee\\anaconda3\\lib\\site-packages\\sklearn\\pipeline.py)",
     "output_type": "error",
     "traceback": [
      "\u001b[1;31m---------------------------------------------------------------------------\u001b[0m",
      "\u001b[1;31mImportError\u001b[0m                               Traceback (most recent call last)",
      "\u001b[1;32mC:\\Users\\MAITRE~1\\AppData\\Local\\Temp/ipykernel_11884/2371603922.py\u001b[0m in \u001b[0;36m<module>\u001b[1;34m\u001b[0m\n\u001b[1;32m----> 1\u001b[1;33m \u001b[1;32mfrom\u001b[0m \u001b[0msklearn\u001b[0m\u001b[1;33m.\u001b[0m\u001b[0mpipeline\u001b[0m \u001b[1;32mimport\u001b[0m \u001b[0mpipeline\u001b[0m\u001b[1;33m\u001b[0m\u001b[1;33m\u001b[0m\u001b[0m\n\u001b[0m",
      "\u001b[1;31mImportError\u001b[0m: cannot import name 'pipeline' from 'sklearn.pipeline' (C:\\Users\\Maitreyee\\anaconda3\\lib\\site-packages\\sklearn\\pipeline.py)"
     ]
    }
   ],
   "source": [
    "from sklearn.pipeline import pipeline"
   ]
  },
  {
   "cell_type": "code",
   "execution_count": 5,
   "id": "6b954157",
   "metadata": {},
   "outputs": [
    {
     "name": "stdout",
     "output_type": "stream",
     "text": [
      "root: C:\\\\\n",
      "input file path: C:\\\\Users\\Maitreyee\\OneDrive\\Documents\\Personal_Development\\Certification_Efforts\\Analytics_Vidhya\\Input_Data\\File\\\n",
      "input file :  C:\\\\Users\\Maitreyee\\OneDrive\\Documents\\Personal_Development\\Certification_Efforts\\Analytics_Vidhya\\Input_Data\\File\\churn_prediction.csv\n"
     ]
    }
   ],
   "source": [
    "import numpy as np \n",
    "import pandas as pd\n",
    "\n",
    "ROOT_VAR = \"C:\\\\\\\\\"\n",
    "a=ROOT_VAR\n",
    "print(\"root:\", a)\n",
    "input_file_path = a + \"Users\\Maitreyee\\OneDrive\\Documents\\Personal_Development\\Certification_Efforts\\Analytics_Vidhya\\Input_Data\\File\\\\\"\n",
    "print(\"input file path: \" + str(input_file_path))\n",
    "input_file=input_file_path + \"churn_prediction.csv\"\n",
    "print(\"input file : \",input_file)\n",
    "data=pd.read_csv(input_file)"
   ]
  },
  {
   "cell_type": "code",
   "execution_count": 6,
   "id": "c13a5b8f",
   "metadata": {},
   "outputs": [
    {
     "data": {
      "text/plain": [
       "customer_id                         int64\n",
       "vintage                             int64\n",
       "age                                 int64\n",
       "gender                             object\n",
       "dependents                        float64\n",
       "occupation                         object\n",
       "city                              float64\n",
       "customer_nw_category                int64\n",
       "branch_code                         int64\n",
       "current_balance                   float64\n",
       "previous_month_end_balance        float64\n",
       "average_monthly_balance_prevQ     float64\n",
       "average_monthly_balance_prevQ2    float64\n",
       "current_month_credit              float64\n",
       "previous_month_credit             float64\n",
       "current_month_debit               float64\n",
       "previous_month_debit              float64\n",
       "current_month_balance             float64\n",
       "previous_month_balance            float64\n",
       "churn                               int64\n",
       "last_transaction                   object\n",
       "dtype: object"
      ]
     },
     "execution_count": 6,
     "metadata": {},
     "output_type": "execute_result"
    }
   ],
   "source": [
    "data.dtypes"
   ]
  },
  {
   "cell_type": "code",
   "execution_count": 7,
   "id": "8d31c409",
   "metadata": {},
   "outputs": [],
   "source": [
    "numerical_cols = data.select_dtypes(include=['int','float']).columns  "
   ]
  },
  {
   "cell_type": "code",
   "execution_count": 8,
   "id": "9b0eb12e",
   "metadata": {},
   "outputs": [
    {
     "data": {
      "text/plain": [
       "Index(['customer_id', 'vintage', 'age', 'dependents', 'city',\n",
       "       'customer_nw_category', 'branch_code', 'current_balance',\n",
       "       'previous_month_end_balance', 'average_monthly_balance_prevQ',\n",
       "       'average_monthly_balance_prevQ2', 'current_month_credit',\n",
       "       'previous_month_credit', 'current_month_debit', 'previous_month_debit',\n",
       "       'current_month_balance', 'previous_month_balance', 'churn'],\n",
       "      dtype='object')"
      ]
     },
     "execution_count": 8,
     "metadata": {},
     "output_type": "execute_result"
    }
   ],
   "source": [
    "numerical_cols"
   ]
  },
  {
   "cell_type": "code",
   "execution_count": 9,
   "id": "c37b812b",
   "metadata": {},
   "outputs": [
    {
     "data": {
      "text/html": [
       "<div>\n",
       "<style scoped>\n",
       "    .dataframe tbody tr th:only-of-type {\n",
       "        vertical-align: middle;\n",
       "    }\n",
       "\n",
       "    .dataframe tbody tr th {\n",
       "        vertical-align: top;\n",
       "    }\n",
       "\n",
       "    .dataframe thead th {\n",
       "        text-align: right;\n",
       "    }\n",
       "</style>\n",
       "<table border=\"1\" class=\"dataframe\">\n",
       "  <thead>\n",
       "    <tr style=\"text-align: right;\">\n",
       "      <th></th>\n",
       "      <th>customer_id</th>\n",
       "      <th>vintage</th>\n",
       "      <th>age</th>\n",
       "      <th>gender</th>\n",
       "      <th>dependents</th>\n",
       "      <th>occupation</th>\n",
       "      <th>city</th>\n",
       "      <th>customer_nw_category</th>\n",
       "      <th>branch_code</th>\n",
       "      <th>current_balance</th>\n",
       "      <th>...</th>\n",
       "      <th>average_monthly_balance_prevQ</th>\n",
       "      <th>average_monthly_balance_prevQ2</th>\n",
       "      <th>current_month_credit</th>\n",
       "      <th>previous_month_credit</th>\n",
       "      <th>current_month_debit</th>\n",
       "      <th>previous_month_debit</th>\n",
       "      <th>current_month_balance</th>\n",
       "      <th>previous_month_balance</th>\n",
       "      <th>churn</th>\n",
       "      <th>last_transaction</th>\n",
       "    </tr>\n",
       "  </thead>\n",
       "  <tbody>\n",
       "    <tr>\n",
       "      <th>12608</th>\n",
       "      <td>13467</td>\n",
       "      <td>2140</td>\n",
       "      <td>80</td>\n",
       "      <td>Male</td>\n",
       "      <td>0.0</td>\n",
       "      <td>retired</td>\n",
       "      <td>1096.0</td>\n",
       "      <td>1</td>\n",
       "      <td>27</td>\n",
       "      <td>-5503.96</td>\n",
       "      <td>...</td>\n",
       "      <td>1694.57</td>\n",
       "      <td>868.26</td>\n",
       "      <td>9471.01</td>\n",
       "      <td>2680.04</td>\n",
       "      <td>15229.44</td>\n",
       "      <td>7859.37</td>\n",
       "      <td>1050.17</td>\n",
       "      <td>2002.97</td>\n",
       "      <td>1</td>\n",
       "      <td>26-12-2019</td>\n",
       "    </tr>\n",
       "  </tbody>\n",
       "</table>\n",
       "<p>1 rows × 21 columns</p>\n",
       "</div>"
      ],
      "text/plain": [
       "       customer_id  vintage  age gender  dependents occupation    city  \\\n",
       "12608        13467     2140   80   Male         0.0    retired  1096.0   \n",
       "\n",
       "       customer_nw_category  branch_code  current_balance  ...  \\\n",
       "12608                     1           27         -5503.96  ...   \n",
       "\n",
       "       average_monthly_balance_prevQ  average_monthly_balance_prevQ2  \\\n",
       "12608                        1694.57                          868.26   \n",
       "\n",
       "       current_month_credit  previous_month_credit  current_month_debit  \\\n",
       "12608               9471.01                2680.04             15229.44   \n",
       "\n",
       "       previous_month_debit  current_month_balance  previous_month_balance  \\\n",
       "12608               7859.37                1050.17                 2002.97   \n",
       "\n",
       "       churn  last_transaction  \n",
       "12608      1        26-12-2019  \n",
       "\n",
       "[1 rows x 21 columns]"
      ]
     },
     "execution_count": 9,
     "metadata": {},
     "output_type": "execute_result"
    }
   ],
   "source": [
    "data[data['current_balance'] == data['current_balance'].min()]"
   ]
  },
  {
   "cell_type": "code",
   "execution_count": 10,
   "id": "93b29203",
   "metadata": {},
   "outputs": [
    {
     "data": {
      "text/html": [
       "<div>\n",
       "<style scoped>\n",
       "    .dataframe tbody tr th:only-of-type {\n",
       "        vertical-align: middle;\n",
       "    }\n",
       "\n",
       "    .dataframe tbody tr th {\n",
       "        vertical-align: top;\n",
       "    }\n",
       "\n",
       "    .dataframe thead th {\n",
       "        text-align: right;\n",
       "    }\n",
       "</style>\n",
       "<table border=\"1\" class=\"dataframe\">\n",
       "  <thead>\n",
       "    <tr style=\"text-align: right;\">\n",
       "      <th></th>\n",
       "      <th>customer_id</th>\n",
       "      <th>vintage</th>\n",
       "      <th>age</th>\n",
       "      <th>gender</th>\n",
       "      <th>dependents</th>\n",
       "      <th>occupation</th>\n",
       "      <th>city</th>\n",
       "      <th>customer_nw_category</th>\n",
       "      <th>branch_code</th>\n",
       "      <th>current_balance</th>\n",
       "      <th>...</th>\n",
       "      <th>average_monthly_balance_prevQ</th>\n",
       "      <th>average_monthly_balance_prevQ2</th>\n",
       "      <th>current_month_credit</th>\n",
       "      <th>previous_month_credit</th>\n",
       "      <th>current_month_debit</th>\n",
       "      <th>previous_month_debit</th>\n",
       "      <th>current_month_balance</th>\n",
       "      <th>previous_month_balance</th>\n",
       "      <th>churn</th>\n",
       "      <th>last_transaction</th>\n",
       "    </tr>\n",
       "  </thead>\n",
       "  <tbody>\n",
       "    <tr>\n",
       "      <th>9908</th>\n",
       "      <td>10575</td>\n",
       "      <td>2223</td>\n",
       "      <td>90</td>\n",
       "      <td>NaN</td>\n",
       "      <td>NaN</td>\n",
       "      <td>self_employed</td>\n",
       "      <td>243.0</td>\n",
       "      <td>2</td>\n",
       "      <td>2542</td>\n",
       "      <td>5905904.03</td>\n",
       "      <td>...</td>\n",
       "      <td>5700289.57</td>\n",
       "      <td>5010170.1</td>\n",
       "      <td>5232.34</td>\n",
       "      <td>1452.87</td>\n",
       "      <td>17327.27</td>\n",
       "      <td>17248.3</td>\n",
       "      <td>5778184.77</td>\n",
       "      <td>5720144.5</td>\n",
       "      <td>0</td>\n",
       "      <td>13-12-2019</td>\n",
       "    </tr>\n",
       "  </tbody>\n",
       "</table>\n",
       "<p>1 rows × 21 columns</p>\n",
       "</div>"
      ],
      "text/plain": [
       "      customer_id  vintage  age gender  dependents     occupation   city  \\\n",
       "9908        10575     2223   90    NaN         NaN  self_employed  243.0   \n",
       "\n",
       "      customer_nw_category  branch_code  current_balance  ...  \\\n",
       "9908                     2         2542       5905904.03  ...   \n",
       "\n",
       "      average_monthly_balance_prevQ  average_monthly_balance_prevQ2  \\\n",
       "9908                     5700289.57                       5010170.1   \n",
       "\n",
       "      current_month_credit  previous_month_credit  current_month_debit  \\\n",
       "9908               5232.34                1452.87             17327.27   \n",
       "\n",
       "      previous_month_debit  current_month_balance  previous_month_balance  \\\n",
       "9908               17248.3             5778184.77               5720144.5   \n",
       "\n",
       "      churn  last_transaction  \n",
       "9908      0        13-12-2019  \n",
       "\n",
       "[1 rows x 21 columns]"
      ]
     },
     "execution_count": 10,
     "metadata": {},
     "output_type": "execute_result"
    }
   ],
   "source": [
    "data[data['current_balance']==data['current_balance'].max()]"
   ]
  },
  {
   "cell_type": "code",
   "execution_count": 15,
   "id": "6df41d21",
   "metadata": {},
   "outputs": [
    {
     "name": "stdout",
     "output_type": "stream",
     "text": [
      "1 90\n"
     ]
    }
   ],
   "source": [
    "print( data['age'].min(), data['age'].max())"
   ]
  },
  {
   "cell_type": "code",
   "execution_count": 17,
   "id": "6feb0d94",
   "metadata": {},
   "outputs": [
    {
     "data": {
      "text/plain": [
       "customer_id                           1.00\n",
       "vintage                              73.00\n",
       "age                                   1.00\n",
       "dependents                            0.00\n",
       "city                                  0.00\n",
       "customer_nw_category                  1.00\n",
       "branch_code                           1.00\n",
       "current_balance                   -5503.96\n",
       "previous_month_end_balance        -3149.57\n",
       "average_monthly_balance_prevQ      1428.69\n",
       "average_monthly_balance_prevQ2   -16506.10\n",
       "current_month_credit                  0.01\n",
       "previous_month_credit                 0.01\n",
       "current_month_debit                   0.01\n",
       "previous_month_debit                  0.01\n",
       "current_month_balance             -3374.18\n",
       "previous_month_balance            -5171.92\n",
       "churn                                 0.00\n",
       "dtype: float64"
      ]
     },
     "execution_count": 17,
     "metadata": {},
     "output_type": "execute_result"
    }
   ],
   "source": [
    "data[numerical_cols].min()"
   ]
  },
  {
   "cell_type": "code",
   "execution_count": 22,
   "id": "1af93c19",
   "metadata": {},
   "outputs": [
    {
     "data": {
      "text/plain": [
       "customer_id                          30301.00\n",
       "vintage                               2476.00\n",
       "age                                     90.00\n",
       "dependents                              52.00\n",
       "city                                  1649.00\n",
       "customer_nw_category                     3.00\n",
       "branch_code                           4782.00\n",
       "current_balance                    5905904.03\n",
       "previous_month_end_balance         5740438.63\n",
       "average_monthly_balance_prevQ      5700289.57\n",
       "average_monthly_balance_prevQ2     5010170.10\n",
       "current_month_credit              12269845.39\n",
       "previous_month_credit              2361808.29\n",
       "current_month_debit                7637857.36\n",
       "previous_month_debit               1414168.06\n",
       "current_month_balance              5778184.77\n",
       "previous_month_balance             5720144.50\n",
       "churn                                    1.00\n",
       "dtype: float64"
      ]
     },
     "execution_count": 22,
     "metadata": {},
     "output_type": "execute_result"
    }
   ],
   "source": [
    "data[numerical_cols].max()"
   ]
  },
  {
   "cell_type": "code",
   "execution_count": 24,
   "id": "99971831",
   "metadata": {},
   "outputs": [
    {
     "name": "stdout",
     "output_type": "stream",
     "text": [
      "range of customer_id:[1,30301]\n",
      "range of vintage:[73,2476]\n",
      "range of age:[1,90]\n",
      "range of dependents:[0.0,52.0]\n",
      "range of city:[0.0,1649.0]\n",
      "range of customer_nw_category:[1,3]\n",
      "range of branch_code:[1,4782]\n",
      "range of current_balance:[-5503.96,5905904.03]\n",
      "range of previous_month_end_balance:[-3149.57,5740438.63]\n",
      "range of average_monthly_balance_prevQ:[1428.69,5700289.57]\n",
      "range of average_monthly_balance_prevQ2:[-16506.1,5010170.1]\n",
      "range of current_month_credit:[0.01,12269845.39]\n",
      "range of previous_month_credit:[0.01,2361808.29]\n",
      "range of current_month_debit:[0.01,7637857.36]\n",
      "range of previous_month_debit:[0.01,1414168.06]\n",
      "range of current_month_balance:[-3374.18,5778184.77]\n",
      "range of previous_month_balance:[-5171.92,5720144.5]\n",
      "range of churn:[0,1]\n"
     ]
    }
   ],
   "source": [
    "for col in numerical_cols:\n",
    "    print(\"range of {}{}{}{}{}{}{}{}\".format(col,\":\",\"\",\"[\",data[col].min(),\",\",data[col].max(),\"]\"))"
   ]
  },
  {
   "cell_type": "code",
   "execution_count": 25,
   "id": "4a81b750",
   "metadata": {},
   "outputs": [
    {
     "data": {
      "text/plain": [
       "(28382, 21)"
      ]
     },
     "execution_count": 25,
     "metadata": {},
     "output_type": "execute_result"
    }
   ],
   "source": [
    "data.shape"
   ]
  },
  {
   "cell_type": "code",
   "execution_count": 26,
   "id": "f228abb4",
   "metadata": {},
   "outputs": [
    {
     "data": {
      "text/html": [
       "<div>\n",
       "<style scoped>\n",
       "    .dataframe tbody tr th:only-of-type {\n",
       "        vertical-align: middle;\n",
       "    }\n",
       "\n",
       "    .dataframe tbody tr th {\n",
       "        vertical-align: top;\n",
       "    }\n",
       "\n",
       "    .dataframe thead th {\n",
       "        text-align: right;\n",
       "    }\n",
       "</style>\n",
       "<table border=\"1\" class=\"dataframe\">\n",
       "  <thead>\n",
       "    <tr style=\"text-align: right;\">\n",
       "      <th></th>\n",
       "      <th>customer_id</th>\n",
       "      <th>vintage</th>\n",
       "      <th>age</th>\n",
       "      <th>gender</th>\n",
       "      <th>dependents</th>\n",
       "      <th>occupation</th>\n",
       "      <th>city</th>\n",
       "      <th>customer_nw_category</th>\n",
       "      <th>branch_code</th>\n",
       "      <th>current_balance</th>\n",
       "      <th>...</th>\n",
       "      <th>average_monthly_balance_prevQ</th>\n",
       "      <th>average_monthly_balance_prevQ2</th>\n",
       "      <th>current_month_credit</th>\n",
       "      <th>previous_month_credit</th>\n",
       "      <th>current_month_debit</th>\n",
       "      <th>previous_month_debit</th>\n",
       "      <th>current_month_balance</th>\n",
       "      <th>previous_month_balance</th>\n",
       "      <th>churn</th>\n",
       "      <th>last_transaction</th>\n",
       "    </tr>\n",
       "  </thead>\n",
       "  <tbody>\n",
       "    <tr>\n",
       "      <th>0</th>\n",
       "      <td>1</td>\n",
       "      <td>2101</td>\n",
       "      <td>66</td>\n",
       "      <td>Male</td>\n",
       "      <td>0.0</td>\n",
       "      <td>self_employed</td>\n",
       "      <td>187.0</td>\n",
       "      <td>2</td>\n",
       "      <td>755</td>\n",
       "      <td>1458.71</td>\n",
       "      <td>...</td>\n",
       "      <td>1458.71</td>\n",
       "      <td>1449.07</td>\n",
       "      <td>0.20</td>\n",
       "      <td>0.20</td>\n",
       "      <td>0.20</td>\n",
       "      <td>0.20</td>\n",
       "      <td>1458.71</td>\n",
       "      <td>1458.71</td>\n",
       "      <td>0</td>\n",
       "      <td>21-05-2019</td>\n",
       "    </tr>\n",
       "    <tr>\n",
       "      <th>1</th>\n",
       "      <td>2</td>\n",
       "      <td>2348</td>\n",
       "      <td>35</td>\n",
       "      <td>Male</td>\n",
       "      <td>0.0</td>\n",
       "      <td>self_employed</td>\n",
       "      <td>NaN</td>\n",
       "      <td>2</td>\n",
       "      <td>3214</td>\n",
       "      <td>5390.37</td>\n",
       "      <td>...</td>\n",
       "      <td>7799.26</td>\n",
       "      <td>12419.41</td>\n",
       "      <td>0.56</td>\n",
       "      <td>0.56</td>\n",
       "      <td>5486.27</td>\n",
       "      <td>100.56</td>\n",
       "      <td>6496.78</td>\n",
       "      <td>8787.61</td>\n",
       "      <td>0</td>\n",
       "      <td>01-11-2019</td>\n",
       "    </tr>\n",
       "    <tr>\n",
       "      <th>2</th>\n",
       "      <td>4</td>\n",
       "      <td>2194</td>\n",
       "      <td>31</td>\n",
       "      <td>Male</td>\n",
       "      <td>0.0</td>\n",
       "      <td>salaried</td>\n",
       "      <td>146.0</td>\n",
       "      <td>2</td>\n",
       "      <td>41</td>\n",
       "      <td>3913.16</td>\n",
       "      <td>...</td>\n",
       "      <td>4910.17</td>\n",
       "      <td>2815.94</td>\n",
       "      <td>0.61</td>\n",
       "      <td>0.61</td>\n",
       "      <td>6046.73</td>\n",
       "      <td>259.23</td>\n",
       "      <td>5006.28</td>\n",
       "      <td>5070.14</td>\n",
       "      <td>0</td>\n",
       "      <td>NaT</td>\n",
       "    </tr>\n",
       "    <tr>\n",
       "      <th>3</th>\n",
       "      <td>5</td>\n",
       "      <td>2329</td>\n",
       "      <td>90</td>\n",
       "      <td>NaN</td>\n",
       "      <td>NaN</td>\n",
       "      <td>self_employed</td>\n",
       "      <td>1020.0</td>\n",
       "      <td>2</td>\n",
       "      <td>582</td>\n",
       "      <td>2291.91</td>\n",
       "      <td>...</td>\n",
       "      <td>2084.54</td>\n",
       "      <td>1006.54</td>\n",
       "      <td>0.47</td>\n",
       "      <td>0.47</td>\n",
       "      <td>0.47</td>\n",
       "      <td>2143.33</td>\n",
       "      <td>2291.91</td>\n",
       "      <td>1669.79</td>\n",
       "      <td>1</td>\n",
       "      <td>06-08-2019</td>\n",
       "    </tr>\n",
       "    <tr>\n",
       "      <th>4</th>\n",
       "      <td>6</td>\n",
       "      <td>1579</td>\n",
       "      <td>42</td>\n",
       "      <td>Male</td>\n",
       "      <td>2.0</td>\n",
       "      <td>self_employed</td>\n",
       "      <td>1494.0</td>\n",
       "      <td>3</td>\n",
       "      <td>388</td>\n",
       "      <td>927.72</td>\n",
       "      <td>...</td>\n",
       "      <td>1643.31</td>\n",
       "      <td>1871.12</td>\n",
       "      <td>0.33</td>\n",
       "      <td>714.61</td>\n",
       "      <td>588.62</td>\n",
       "      <td>1538.06</td>\n",
       "      <td>1157.15</td>\n",
       "      <td>1677.16</td>\n",
       "      <td>1</td>\n",
       "      <td>03-11-2019</td>\n",
       "    </tr>\n",
       "  </tbody>\n",
       "</table>\n",
       "<p>5 rows × 21 columns</p>\n",
       "</div>"
      ],
      "text/plain": [
       "   customer_id  vintage  age gender  dependents     occupation    city  \\\n",
       "0            1     2101   66   Male         0.0  self_employed   187.0   \n",
       "1            2     2348   35   Male         0.0  self_employed     NaN   \n",
       "2            4     2194   31   Male         0.0       salaried   146.0   \n",
       "3            5     2329   90    NaN         NaN  self_employed  1020.0   \n",
       "4            6     1579   42   Male         2.0  self_employed  1494.0   \n",
       "\n",
       "   customer_nw_category  branch_code  current_balance  ...  \\\n",
       "0                     2          755          1458.71  ...   \n",
       "1                     2         3214          5390.37  ...   \n",
       "2                     2           41          3913.16  ...   \n",
       "3                     2          582          2291.91  ...   \n",
       "4                     3          388           927.72  ...   \n",
       "\n",
       "   average_monthly_balance_prevQ  average_monthly_balance_prevQ2  \\\n",
       "0                        1458.71                         1449.07   \n",
       "1                        7799.26                        12419.41   \n",
       "2                        4910.17                         2815.94   \n",
       "3                        2084.54                         1006.54   \n",
       "4                        1643.31                         1871.12   \n",
       "\n",
       "   current_month_credit  previous_month_credit  current_month_debit  \\\n",
       "0                  0.20                   0.20                 0.20   \n",
       "1                  0.56                   0.56              5486.27   \n",
       "2                  0.61                   0.61              6046.73   \n",
       "3                  0.47                   0.47                 0.47   \n",
       "4                  0.33                 714.61               588.62   \n",
       "\n",
       "   previous_month_debit  current_month_balance  previous_month_balance  churn  \\\n",
       "0                  0.20                1458.71                 1458.71      0   \n",
       "1                100.56                6496.78                 8787.61      0   \n",
       "2                259.23                5006.28                 5070.14      0   \n",
       "3               2143.33                2291.91                 1669.79      1   \n",
       "4               1538.06                1157.15                 1677.16      1   \n",
       "\n",
       "   last_transaction  \n",
       "0        21-05-2019  \n",
       "1        01-11-2019  \n",
       "2               NaT  \n",
       "3        06-08-2019  \n",
       "4        03-11-2019  \n",
       "\n",
       "[5 rows x 21 columns]"
      ]
     },
     "execution_count": 26,
     "metadata": {},
     "output_type": "execute_result"
    }
   ],
   "source": [
    "data.head()"
   ]
  },
  {
   "cell_type": "code",
   "execution_count": 28,
   "id": "d47fd235",
   "metadata": {},
   "outputs": [],
   "source": [
    "churn_age = data['age'][data['churn']==1]"
   ]
  },
  {
   "cell_type": "code",
   "execution_count": 29,
   "id": "94c275ba",
   "metadata": {},
   "outputs": [
    {
     "data": {
      "text/plain": [
       "3        90\n",
       "4        42\n",
       "12       73\n",
       "14       48\n",
       "16       49\n",
       "         ..\n",
       "28368    78\n",
       "28372    49\n",
       "28374    55\n",
       "28379    47\n",
       "28381    18\n",
       "Name: age, Length: 5260, dtype: int64"
      ]
     },
     "execution_count": 29,
     "metadata": {},
     "output_type": "execute_result"
    }
   ],
   "source": [
    "churn_age"
   ]
  },
  {
   "cell_type": "code",
   "execution_count": 31,
   "id": "7d7e8ee7",
   "metadata": {},
   "outputs": [
    {
     "name": "stdout",
     "output_type": "stream",
     "text": [
      "root: C:\\\\\n",
      "input file path: C:\\\\Users\\Maitreyee\\OneDrive\\Documents\\Personal_Development\\Certification_Efforts\\Analytics_Vidhya\\Input_Data\\File\\\n",
      "input file :  C:\\\\Users\\Maitreyee\\OneDrive\\Documents\\Personal_Development\\Certification_Efforts\\Analytics_Vidhya\\Input_Data\\File\\churn_prediction.csv\n"
     ]
    },
    {
     "data": {
      "text/plain": [
       "Text(0.5, 1.0, 'Histogram: Age of people who churned')"
      ]
     },
     "execution_count": 31,
     "metadata": {},
     "output_type": "execute_result"
    },
    {
     "data": {
      "image/png": "[encoded data removed]",
      "text/plain": [
       "<Figure size 840x560 with 1 Axes>"
      ]
     },
     "metadata": {
      "needs_background": "light"
     },
     "output_type": "display_data"
    }
   ],
   "source": [
    "import pandas as pd \n",
    "import numpy as np\n",
    "import matplotlib.pyplot as plt\n",
    "import seaborn as sns\n",
    "\n",
    "ROOT_VAR = \"C:\\\\\\\\\"\n",
    "a=ROOT_VAR\n",
    "print(\"root:\", a)\n",
    "input_file_path = a + \"Users\\Maitreyee\\OneDrive\\Documents\\Personal_Development\\Certification_Efforts\\Analytics_Vidhya\\Input_Data\\File\\\\\"\n",
    "print(\"input file path: \" + str(input_file_path))\n",
    "input_file=input_file_path + \"churn_prediction.csv\"\n",
    "print(\"input file : \",input_file)\n",
    "data=pd.read_csv(input_file)\n",
    "\n",
    "plt.figure(dpi=140)\n",
    "plt.hist(churn_age)\n",
    "plt.xlabel(\"Age\")\n",
    "plt.ylabel(\"Frequency\")\n",
    "plt.title('Histogram: Age of people who churned')"
   ]
  },
  {
   "cell_type": "code",
   "execution_count": 32,
   "id": "52eecdad",
   "metadata": {},
   "outputs": [
    {
     "name": "stdout",
     "output_type": "stream",
     "text": [
      "root: C:\\\\\n",
      "input file path: C:\\\\Users\\Maitreyee\\OneDrive\\Documents\\Personal_Development\\Certification_Efforts\\Analytics_Vidhya\\Input_Data\\File\\\n",
      "input file :  C:\\\\Users\\Maitreyee\\OneDrive\\Documents\\Personal_Development\\Certification_Efforts\\Analytics_Vidhya\\Input_Data\\File\\churn_prediction.csv\n"
     ]
    },
    {
     "data": {
      "text/plain": [
       "Text(0.5, 1.0, 'Histogram: Age of people who churned')"
      ]
     },
     "execution_count": 32,
     "metadata": {},
     "output_type": "execute_result"
    },
    {
     "data": {
      "image/png": "[encoded data removed]",
      "text/plain": [
       "<Figure size 840x560 with 1 Axes>"
      ]
     },
     "metadata": {
      "needs_background": "light"
     },
     "output_type": "display_data"
    }
   ],
   "source": [
    "import pandas as pd \n",
    "import numpy as np\n",
    "import matplotlib.pyplot as plt\n",
    "import seaborn as sns\n",
    "\n",
    "ROOT_VAR = \"C:\\\\\\\\\"\n",
    "a=ROOT_VAR\n",
    "print(\"root:\", a)\n",
    "input_file_path = a + \"Users\\Maitreyee\\OneDrive\\Documents\\Personal_Development\\Certification_Efforts\\Analytics_Vidhya\\Input_Data\\File\\\\\"\n",
    "print(\"input file path: \" + str(input_file_path))\n",
    "input_file=input_file_path + \"churn_prediction.csv\"\n",
    "print(\"input file : \",input_file)\n",
    "data=pd.read_csv(input_file)\n",
    "\n",
    "plt.figure(dpi=140)\n",
    "plt.hist(churn_age, bins=5)\n",
    "plt.xlabel(\"Age\")\n",
    "plt.ylabel(\"Frequency\")\n",
    "plt.title('Histogram: Age of people who churned')"
   ]
  },
  {
   "cell_type": "code",
   "execution_count": 33,
   "id": "b057e7f8",
   "metadata": {},
   "outputs": [
    {
     "name": "stdout",
     "output_type": "stream",
     "text": [
      "root: C:\\\\\n",
      "input file path: C:\\\\Users\\Maitreyee\\OneDrive\\Documents\\Personal_Development\\Certification_Efforts\\Analytics_Vidhya\\Input_Data\\File\\\n",
      "input file :  C:\\\\Users\\Maitreyee\\OneDrive\\Documents\\Personal_Development\\Certification_Efforts\\Analytics_Vidhya\\Input_Data\\File\\churn_prediction.csv\n"
     ]
    },
    {
     "data": {
      "text/plain": [
       "Text(0.5, 1.0, 'Histogram: Age of people who churned')"
      ]
     },
     "execution_count": 33,
     "metadata": {},
     "output_type": "execute_result"
    },
    {
     "data": {
      "image/png": "[encoded data removed]",
      "text/plain": [
       "<Figure size 840x560 with 1 Axes>"
      ]
     },
     "metadata": {
      "needs_background": "light"
     },
     "output_type": "display_data"
    }
   ],
   "source": [
    "import pandas as pd \n",
    "import numpy as np\n",
    "import matplotlib.pyplot as plt\n",
    "import seaborn as sns\n",
    "\n",
    "ROOT_VAR = \"C:\\\\\\\\\"\n",
    "a=ROOT_VAR\n",
    "print(\"root:\", a)\n",
    "input_file_path = a + \"Users\\Maitreyee\\OneDrive\\Documents\\Personal_Development\\Certification_Efforts\\Analytics_Vidhya\\Input_Data\\File\\\\\"\n",
    "print(\"input file path: \" + str(input_file_path))\n",
    "input_file=input_file_path + \"churn_prediction.csv\"\n",
    "print(\"input file : \",input_file)\n",
    "data=pd.read_csv(input_file)\n",
    "\n",
    "plt.figure(dpi=140)\n",
    "plt.hist(churn_age, bins=25)\n",
    "plt.xlabel(\"Age\")\n",
    "plt.ylabel(\"Frequency\")\n",
    "plt.title('Histogram: Age of people who churned')"
   ]
  },
  {
   "cell_type": "code",
   "execution_count": 9,
   "id": "0821a23b",
   "metadata": {},
   "outputs": [
    {
     "name": "stdout",
     "output_type": "stream",
     "text": [
      "root: C:\\\\\n",
      "input file path: C:\\\\Users\\Maitreyee\\OneDrive\\Documents\\Personal_Development\\Certification_Efforts\\Analytics_Vidhya\\Input_Data\\File\\\n",
      "input file :  C:\\\\Users\\Maitreyee\\OneDrive\\Documents\\Personal_Development\\Certification_Efforts\\Analytics_Vidhya\\Input_Data\\File\\churn_prediction.csv\n"
     ]
    },
    {
     "ename": "NameError",
     "evalue": "name 'churn_age' is not defined",
     "output_type": "error",
     "traceback": [
      "\u001b[1;31m---------------------------------------------------------------------------\u001b[0m",
      "\u001b[1;31mNameError\u001b[0m                                 Traceback (most recent call last)",
      "\u001b[1;32mC:\\Users\\MAITRE~1\\AppData\\Local\\Temp/ipykernel_32040/600115972.py\u001b[0m in \u001b[0;36m<module>\u001b[1;34m\u001b[0m\n\u001b[0;32m     14\u001b[0m \u001b[1;33m\u001b[0m\u001b[0m\n\u001b[0;32m     15\u001b[0m \u001b[0mplt\u001b[0m\u001b[1;33m.\u001b[0m\u001b[0mfigure\u001b[0m\u001b[1;33m(\u001b[0m\u001b[0mdpi\u001b[0m\u001b[1;33m=\u001b[0m\u001b[1;36m140\u001b[0m\u001b[1;33m)\u001b[0m\u001b[1;33m\u001b[0m\u001b[1;33m\u001b[0m\u001b[0m\n\u001b[1;32m---> 16\u001b[1;33m \u001b[0msns\u001b[0m\u001b[1;33m.\u001b[0m\u001b[0mkdeplot\u001b[0m\u001b[1;33m(\u001b[0m\u001b[0mchurn_age\u001b[0m\u001b[1;33m,\u001b[0m \u001b[0mshade\u001b[0m \u001b[1;33m=\u001b[0m \u001b[1;32mTrue\u001b[0m\u001b[1;33m)\u001b[0m\u001b[1;33m\u001b[0m\u001b[1;33m\u001b[0m\u001b[0m\n\u001b[0m\u001b[0;32m     17\u001b[0m \u001b[0mplt\u001b[0m\u001b[1;33m.\u001b[0m\u001b[0mxlabel\u001b[0m\u001b[1;33m(\u001b[0m\u001b[1;34m\"Age\"\u001b[0m\u001b[1;33m)\u001b[0m\u001b[1;33m\u001b[0m\u001b[1;33m\u001b[0m\u001b[0m\n\u001b[0;32m     18\u001b[0m \u001b[0mplt\u001b[0m\u001b[1;33m.\u001b[0m\u001b[0mylabel\u001b[0m\u001b[1;33m(\u001b[0m\u001b[1;34m'Density'\u001b[0m\u001b[1;33m)\u001b[0m\u001b[1;33m\u001b[0m\u001b[1;33m\u001b[0m\u001b[0m\n",
      "\u001b[1;31mNameError\u001b[0m: name 'churn_age' is not defined"
     ]
    },
    {
     "data": {
      "text/plain": [
       "<Figure size 840x560 with 0 Axes>"
      ]
     },
     "metadata": {},
     "output_type": "display_data"
    }
   ],
   "source": [
    "import pandas as pd \n",
    "import numpy as np\n",
    "import matplotlib.pyplot as plt\n",
    "import seaborn as sns\n",
    "\n",
    "ROOT_VAR = \"C:\\\\\\\\\"\n",
    "a=ROOT_VAR\n",
    "print(\"root:\", a)\n",
    "input_file_path = a + \"Users\\Maitreyee\\OneDrive\\Documents\\Personal_Development\\Certification_Efforts\\Analytics_Vidhya\\Input_Data\\File\\\\\"\n",
    "print(\"input file path: \" + str(input_file_path))\n",
    "input_file=input_file_path + \"churn_prediction.csv\"\n",
    "print(\"input file : \",input_file)\n",
    "data=pd.read_csv(input_file)\n",
    "\n",
    "plt.figure(dpi=140)\n",
    "sns.kdeplot(churn_age, shade = True)\n",
    "plt.xlabel(\"Age\")\n",
    "plt.ylabel('Density')\n",
    "plt.title(\"KDE: Age of people who churned\")\n",
    "plt.show()"
   ]
  },
  {
   "cell_type": "code",
   "execution_count": 10,
   "id": "c54e7378",
   "metadata": {},
   "outputs": [
    {
     "ename": "NameError",
     "evalue": "name 'churn_age' is not defined",
     "output_type": "error",
     "traceback": [
      "\u001b[1;31m---------------------------------------------------------------------------\u001b[0m",
      "\u001b[1;31mNameError\u001b[0m                                 Traceback (most recent call last)",
      "\u001b[1;32mC:\\Users\\MAITRE~1\\AppData\\Local\\Temp/ipykernel_32040/690860080.py\u001b[0m in \u001b[0;36m<module>\u001b[1;34m\u001b[0m\n\u001b[1;32m----> 1\u001b[1;33m \u001b[0mmean\u001b[0m\u001b[1;33m=\u001b[0m\u001b[0mchurn_age\u001b[0m\u001b[1;33m.\u001b[0m\u001b[0mmean\u001b[0m\u001b[1;33m(\u001b[0m\u001b[1;33m)\u001b[0m\u001b[1;33m\u001b[0m\u001b[1;33m\u001b[0m\u001b[0m\n\u001b[0m\u001b[0;32m      2\u001b[0m \u001b[0mmedian\u001b[0m\u001b[1;33m=\u001b[0m\u001b[0mchurn_age\u001b[0m\u001b[1;33m.\u001b[0m\u001b[0mmedian\u001b[0m\u001b[1;33m(\u001b[0m\u001b[1;33m)\u001b[0m\u001b[1;33m\u001b[0m\u001b[1;33m\u001b[0m\u001b[0m\n\u001b[0;32m      3\u001b[0m \u001b[0mstdev\u001b[0m\u001b[1;33m=\u001b[0m\u001b[0mchurn_age\u001b[0m\u001b[1;33m.\u001b[0m\u001b[0mmean\u001b[0m\u001b[1;33m(\u001b[0m\u001b[1;33m)\u001b[0m\u001b[1;33m-\u001b[0m \u001b[0mchurn_age\u001b[0m\u001b[1;33m.\u001b[0m\u001b[0mstd\u001b[0m\u001b[1;33m(\u001b[0m\u001b[1;33m)\u001b[0m \u001b[1;33m,\u001b[0m \u001b[0mchurn_age\u001b[0m\u001b[1;33m.\u001b[0m\u001b[0mmean\u001b[0m\u001b[1;33m(\u001b[0m\u001b[1;33m)\u001b[0m\u001b[1;33m+\u001b[0m\u001b[0mchurn_age\u001b[0m\u001b[1;33m.\u001b[0m\u001b[0mstd\u001b[0m\u001b[1;33m(\u001b[0m\u001b[1;33m)\u001b[0m\u001b[1;33m\u001b[0m\u001b[1;33m\u001b[0m\u001b[0m\n",
      "\u001b[1;31mNameError\u001b[0m: name 'churn_age' is not defined"
     ]
    }
   ],
   "source": [
    "mean=churn_age.mean()\n",
    "median=churn_age.median()\n",
    "stdev=churn_age.mean()- churn_age.std() , churn_age.mean()+churn_age.std()\n"
   ]
  },
  {
   "cell_type": "code",
   "execution_count": 11,
   "id": "baba36ca",
   "metadata": {},
   "outputs": [
    {
     "ename": "NameError",
     "evalue": "name 'mean' is not defined",
     "output_type": "error",
     "traceback": [
      "\u001b[1;31m---------------------------------------------------------------------------\u001b[0m",
      "\u001b[1;31mNameError\u001b[0m                                 Traceback (most recent call last)",
      "\u001b[1;32mC:\\Users\\MAITRE~1\\AppData\\Local\\Temp/ipykernel_32040/1107724982.py\u001b[0m in \u001b[0;36m<module>\u001b[1;34m\u001b[0m\n\u001b[1;32m----> 1\u001b[1;33m \u001b[0mmean\u001b[0m \u001b[1;33m,\u001b[0m \u001b[0mmedian\u001b[0m\u001b[1;33m,\u001b[0m \u001b[0mstdev\u001b[0m\u001b[1;33m\u001b[0m\u001b[1;33m\u001b[0m\u001b[0m\n\u001b[0m",
      "\u001b[1;31mNameError\u001b[0m: name 'mean' is not defined"
     ]
    }
   ],
   "source": [
    "mean , median, stdev"
   ]
  },
  {
   "cell_type": "code",
   "execution_count": 12,
   "id": "40167163",
   "metadata": {},
   "outputs": [
    {
     "name": "stdout",
     "output_type": "stream",
     "text": [
      "root: C:\\\\\n",
      "input file path: C:\\\\Users\\Maitreyee\\OneDrive\\Documents\\Personal_Development\\Certification_Efforts\\Analytics_Vidhya\\Input_Data\\File\\\n",
      "input file :  C:\\\\Users\\Maitreyee\\OneDrive\\Documents\\Personal_Development\\Certification_Efforts\\Analytics_Vidhya\\Input_Data\\File\\churn_prediction.csv\n"
     ]
    },
    {
     "ename": "NameError",
     "evalue": "name 'churn_age' is not defined",
     "output_type": "error",
     "traceback": [
      "\u001b[1;31m---------------------------------------------------------------------------\u001b[0m",
      "\u001b[1;31mNameError\u001b[0m                                 Traceback (most recent call last)",
      "\u001b[1;32mC:\\Users\\MAITRE~1\\AppData\\Local\\Temp/ipykernel_32040/854748273.py\u001b[0m in \u001b[0;36m<module>\u001b[1;34m\u001b[0m\n\u001b[0;32m     16\u001b[0m \u001b[1;33m\u001b[0m\u001b[0m\n\u001b[0;32m     17\u001b[0m \u001b[0mplt\u001b[0m\u001b[1;33m.\u001b[0m\u001b[0mfigure\u001b[0m\u001b[1;33m(\u001b[0m\u001b[0mdpi\u001b[0m\u001b[1;33m=\u001b[0m\u001b[1;36m140\u001b[0m\u001b[1;33m)\u001b[0m\u001b[1;33m\u001b[0m\u001b[1;33m\u001b[0m\u001b[0m\n\u001b[1;32m---> 18\u001b[1;33m \u001b[0msns\u001b[0m\u001b[1;33m.\u001b[0m\u001b[0mkdeplot\u001b[0m\u001b[1;33m(\u001b[0m\u001b[0mchurn_age\u001b[0m \u001b[1;33m,\u001b[0m \u001b[0mshade\u001b[0m \u001b[1;33m=\u001b[0m \u001b[1;32mTrue\u001b[0m\u001b[1;33m)\u001b[0m\u001b[1;33m\u001b[0m\u001b[1;33m\u001b[0m\u001b[0m\n\u001b[0m\u001b[0;32m     19\u001b[0m \u001b[0msns\u001b[0m\u001b[1;33m.\u001b[0m\u001b[0mscatterplot\u001b[0m\u001b[1;33m(\u001b[0m \u001b[1;33m[\u001b[0m\u001b[0mmean\u001b[0m\u001b[1;33m]\u001b[0m\u001b[1;33m,\u001b[0m \u001b[1;33m[\u001b[0m\u001b[1;36m0\u001b[0m\u001b[1;33m]\u001b[0m\u001b[1;33m,\u001b[0m \u001b[0mcolor\u001b[0m\u001b[1;33m=\u001b[0m\u001b[1;34m'red'\u001b[0m\u001b[1;33m,\u001b[0m \u001b[0mlabel\u001b[0m\u001b[1;33m=\u001b[0m\u001b[1;34m'mean'\u001b[0m\u001b[1;33m)\u001b[0m\u001b[1;33m\u001b[0m\u001b[1;33m\u001b[0m\u001b[0m\n\u001b[0;32m     20\u001b[0m \u001b[0msns\u001b[0m\u001b[1;33m.\u001b[0m\u001b[0mscatterplot\u001b[0m\u001b[1;33m(\u001b[0m \u001b[1;33m[\u001b[0m\u001b[0mmedian\u001b[0m\u001b[1;33m]\u001b[0m\u001b[1;33m,\u001b[0m \u001b[1;33m[\u001b[0m\u001b[1;36m0\u001b[0m\u001b[1;33m]\u001b[0m\u001b[1;33m,\u001b[0m \u001b[0mcolor\u001b[0m \u001b[1;33m=\u001b[0m\u001b[1;34m'red'\u001b[0m\u001b[1;33m,\u001b[0m \u001b[0mlabel\u001b[0m\u001b[1;33m=\u001b[0m\u001b[1;34m'median'\u001b[0m\u001b[1;33m)\u001b[0m\u001b[1;33m\u001b[0m\u001b[1;33m\u001b[0m\u001b[0m\n",
      "\u001b[1;31mNameError\u001b[0m: name 'churn_age' is not defined"
     ]
    },
    {
     "data": {
      "text/plain": [
       "<Figure size 840x560 with 0 Axes>"
      ]
     },
     "metadata": {},
     "output_type": "display_data"
    }
   ],
   "source": [
    "import pandas as pd \n",
    "import numpy as np\n",
    "import matplotlib.pyplot as plt\n",
    "import seaborn as sns\n",
    "\n",
    "ROOT_VAR = \"C:\\\\\\\\\"\n",
    "a=ROOT_VAR\n",
    "print(\"root:\", a)\n",
    "input_file_path = a + \"Users\\Maitreyee\\OneDrive\\Documents\\Personal_Development\\Certification_Efforts\\Analytics_Vidhya\\Input_Data\\File\\\\\"\n",
    "print(\"input file path: \" + str(input_file_path))\n",
    "input_file=input_file_path + \"churn_prediction.csv\"\n",
    "print(\"input file : \",input_file)\n",
    "data=pd.read_csv(input_file)\n",
    "\n",
    "\n",
    "\n",
    "plt.figure(dpi=140)\n",
    "sns.kdeplot(churn_age , shade = True)\n",
    "sns.scatterplot( [mean], [0], color='red', label='mean')\n",
    "sns.scatterplot( [median], [0], color ='red', label='median')\n",
    "sns.lineplot(stdev, [0,0], color = 'black', label='Standard Deviation')\n",
    "\n",
    "plt.xlabel(\"Age\")\n",
    "plt.ylabel('Density')\n",
    "plt.title(\"KDE plot with Description  : Age of people who churned\")\n",
    "plt.show()"
   ]
  },
  {
   "cell_type": "code",
   "execution_count": 13,
   "id": "42f42487",
   "metadata": {},
   "outputs": [
    {
     "name": "stdout",
     "output_type": "stream",
     "text": [
      "root: C:\\\\\n",
      "input file path: C:\\\\Users\\Maitreyee\\OneDrive\\Documents\\Personal_Development\\Certification_Efforts\\Analytics_Vidhya\\Input_Data\\File\\\n",
      "input file :  C:\\\\Users\\Maitreyee\\OneDrive\\Documents\\Personal_Development\\Certification_Efforts\\Analytics_Vidhya\\Input_Data\\File\\churn_prediction.csv\n"
     ]
    },
    {
     "data": {
      "text/plain": [
       "customer_id                         int64\n",
       "vintage                             int64\n",
       "age                                 int64\n",
       "gender                             object\n",
       "dependents                        float64\n",
       "occupation                         object\n",
       "city                              float64\n",
       "customer_nw_category                int64\n",
       "branch_code                         int64\n",
       "current_balance                   float64\n",
       "previous_month_end_balance        float64\n",
       "average_monthly_balance_prevQ     float64\n",
       "average_monthly_balance_prevQ2    float64\n",
       "current_month_credit              float64\n",
       "previous_month_credit             float64\n",
       "current_month_debit               float64\n",
       "previous_month_debit              float64\n",
       "current_month_balance             float64\n",
       "previous_month_balance            float64\n",
       "churn                               int64\n",
       "last_transaction                   object\n",
       "dtype: object"
      ]
     },
     "execution_count": 13,
     "metadata": {},
     "output_type": "execute_result"
    }
   ],
   "source": [
    "import pandas as pd \n",
    "import numpy as np\n",
    "import matplotlib.pyplot as plt\n",
    "import seaborn as sns\n",
    "import statsmodels.api as sm\n",
    "import pylab as py\n",
    "import warnings\n",
    "warnings.filterwarnings('ignore')\n",
    "sns.set ( style = 'white')\n",
    "\n",
    "ROOT_VAR = \"C:\\\\\\\\\"\n",
    "a=ROOT_VAR\n",
    "print(\"root:\", a)\n",
    "input_file_path = a + \"Users\\Maitreyee\\OneDrive\\Documents\\Personal_Development\\Certification_Efforts\\Analytics_Vidhya\\Input_Data\\File\\\\\"\n",
    "print(\"input file path: \" + str(input_file_path))\n",
    "input_file=input_file_path + \"churn_prediction.csv\"\n",
    "print(\"input file : \",input_file)\n",
    "data=pd.read_csv(input_file)\n",
    "data.head()\n",
    "data.shape\n",
    "data.columns\n",
    "data.dtypes"
   ]
  },
  {
   "cell_type": "code",
   "execution_count": 14,
   "id": "fc010613",
   "metadata": {},
   "outputs": [
    {
     "data": {
      "image/png": "[encoded data removed]",
      "text/plain": [
       "<Figure size 840x560 with 1 Axes>"
      ]
     },
     "metadata": {},
     "output_type": "display_data"
    }
   ],
   "source": [
    "plt.figure(dpi=140)\n",
    "plt.hist(data['age'])\n",
    "plt.xlabel(\"Age\")\n",
    "plt.ylabel('Frequency')\n",
    "plt.title('Histogram : Age of People')\n",
    "plt.show()"
   ]
  },
  {
   "cell_type": "code",
   "execution_count": 17,
   "id": "e02b96bc",
   "metadata": {},
   "outputs": [
    {
     "ename": "AttributeError",
     "evalue": "'list' object has no attribute 'mean'",
     "output_type": "error",
     "traceback": [
      "\u001b[1;31m---------------------------------------------------------------------------\u001b[0m",
      "\u001b[1;31mAttributeError\u001b[0m                            Traceback (most recent call last)",
      "\u001b[1;32mC:\\Users\\MAITRE~1\\AppData\\Local\\Temp/ipykernel_32040/2147094948.py\u001b[0m in \u001b[0;36m<module>\u001b[1;34m\u001b[0m\n\u001b[0;32m      1\u001b[0m \u001b[0mage\u001b[0m \u001b[1;33m=\u001b[0m \u001b[1;33m[\u001b[0m\u001b[1;33m]\u001b[0m\u001b[1;33m\u001b[0m\u001b[1;33m\u001b[0m\u001b[0m\n\u001b[1;32m----> 2\u001b[1;33m \u001b[0ma_mean\u001b[0m \u001b[1;33m=\u001b[0m \u001b[0mage\u001b[0m\u001b[1;33m.\u001b[0m\u001b[0mmean\u001b[0m\u001b[1;33m(\u001b[0m\u001b[1;33m)\u001b[0m\u001b[1;33m\u001b[0m\u001b[1;33m\u001b[0m\u001b[0m\n\u001b[0m\u001b[0;32m      3\u001b[0m \u001b[0ma_median\u001b[0m \u001b[1;33m=\u001b[0m \u001b[0mage\u001b[0m\u001b[1;33m.\u001b[0m\u001b[0mmedian\u001b[0m\u001b[1;33m(\u001b[0m\u001b[1;33m)\u001b[0m\u001b[1;33m\u001b[0m\u001b[1;33m\u001b[0m\u001b[0m\n\u001b[0;32m      4\u001b[0m \u001b[0ma_stdev\u001b[0m \u001b[1;33m=\u001b[0m \u001b[0mage\u001b[0m\u001b[1;33m.\u001b[0m\u001b[0mmean\u001b[0m\u001b[1;33m(\u001b[0m\u001b[1;33m)\u001b[0m\u001b[1;33m-\u001b[0m \u001b[0mage\u001b[0m\u001b[1;33m.\u001b[0m\u001b[0mstd\u001b[0m\u001b[1;33m(\u001b[0m\u001b[1;33m)\u001b[0m\u001b[1;33m,\u001b[0m \u001b[0mage\u001b[0m\u001b[1;33m.\u001b[0m\u001b[0mmean\u001b[0m\u001b[1;33m(\u001b[0m\u001b[1;33m)\u001b[0m\u001b[1;33m+\u001b[0m \u001b[0mage\u001b[0m\u001b[1;33m.\u001b[0m\u001b[0mstd\u001b[0m\u001b[1;33m(\u001b[0m\u001b[1;33m)\u001b[0m\u001b[1;33m\u001b[0m\u001b[1;33m\u001b[0m\u001b[0m\n\u001b[0;32m      5\u001b[0m \u001b[1;33m\u001b[0m\u001b[0m\n",
      "\u001b[1;31mAttributeError\u001b[0m: 'list' object has no attribute 'mean'"
     ]
    }
   ],
   "source": [
    "age = []\n",
    "a_mean = age.mean()\n",
    "a_median = age.median()\n",
    "a_stdev = age.mean()- age.std(), age.mean()+ age.std() \n",
    "\n",
    "# checking\n",
    "a_mean, a_median, a_stdev"
   ]
  },
  {
   "cell_type": "code",
   "execution_count": 16,
   "id": "13502b84",
   "metadata": {},
   "outputs": [
    {
     "ename": "NameError",
     "evalue": "name 'a_mean' is not defined",
     "output_type": "error",
     "traceback": [
      "\u001b[1;31m---------------------------------------------------------------------------\u001b[0m",
      "\u001b[1;31mNameError\u001b[0m                                 Traceback (most recent call last)",
      "\u001b[1;32mC:\\Users\\MAITRE~1\\AppData\\Local\\Temp/ipykernel_32040/661090274.py\u001b[0m in \u001b[0;36m<module>\u001b[1;34m\u001b[0m\n\u001b[1;32m----> 1\u001b[1;33m \u001b[0ma_mean\u001b[0m\u001b[1;33m\u001b[0m\u001b[1;33m\u001b[0m\u001b[0m\n\u001b[0m",
      "\u001b[1;31mNameError\u001b[0m: name 'a_mean' is not defined"
     ]
    }
   ],
   "source": [
    "a_mean"
   ]
  },
  {
   "cell_type": "code",
   "execution_count": null,
   "id": "f14cebcd",
   "metadata": {},
   "outputs": [],
   "source": []
  },
  {
   "cell_type": "code",
   "execution_count": null,
   "id": "5c0d6331",
   "metadata": {},
   "outputs": [],
   "source": []
  }
 ],
 "metadata": {
  "kernelspec": {
   "display_name": "Python 3 (ipykernel)",
   "language": "python",
   "name": "python3"
  },
  "language_info": {
   "codemirror_mode": {
    "name": "ipython",
    "version": 3
   },
   "file_extension": ".py",
   "mimetype": "text/x-python",
   "name": "python",
   "nbconvert_exporter": "python",
   "pygments_lexer": "ipython3",
   "version": "3.9.7"
  }
 },
 "nbformat": 4,
 "nbformat_minor": 5
}
