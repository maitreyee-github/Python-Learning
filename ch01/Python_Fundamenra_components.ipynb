{
 "cells": [
  {
   "cell_type": "markdown",
   "id": "26df0668",
   "metadata": {},
   "source": [
    "# Ch01  : Fundamental components of Python"
   ]
  },
  {
   "cell_type": "markdown",
   "id": "b814a0e6",
   "metadata": {},
   "source": [
    "Let's understand basic Python objects first  : \n",
    "Number\n",
    "string\n",
    "List\n",
    "Dictionary\n",
    "Tuple\n",
    "File"
   ]
  },
  {
   "cell_type": "code",
   "execution_count": null,
   "id": "3ed8233a",
   "metadata": {},
   "outputs": [],
   "source": []
  }
 ],
 "metadata": {
  "kernelspec": {
   "display_name": "Python 3",
   "language": "python",
   "name": "python3"
  },
  "language_info": {
   "codemirror_mode": {
    "name": "ipython",
    "version": 3
   },
   "file_extension": ".py",
   "mimetype": "text/x-python",
   "name": "python",
   "nbconvert_exporter": "python",
   "pygments_lexer": "ipython3",
   "version": "3.8.8"
  }
 },
 "nbformat": 4,
 "nbformat_minor": 5
}
