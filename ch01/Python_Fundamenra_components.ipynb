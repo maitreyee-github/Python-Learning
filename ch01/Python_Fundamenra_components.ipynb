{
  "cells": [
    {
      "cell_type": "markdown",
      "metadata": {
        "id": "view-in-github",
        "colab_type": "text"
      },
      "source": [
        "<a href=\"https://colab.research.google.com/github/maitreyee-github/Python-Learning/blob/main/ch01/Python_Fundamenra_components.ipynb\" target=\"_parent\"><img src=\"https://colab.research.google.com/assets/colab-badge.svg\" alt=\"Open In Colab\"/></a>"
      ]
    },
    {
      "cell_type": "markdown",
      "id": "26df0668",
      "metadata": {
        "id": "26df0668"
      },
      "source": [
        "# Ch01  : Fundamental components of Python"
      ]
    },
    {
      "cell_type": "markdown",
      "id": "b814a0e6",
      "metadata": {
        "id": "b814a0e6"
      },
      "source": [
        "Let's understand basic Python objects first  :\n",
        "\n",
        "\n",
        "Number,\n",
        "string,\n",
        "List,\n",
        "Dictionary,\n",
        "Tuple,\n",
        "File\n",
        "\n",
        "\n",
        "\n",
        "\n",
        "\n",
        "\n",
        "\n",
        "\n"
      ]
    },
    {
      "cell_type": "code",
      "execution_count": 2,
      "id": "3ed8233a",
      "metadata": {
        "id": "3ed8233a"
      },
      "outputs": [],
      "source": [
        "integer = 5555\n",
        "float = 0.55\n",
        "string = \"Maitreyee Sinha Chowdhury\"\n",
        "list = [1,'TWO', 3]\n",
        "dictionary = {'Name':'Maitreyee','ID':1111, 'SEX':'F'}\n",
        "tuple=(1,'Two', 3)"
      ]
    },
    {
      "cell_type": "code",
      "source": [
        "print(integer)\n",
        "print(float)\n",
        "print(string)\n",
        "print(list)\n",
        "print(dictionary)\n",
        "print(tuple)"
      ],
      "metadata": {
        "colab": {
          "base_uri": "https://localhost:8080/"
        },
        "id": "VEh-9Jux9C1F",
        "outputId": "f94ac84c-b875-428b-be8c-e0ff717e79da"
      },
      "id": "VEh-9Jux9C1F",
      "execution_count": 3,
      "outputs": [
        {
          "output_type": "stream",
          "name": "stdout",
          "text": [
            "5555\n",
            "0.55\n",
            "Maitreyee Sinha Chowdhury\n",
            "[1, 'TWO', 3]\n",
            "{'Name': 'Maitreyee', 'ID': 1111, 'SEX': 'F'}\n",
            "(1, 'Two', 3)\n"
          ]
        }
      ]
    }
  ],
  "metadata": {
    "kernelspec": {
      "display_name": "Python 3",
      "language": "python",
      "name": "python3"
    },
    "language_info": {
      "codemirror_mode": {
        "name": "ipython",
        "version": 3
      },
      "file_extension": ".py",
      "mimetype": "text/x-python",
      "name": "python",
      "nbconvert_exporter": "python",
      "pygments_lexer": "ipython3",
      "version": "3.8.8"
    },
    "colab": {
      "name": "Python_Fundamenra_components.ipynb",
      "provenance": [],
      "toc_visible": true,
      "include_colab_link": true
    }
  },
  "nbformat": 4,
  "nbformat_minor": 5
}