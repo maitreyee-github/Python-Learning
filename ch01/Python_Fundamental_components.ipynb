{
  "cells": [
    {
      "cell_type": "markdown",
      "metadata": {
        "id": "view-in-github",
        "colab_type": "text"
      },
      "source": [
        "<a href=\"https://colab.research.google.com/github/maitreyee-github/Python-Learning/blob/main/ch01/Python_Fundamental_components.ipynb\" target=\"_parent\"><img src=\"https://colab.research.google.com/assets/colab-badge.svg\" alt=\"Open In Colab\"/></a>"
      ]
    },
    {
      "cell_type": "markdown",
      "id": "26df0668",
      "metadata": {
        "id": "26df0668"
      },
      "source": [
        "# Ch01  : Fundamental components of Python"
      ]
    },
    {
      "cell_type": "markdown",
      "id": "b814a0e6",
      "metadata": {
        "id": "b814a0e6"
      },
      "source": [
        "# **Let's understand basic Python objects first  :**\n",
        "\n",
        "\n",
        "Number, \\\n",
        "string, \\\n",
        "List, \\\n",
        "Dictionary, \\\n",
        "Tuple, \\\n",
        "File\n",
        "\n",
        "\n",
        "\n",
        "\n",
        "\n",
        "\n",
        "\n",
        "\n"
      ]
    },
    {
      "cell_type": "code",
      "execution_count": null,
      "id": "3ed8233a",
      "metadata": {
        "id": "3ed8233a"
      },
      "outputs": [],
      "source": [
        "integer = 5555\n",
        "float = 0.55\n",
        "string = \"Maitreyee Sinha Chowdhury\"\n",
        "list = [1,'TWO', 3]\n",
        "dictionary = {'Name':'Maitreyee','ID':1111, 'SEX':'F'}\n",
        "tuple=(1,'Two', 3)"
      ]
    },
    {
      "cell_type": "code",
      "source": [
        "print(integer)\n",
        "print(float)\n",
        "print(string)\n",
        "print(list)\n",
        "print(dictionary)\n",
        "print(tuple)"
      ],
      "metadata": {
        "colab": {
          "base_uri": "https://localhost:8080/"
        },
        "id": "VEh-9Jux9C1F",
        "outputId": "f94ac84c-b875-428b-be8c-e0ff717e79da"
      },
      "id": "VEh-9Jux9C1F",
      "execution_count": null,
      "outputs": [
        {
          "output_type": "stream",
          "name": "stdout",
          "text": [
            "5555\n",
            "0.55\n",
            "Maitreyee Sinha Chowdhury\n",
            "[1, 'TWO', 3]\n",
            "{'Name': 'Maitreyee', 'ID': 1111, 'SEX': 'F'}\n",
            "(1, 'Two', 3)\n"
          ]
        }
      ]
    },
    {
      "cell_type": "markdown",
      "source": [
        "# **Operator**\n",
        "\n",
        "\n",
        "Numeric Operators \\\n",
        "Logical Operators \\\n",
        "Comparison Operator\n",
        "\n"
      ],
      "metadata": {
        "id": "ZVeMEkLulOB6"
      },
      "id": "ZVeMEkLulOB6"
    },
    {
      "cell_type": "markdown",
      "source": [
        "# **Numeric Operator**"
      ],
      "metadata": {
        "id": "t1qEVA9elfhG"
      },
      "id": "t1qEVA9elfhG"
    },
    {
      "cell_type": "code",
      "source": [
        "x = 3 + 4\n",
        "print(x)"
      ],
      "metadata": {
        "colab": {
          "base_uri": "https://localhost:8080/"
        },
        "id": "sj0NRmSElmB1",
        "outputId": "bdc3f8d8-c271-42cc-fe66-17a5d78ce09c"
      },
      "id": "sj0NRmSElmB1",
      "execution_count": null,
      "outputs": [
        {
          "output_type": "stream",
          "name": "stdout",
          "text": [
            "7\n"
          ]
        }
      ]
    },
    {
      "cell_type": "code",
      "source": [
        "y=4-3\n",
        "print(y)"
      ],
      "metadata": {
        "colab": {
          "base_uri": "https://localhost:8080/"
        },
        "id": "oLky2-E9ly7b",
        "outputId": "634a19a5-f299-4e25-f19c-12fa22dbe72a"
      },
      "id": "oLky2-E9ly7b",
      "execution_count": null,
      "outputs": [
        {
          "output_type": "stream",
          "name": "stdout",
          "text": [
            "1\n"
          ]
        }
      ]
    },
    {
      "cell_type": "code",
      "source": [
        "a=4*5\n",
        "print(a)"
      ],
      "metadata": {
        "colab": {
          "base_uri": "https://localhost:8080/"
        },
        "id": "SUPtdVpFq5q4",
        "outputId": "6e6f5a3f-8d07-4c3f-e214-d28d9ee94a6c"
      },
      "id": "SUPtdVpFq5q4",
      "execution_count": null,
      "outputs": [
        {
          "output_type": "stream",
          "name": "stdout",
          "text": [
            "20\n"
          ]
        }
      ]
    },
    {
      "cell_type": "code",
      "source": [
        "b=100/4\n",
        "print(b)"
      ],
      "metadata": {
        "colab": {
          "base_uri": "https://localhost:8080/"
        },
        "id": "rt2r10bprBiC",
        "outputId": "13312006-4f5f-4c18-cfad-1eed7316a0b8"
      },
      "id": "rt2r10bprBiC",
      "execution_count": null,
      "outputs": [
        {
          "output_type": "stream",
          "name": "stdout",
          "text": [
            "25.0\n"
          ]
        }
      ]
    },
    {
      "cell_type": "code",
      "source": [
        "p=2**5\n",
        "print(p)"
      ],
      "metadata": {
        "colab": {
          "base_uri": "https://localhost:8080/"
        },
        "id": "2zxg-7corIM3",
        "outputId": "5b058448-2c32-48d9-8404-bc1e713bbe5a"
      },
      "id": "2zxg-7corIM3",
      "execution_count": null,
      "outputs": [
        {
          "output_type": "stream",
          "name": "stdout",
          "text": [
            "32\n"
          ]
        }
      ]
    },
    {
      "cell_type": "code",
      "source": [
        "q=5%2\n",
        "print(q)"
      ],
      "metadata": {
        "colab": {
          "base_uri": "https://localhost:8080/"
        },
        "id": "8ADniIbxrbel",
        "outputId": "32d1dead-4254-4957-de37-470e15458e29"
      },
      "id": "8ADniIbxrbel",
      "execution_count": null,
      "outputs": [
        {
          "output_type": "stream",
          "name": "stdout",
          "text": [
            "1\n"
          ]
        }
      ]
    },
    {
      "cell_type": "code",
      "source": [
        "a=-5\n",
        "print(a)"
      ],
      "metadata": {
        "colab": {
          "base_uri": "https://localhost:8080/"
        },
        "id": "PPDL6nyOrmfw",
        "outputId": "5dd5dde3-0e0c-49b5-8f0b-8696f3ecda4f"
      },
      "id": "PPDL6nyOrmfw",
      "execution_count": null,
      "outputs": [
        {
          "output_type": "stream",
          "name": "stdout",
          "text": [
            "-5\n"
          ]
        }
      ]
    },
    {
      "cell_type": "code",
      "source": [
        "b=+4\n",
        "print(b)"
      ],
      "metadata": {
        "colab": {
          "base_uri": "https://localhost:8080/"
        },
        "id": "wQdHfZMCrs9s",
        "outputId": "44aba1f2-2ed0-4216-d658-b7a570060515"
      },
      "id": "wQdHfZMCrs9s",
      "execution_count": null,
      "outputs": [
        {
          "output_type": "stream",
          "name": "stdout",
          "text": [
            "4\n"
          ]
        }
      ]
    },
    {
      "cell_type": "code",
      "source": [
        "a=-5\n",
        "a=a+5\n",
        "print(a)\n",
        "a+=5\n",
        "print(a)"
      ],
      "metadata": {
        "colab": {
          "base_uri": "https://localhost:8080/"
        },
        "id": "F0-VRz2LsJa7",
        "outputId": "71475327-60e8-4ef6-b941-67b36029d5f1"
      },
      "id": "F0-VRz2LsJa7",
      "execution_count": null,
      "outputs": [
        {
          "output_type": "stream",
          "name": "stdout",
          "text": [
            "0\n",
            "5\n"
          ]
        }
      ]
    },
    {
      "cell_type": "markdown",
      "source": [
        "**Numeric Built-in Functions**"
      ],
      "metadata": {
        "id": "yNsRbGQRtrJP"
      },
      "id": "yNsRbGQRtrJP"
    },
    {
      "cell_type": "markdown",
      "source": [
        " **abs(x)**\n",
        "Performs |a| .....\n",
        "returns absolute value , ignoring polarity......\n",
        "Equivalent : N/A"
      ],
      "metadata": {
        "id": "IDqTLtmB2pyz"
      },
      "id": "IDqTLtmB2pyz"
    },
    {
      "cell_type": "code",
      "source": [
        "a=-100.5\n",
        "b=abs(a)\n",
        "print(b)"
      ],
      "metadata": {
        "colab": {
          "base_uri": "https://localhost:8080/"
        },
        "id": "dlTG6zC1t7Iu",
        "outputId": "29927d63-cde1-404a-c051-30127acdcd0b"
      },
      "id": "dlTG6zC1t7Iu",
      "execution_count": null,
      "outputs": [
        {
          "output_type": "stream",
          "name": "stdout",
          "text": [
            "100.5\n"
          ]
        }
      ]
    },
    {
      "cell_type": "markdown",
      "source": [
        "**divmod(x,y)**\n",
        "Performs x/y ......\n",
        "returns a tuple (Quotient, Reminder).....\n",
        "Equivalent : (quotient = a/b , Reminder = a%b)"
      ],
      "metadata": {
        "id": "0IW3s5kSZeay"
      },
      "id": "0IW3s5kSZeay"
    },
    {
      "cell_type": "code",
      "source": [
        "x=divmod(5,4)\n",
        "print(x)"
      ],
      "metadata": {
        "id": "hO8rWvm0c2l-",
        "outputId": "03de9363-1cae-45ba-a2b4-eb397fb9716b",
        "colab": {
          "base_uri": "https://localhost:8080/"
        }
      },
      "id": "hO8rWvm0c2l-",
      "execution_count": null,
      "outputs": [
        {
          "output_type": "stream",
          "name": "stdout",
          "text": [
            "(1, 1)\n"
          ]
        }
      ]
    },
    {
      "cell_type": "markdown",
      "source": [
        "**pow(x,y)**\n",
        "Performs x**y ( x to the power of y) ......\n",
        "returns a integer .....\n",
        "Equivalent : N/A\n",
        "Exeptions : Negative power works\n",
        "\n",
        "**pow(x,y,z)**\n",
        "Performs (x**y)%z ( x to the power of y divided by z)  : More efficient option......\n",
        "returns a float .....\n",
        "Equivalent : \n",
        "Exeptions : Negative power does not work\n"
      ],
      "metadata": {
        "id": "eN7Tye75i0Kp"
      },
      "id": "eN7Tye75i0Kp"
    },
    {
      "cell_type": "code",
      "source": [
        "a=pow(2,5)\n",
        "print(a)\n",
        "a=pow(2,-5)\n",
        "print(a)\n",
        "a=pow(2,5,2)\n",
        "print(a)\n",
        "a=pow(2,5,-2)\n",
        "print(a)\n",
        "a=(-2,5,2)\n",
        "print(a)"
      ],
      "metadata": {
        "colab": {
          "base_uri": "https://localhost:8080/"
        },
        "id": "Wf5SOEMduqqw",
        "outputId": "33453408-81be-495e-96a4-26e4042c8167"
      },
      "id": "Wf5SOEMduqqw",
      "execution_count": null,
      "outputs": [
        {
          "output_type": "stream",
          "name": "stdout",
          "text": [
            "32\n",
            "0.03125\n",
            "0\n",
            "0\n",
            "(-2, 5, 2)\n"
          ]
        }
      ]
    },
    {
      "cell_type": "markdown",
      "source": [
        "**round(x,[y])**\n",
        "Rounds floating point number to 0 y digits......\n",
        "returns a floating point only .....\n",
        "Equivalent : N/A....\n",
        "Exeptions : N/A"
      ],
      "metadata": {
        "id": "UvFK5RyPTWPa"
      },
      "id": "UvFK5RyPTWPa"
    },
    {
      "cell_type": "code",
      "source": [
        "x=round(20.15690000009546)\n",
        "print(x)\n",
        "x=round(abs(20.58999999999),2)\n",
        "print(x)"
      ],
      "metadata": {
        "colab": {
          "base_uri": "https://localhost:8080/"
        },
        "id": "k6EQvw6kVWHj",
        "outputId": "d8af140f-131b-43ba-e175-a6dd4ff28ab3"
      },
      "id": "k6EQvw6kVWHj",
      "execution_count": null,
      "outputs": [
        {
          "output_type": "stream",
          "name": "stdout",
          "text": [
            "20\n",
            "20.59\n"
          ]
        }
      ]
    },
    {
      "cell_type": "markdown",
      "source": [
        "# **String Operator**\n",
        "Single Quote ('') & Double Quotes(\"\") both work. \n"
      ],
      "metadata": {
        "id": "o8mHWJmPV9Z8"
      },
      "id": "o8mHWJmPV9Z8"
    },
    {
      "cell_type": "code",
      "source": [
        "S=\"Maitreyee Sinha Chowdhury\" \n",
        "print(S)\n",
        "S='Maitreyee Sinha Chowdury'\n",
        "print(S)"
      ],
      "metadata": {
        "colab": {
          "base_uri": "https://localhost:8080/"
        },
        "id": "rRl7wLbaWhUI",
        "outputId": "df971745-9fb4-49e9-b00a-01a8d92a6f01"
      },
      "id": "rRl7wLbaWhUI",
      "execution_count": null,
      "outputs": [
        {
          "output_type": "stream",
          "name": "stdout",
          "text": [
            "Maitreyee Sinha Chowdhury\n",
            "Maitreyee Sinha Chowdury\n"
          ]
        }
      ]
    },
    {
      "cell_type": "markdown",
      "source": [
        "# **How to print Paragraph with Newline included**"
      ],
      "metadata": {
        "id": "BSckE8OKZsk5"
      },
      "id": "BSckE8OKZsk5"
    },
    {
      "cell_type": "code",
      "source": [
        "S='''Maitreyee Sinha Chowdhury\n",
        "Shukla Sinha Choudhury'''\n",
        "print(S)\n",
        "S='''Maitreyee Sinha Chowdhury Shukla Sinha Choudhury'''\n",
        "print(S)"
      ],
      "metadata": {
        "colab": {
          "base_uri": "https://localhost:8080/"
        },
        "id": "Hv6znvBeZyf6",
        "outputId": "711bc511-5961-4822-d8d1-8d7bce1b47ec"
      },
      "id": "Hv6znvBeZyf6",
      "execution_count": null,
      "outputs": [
        {
          "output_type": "stream",
          "name": "stdout",
          "text": [
            "Maitreyee Sinha Chowdhury\n",
            "Shukla Sinha Choudhury\n",
            "Maitreyee Sinha Chowdhury Shukla Sinha Choudhury\n"
          ]
        }
      ]
    },
    {
      "cell_type": "markdown",
      "source": [
        "# **string concatenation**"
      ],
      "metadata": {
        "id": "XC9AElkRxm90"
      },
      "id": "XC9AElkRxm90"
    },
    {
      "cell_type": "code",
      "source": [
        "a='Maitreyee'\n",
        "b='Sinha'\n",
        "c='Chowdhury'\n",
        "print(a + ' ' + b + ' ' +  c)"
      ],
      "metadata": {
        "colab": {
          "base_uri": "https://localhost:8080/"
        },
        "id": "wUSJ6aR1xufb",
        "outputId": "c5754753-9385-4814-ecd3-a41e9375a4e3"
      },
      "id": "wUSJ6aR1xufb",
      "execution_count": null,
      "outputs": [
        {
          "output_type": "stream",
          "name": "stdout",
          "text": [
            "Maitreyee Sinha Chowdhury\n"
          ]
        }
      ]
    },
    {
      "cell_type": "code",
      "source": [
        "print('Maitreyee'*5)"
      ],
      "metadata": {
        "colab": {
          "base_uri": "https://localhost:8080/"
        },
        "id": "_boG9Xt5yNQR",
        "outputId": "ae7cf276-cb8a-47e2-9e1c-90e9fa00dcdc"
      },
      "id": "_boG9Xt5yNQR",
      "execution_count": null,
      "outputs": [
        {
          "output_type": "stream",
          "name": "stdout",
          "text": [
            "MaitreyeeMaitreyeeMaitreyeeMaitreyeeMaitreyee\n"
          ]
        }
      ]
    },
    {
      "cell_type": "markdown",
      "source": [
        "# **Length of a string**"
      ],
      "metadata": {
        "id": "h2tn3jn4yqaA"
      },
      "id": "h2tn3jn4yqaA"
    },
    {
      "cell_type": "code",
      "source": [
        "P=len('Maitreyee Sinha Chowdhury')\n",
        "print(P)"
      ],
      "metadata": {
        "colab": {
          "base_uri": "https://localhost:8080/"
        },
        "id": "VUW8g-kVyaCi",
        "outputId": "f9e50131-7b5e-42c5-c95d-a7b542793f27"
      },
      "id": "VUW8g-kVyaCi",
      "execution_count": null,
      "outputs": [
        {
          "output_type": "stream",
          "name": "stdout",
          "text": [
            "25\n"
          ]
        }
      ]
    },
    {
      "cell_type": "markdown",
      "source": [
        "# **String as arrays**\n",
        "[0 to lenghth pf total string -1]\n",
        "\n",
        "**Slicing**  \n",
        "0th psition till end\n",
        "\n"
      ],
      "metadata": {
        "id": "eiYKDS5D4Rqn"
      },
      "id": "eiYKDS5D4Rqn"
    },
    {
      "cell_type": "code",
      "source": [
        "S=\"Maitreyee Sinha Chowdhury is an Data/AI/ML product architect\"\n",
        "#Print entire string\n",
        "print (S[0:])\n",
        "#Print 0 to 9th character\n",
        "print(S[0:10])\n",
        "#Another way to write entire string\n",
        "print(S[10:len(S)])\n",
        "print(len(S))\n",
        "#print lasr \n",
        "print(S[:-30])\n",
        "print(S[-30:])"
      ],
      "metadata": {
        "colab": {
          "base_uri": "https://localhost:8080/"
        },
        "id": "NR6oIN9H4VE9",
        "outputId": "9be270eb-4eea-4a33-959f-4a6e07de2efb"
      },
      "id": "NR6oIN9H4VE9",
      "execution_count": null,
      "outputs": [
        {
          "output_type": "stream",
          "name": "stdout",
          "text": [
            "Maitreyee Sinha Chowdhury is an Data/AI/ML product architect\n",
            "Maitreyee \n",
            "Sinha Chowdhury is an Data/AI/ML product architect\n",
            "60\n",
            "Maitreyee Sinha Chowdhury is a\n",
            "n Data/AI/ML product architect\n"
          ]
        }
      ]
    },
    {
      "cell_type": "markdown",
      "source": [
        "# **Formatting String**\n"
      ],
      "metadata": {
        "id": "9t2Y32QhYtoH"
      },
      "id": "9t2Y32QhYtoH"
    },
    {
      "cell_type": "code",
      "source": [
        "# Pulling values directly from a tuple into a string\n",
        "S='Her name is %s & ID is %d' % ('Maitreyee Sinha Chowdhury', 1)\n",
        "print(S)\n",
        "# Pulling values directly from a disctionary into a string\n",
        "Info = {'First': 'Maitreyee', 'Middle': 'Sinha', 'Last': 'Chowdhury', 'ID':1}\n",
        "S=\"Her name is %(First)s %(Middle)s %(Last)s and ID is %(ID)d\" % Info\n",
        "print(S)"
      ],
      "metadata": {
        "colab": {
          "base_uri": "https://localhost:8080/"
        },
        "id": "Wued7uhXazND",
        "outputId": "777f1af6-5b07-4a8a-831a-79416f396593"
      },
      "id": "Wued7uhXazND",
      "execution_count": null,
      "outputs": [
        {
          "output_type": "stream",
          "name": "stdout",
          "text": [
            "Her name is Maitreyee Sinha Chowdhury & ID is 1\n",
            "Her name is Maitreyee Sinha Chowdhury and ID is 1\n"
          ]
        }
      ]
    },
    {
      "cell_type": "markdown",
      "source": [
        "# **Lists**\n",
        "1. uses [] \\\n",
        "2. mutable \\\n",
        "3. can house different datatypes as element values \\\n",
        "4. starts with index 0 \\\n",
        "5. ends with index -1\n",
        "\n"
      ],
      "metadata": {
        "id": "S-m5fdnngmBR"
      },
      "id": "S-m5fdnngmBR"
    },
    {
      "cell_type": "code",
      "source": [
        "# list of Numbers\n",
        "L=[1, 2,3,4,5]\n",
        "print(L)\n",
        "# List of strings\n",
        "L=['Maitreyee', 'Sinha', 'Chowdhury']\n",
        "print(L)\n",
        "#List of strings & Numbers\n",
        "L=['Maitreyee','Sinha','Chowdhury', 1]\n",
        "print(L)\n",
        "#call elements by index\n",
        "print(L[:2])"
      ],
      "metadata": {
        "colab": {
          "base_uri": "https://localhost:8080/"
        },
        "id": "enc-bVT3gsIN",
        "outputId": "782ba1a6-9da6-499a-f1bd-3d28053cf9b6"
      },
      "id": "enc-bVT3gsIN",
      "execution_count": null,
      "outputs": [
        {
          "output_type": "stream",
          "name": "stdout",
          "text": [
            "[1, 2, 3, 4, 5]\n",
            "['Maitreyee', 'Sinha', 'Chowdhury']\n",
            "['Maitreyee', 'Sinha', 'Chowdhury', 1]\n",
            "['Maitreyee', 'Sinha']\n"
          ]
        }
      ]
    },
    {
      "cell_type": "markdown",
      "source": [
        "# **SETS : combination of Lists**"
      ],
      "metadata": {
        "id": "BS0uhz2YlyjY"
      },
      "id": "BS0uhz2YlyjY"
    },
    {
      "cell_type": "code",
      "source": [
        "L=[['Maitreyee','Sinha', 'Chowdhury']\n",
        "  ,[1234, 5678, 3456]]\n",
        "print(L) #print entire list\n",
        "print(L[0]) #print entire element from list\n",
        "print(L[0][1]) #print an element partially\n",
        "print(L[1][2]) # print an element partially & navigate thru index\n",
        "print(len(L)) #print length of the SET \n",
        "print(len(L[0])) #print lenghth of a list inside the SET."
      ],
      "metadata": {
        "colab": {
          "base_uri": "https://localhost:8080/"
        },
        "id": "38rMWa5ul2v6",
        "outputId": "02a7efc5-8eb1-4256-aea4-b6a5b2c40f64"
      },
      "id": "38rMWa5ul2v6",
      "execution_count": null,
      "outputs": [
        {
          "output_type": "stream",
          "name": "stdout",
          "text": [
            "[['Maitreyee', 'Sinha', 'Chowdhury'], [1234, 5678, 3456]]\n",
            "['Maitreyee', 'Sinha', 'Chowdhury']\n",
            "Sinha\n",
            "3456\n",
            "2\n",
            "3\n"
          ]
        }
      ]
    },
    {
      "cell_type": "markdown",
      "source": [
        "**Concatenating list & a SET**"
      ],
      "metadata": {
        "id": "1DVlikcVt0Nq"
      },
      "id": "1DVlikcVt0Nq"
    },
    {
      "cell_type": "code",
      "source": [
        "L=[['Maitreyee','Sinha', 'Chowdhury']\n",
        "  ,[1234, 5678, 3456]]\n",
        "L1 = ['Shukla', 'Sinha', 'Choudhury']\n",
        "print(L)\n",
        "print(L1)\n",
        "print(L[0] + L1) #concatenated 0th element from set L & entire list L1\n",
        "#S= L[0] += ['Shukla Sinha Choudhury']\n",
        "#print(S)"
      ],
      "metadata": {
        "colab": {
          "base_uri": "https://localhost:8080/"
        },
        "id": "bwv3JnK2uW3-",
        "outputId": "560d9856-5e45-4cb8-fd3e-99928a06f9fe"
      },
      "id": "bwv3JnK2uW3-",
      "execution_count": null,
      "outputs": [
        {
          "output_type": "stream",
          "name": "stdout",
          "text": [
            "[['Maitreyee', 'Sinha', 'Chowdhury'], [1234, 5678, 3456]]\n",
            "['Shukla', 'Sinha', 'Choudhury']\n",
            "['Maitreyee', 'Sinha', 'Chowdhury', 'Shukla', 'Sinha', 'Choudhury']\n"
          ]
        }
      ]
    },
    {
      "cell_type": "markdown",
      "source": [
        "**Repeating list elements N times**"
      ],
      "metadata": {
        "id": "4yM2PKCewqBK"
      },
      "id": "4yM2PKCewqBK"
    },
    {
      "cell_type": "code",
      "source": [
        "L=[1, 2, 3, 4, 100]\n",
        "L1=L*3  # repeating elements 3 times\n",
        "print(L1)"
      ],
      "metadata": {
        "colab": {
          "base_uri": "https://localhost:8080/"
        },
        "id": "DnnE9c_Q74VU",
        "outputId": "06e4a572-0123-43ec-a60f-48d21a7763f6"
      },
      "id": "DnnE9c_Q74VU",
      "execution_count": null,
      "outputs": [
        {
          "output_type": "stream",
          "name": "stdout",
          "text": [
            "[1, 2, 3, 4, 100, 1, 2, 3, 4, 100, 1, 2, 3, 4, 100]\n"
          ]
        }
      ]
    },
    {
      "cell_type": "markdown",
      "source": [
        "**Performing a single function on each element in the list : Map Functiom & Lambda Function**"
      ],
      "metadata": {
        "id": "XctkbawSo4cW"
      },
      "id": "XctkbawSo4cW"
    },
    {
      "cell_type": "code",
      "source": [
        "L1=[100, 200, 300, 400]\n",
        "print(L1)\n",
        "L2 = map(lambda x: x*5, L1) #multiply each element with 5\n",
        "print(L1)\n",
        "L3=[x*5 for x in L1] # equivalent to L2 mapping \n",
        "print(L3)"
      ],
      "metadata": {
        "colab": {
          "base_uri": "https://localhost:8080/"
        },
        "id": "0A07xxVxpROD",
        "outputId": "52107b1b-b35d-4040-a773-9aac43b3bde8"
      },
      "id": "0A07xxVxpROD",
      "execution_count": null,
      "outputs": [
        {
          "output_type": "stream",
          "name": "stdout",
          "text": [
            "[100, 200, 300, 400]\n",
            "[100, 200, 300, 400]\n",
            "[500, 1000, 1500, 2000]\n"
          ]
        }
      ]
    },
    {
      "cell_type": "markdown",
      "source": [
        "**Mutability of a list**"
      ],
      "metadata": {
        "id": "EGStyuz9aKLo"
      },
      "id": "EGStyuz9aKLo"
    },
    {
      "cell_type": "code",
      "source": [
        "S = ['Maitreyee', ' ', 'Chowdhury']\n",
        "S[1] = 'Sinha'#added element in the list\n",
        "print(S)\n",
        "del S[2]#Delete 3rd element(index = 2)\n",
        "print(S)"
      ],
      "metadata": {
        "colab": {
          "base_uri": "https://localhost:8080/"
        },
        "id": "b0sF21NCbIgw",
        "outputId": "fb124e5f-d4f6-4e23-9b54-950f147aa0f7"
      },
      "id": "b0sF21NCbIgw",
      "execution_count": null,
      "outputs": [
        {
          "output_type": "stream",
          "name": "stdout",
          "text": [
            "['Maitreyee', 'Sinha', 'Chowdhury']\n",
            "['Maitreyee', 'Sinha']\n"
          ]
        }
      ]
    },
    {
      "cell_type": "markdown",
      "source": [
        "# **Methods for list**"
      ],
      "metadata": {
        "id": "2PaP5O3xdpnb"
      },
      "id": "2PaP5O3xdpnb"
    },
    {
      "cell_type": "markdown",
      "source": [
        "**Sort()**"
      ],
      "metadata": {
        "id": "_cvlQyDJnOc7"
      },
      "id": "_cvlQyDJnOc7"
    },
    {
      "cell_type": "code",
      "source": [
        "L=[1,5,7,9,10,4,4,8.5]\n",
        "print (L.sort())\n",
        "L.sort()\n",
        "print(L)\n"
      ],
      "metadata": {
        "colab": {
          "base_uri": "https://localhost:8080/"
        },
        "id": "05qnYU5Vdu08",
        "outputId": "3c0c68b1-e31a-4d9b-98c3-1f669a02c1c0"
      },
      "id": "05qnYU5Vdu08",
      "execution_count": null,
      "outputs": [
        {
          "output_type": "stream",
          "name": "stdout",
          "text": [
            "None\n",
            "[1, 4, 4, 5, 7, 8.5, 9, 10]\n"
          ]
        }
      ]
    },
    {
      "cell_type": "markdown",
      "source": [
        "**append() & extend()**"
      ],
      "metadata": {
        "id": "xcCUTqxnnSBp"
      },
      "id": "xcCUTqxnnSBp"
    },
    {
      "cell_type": "code",
      "source": [
        "L=['Maitreyee', 'Sinha', 'Chowdhury']\n",
        "print(L)\n",
        "L.append(('Shukla','Sinha', 'Choudhury'))# append() helps you add any single object atthe end\n",
        "print(L)\n",
        "L.extend((1,2,3))# extend() helps with adding multiple objects\n",
        "print(L)"
      ],
      "metadata": {
        "colab": {
          "base_uri": "https://localhost:8080/"
        },
        "id": "bMXoZCpZqBVF",
        "outputId": "9c06e321-36d5-41e4-8169-79cc572c5c65"
      },
      "id": "bMXoZCpZqBVF",
      "execution_count": null,
      "outputs": [
        {
          "output_type": "stream",
          "name": "stdout",
          "text": [
            "['Maitreyee', 'Sinha', 'Chowdhury']\n",
            "['Maitreyee', 'Sinha', 'Chowdhury', ('Shukla', 'Sinha', 'Choudhury')]\n",
            "['Maitreyee', 'Sinha', 'Chowdhury', ('Shukla', 'Sinha', 'Choudhury'), 1, 2, 3]\n"
          ]
        }
      ]
    },
    {
      "cell_type": "markdown",
      "source": [
        "**index()**"
      ],
      "metadata": {
        "id": "J_S8Zr7ixR5M"
      },
      "id": "J_S8Zr7ixR5M"
    },
    {
      "cell_type": "code",
      "source": [
        "L=['Maitreyee','Sinha','Chowdhury']\n",
        "print(L)\n",
        "L.index('Maitreyee') # Find the index for an object value/ element that you already know."
      ],
      "metadata": {
        "colab": {
          "base_uri": "https://localhost:8080/"
        },
        "id": "zHLZaJad1qyM",
        "outputId": "5e90835a-79d3-4378-e8d9-73c91119b862"
      },
      "id": "zHLZaJad1qyM",
      "execution_count": null,
      "outputs": [
        {
          "output_type": "stream",
          "name": "stdout",
          "text": [
            "['Maitreyee', 'Sinha', 'Chowdhury']\n"
          ]
        },
        {
          "output_type": "execute_result",
          "data": {
            "text/plain": [
              "0"
            ]
          },
          "metadata": {},
          "execution_count": 25
        }
      ]
    },
    {
      "cell_type": "markdown",
      "source": [
        "**insert()**"
      ],
      "metadata": {
        "id": "-XFRSNre3Erx"
      },
      "id": "-XFRSNre3Erx"
    },
    {
      "cell_type": "code",
      "source": [
        "L=['Maitreyee','Sinha','Chowdhury']\n",
        "L.insert(3, 'Eric Scott') # inserts at the end\n",
        "print(L)\n",
        "L.insert(0, 'Eric Scott') # inserts at exact specified position\n",
        "print(L)"
      ],
      "metadata": {
        "colab": {
          "base_uri": "https://localhost:8080/"
        },
        "id": "y7kcpxLc3Mj6",
        "outputId": "17252774-484f-47ca-b00c-799e398c03e9"
      },
      "id": "y7kcpxLc3Mj6",
      "execution_count": null,
      "outputs": [
        {
          "output_type": "stream",
          "name": "stdout",
          "text": [
            "['Maitreyee', 'Sinha', 'Chowdhury', 'Eric Scott']\n",
            "['Eric Scott', 'Maitreyee', 'Sinha', 'Chowdhury', 'Eric Scott']\n"
          ]
        }
      ]
    },
    {
      "cell_type": "markdown",
      "source": [
        "**count()**"
      ],
      "metadata": {
        "id": "iR-DuTR8NjT7"
      },
      "id": "iR-DuTR8NjT7"
    },
    {
      "cell_type": "code",
      "source": [
        "L=[1,2,3,3,8,9.100]\n",
        "C=L.count(3)\n",
        "print(C)"
      ],
      "metadata": {
        "id": "sdgmhUyVNlo1",
        "colab": {
          "base_uri": "https://localhost:8080/"
        },
        "outputId": "5b544ef4-6074-434b-90bc-8d9228f17a0d"
      },
      "id": "sdgmhUyVNlo1",
      "execution_count": 5,
      "outputs": [
        {
          "output_type": "stream",
          "name": "stdout",
          "text": [
            "2\n"
          ]
        }
      ]
    },
    {
      "cell_type": "markdown",
      "source": [
        "# **pop()**"
      ],
      "metadata": {
        "id": "65s0psVqC_6n"
      },
      "id": "65s0psVqC_6n"
    },
    {
      "cell_type": "code",
      "source": [
        "L=[1,2,3,4,5,6]\n",
        "P=L.pop()\n",
        "print(P)\n",
        "P=L.pop(3)\n",
        "print(P)\n",
        "P=L.pop(len(L)-L[0])\n",
        "print(P)"
      ],
      "metadata": {
        "colab": {
          "base_uri": "https://localhost:8080/"
        },
        "id": "d-BBbGarDFI-",
        "outputId": "fba051a7-0763-49f8-d4db-09c31a7a1e21"
      },
      "id": "d-BBbGarDFI-",
      "execution_count": 11,
      "outputs": [
        {
          "output_type": "stream",
          "name": "stdout",
          "text": [
            "6\n",
            "4\n",
            "5\n"
          ]
        }
      ]
    },
    {
      "cell_type": "markdown",
      "source": [
        "# **Remove()**"
      ],
      "metadata": {
        "id": "wwv8yFcLE_Qk"
      },
      "id": "wwv8yFcLE_Qk"
    },
    {
      "cell_type": "code",
      "source": [
        "L=[1,2,3,4,5,100]\n",
        "P=L.remove(100)\n",
        "print(P)\n",
        "print(L)"
      ],
      "metadata": {
        "colab": {
          "base_uri": "https://localhost:8080/"
        },
        "id": "LlBOoguBFisP",
        "outputId": "f49e4d4f-f629-46dd-94a1-37e45b46d8bf"
      },
      "id": "LlBOoguBFisP",
      "execution_count": 13,
      "outputs": [
        {
          "output_type": "stream",
          "name": "stdout",
          "text": [
            "None\n",
            "[1, 2, 3, 4, 5]\n"
          ]
        }
      ]
    },
    {
      "cell_type": "markdown",
      "source": [
        "# **Reverse()**"
      ],
      "metadata": {
        "id": "9Qg4EJIgF33K"
      },
      "id": "9Qg4EJIgF33K"
    },
    {
      "cell_type": "code",
      "source": [
        "L=[1,2,3,4,5,6]\n",
        "P=L.reverse()\n",
        "print(P)\n",
        "print(L)"
      ],
      "metadata": {
        "colab": {
          "base_uri": "https://localhost:8080/"
        },
        "id": "eXbMbNMvF6-l",
        "outputId": "fc94b83b-9153-4cc0-9d9a-2050e151233a"
      },
      "id": "eXbMbNMvF6-l",
      "execution_count": 15,
      "outputs": [
        {
          "output_type": "stream",
          "name": "stdout",
          "text": [
            "None\n",
            "[6, 5, 4, 3, 2, 1]\n"
          ]
        }
      ]
    },
    {
      "cell_type": "markdown",
      "source": [
        "# **Sort()**"
      ],
      "metadata": {
        "id": "j_buyjm1HNPH"
      },
      "id": "j_buyjm1HNPH"
    },
    {
      "cell_type": "code",
      "source": [
        "L=[6,2,9,4,8,6.7]\n",
        "P=L.sort()\n",
        "print(P)\n",
        "print(L)"
      ],
      "metadata": {
        "id": "82aJAlVYHXh_",
        "outputId": "72e67770-71e0-4779-c2a6-f5a72962831b",
        "colab": {
          "base_uri": "https://localhost:8080/"
        }
      },
      "id": "82aJAlVYHXh_",
      "execution_count": 17,
      "outputs": [
        {
          "output_type": "stream",
          "name": "stdout",
          "text": [
            "None\n",
            "[2, 4, 6, 6.7, 8, 9]\n"
          ]
        }
      ]
    }
  ],
  "metadata": {
    "kernelspec": {
      "display_name": "Python 3",
      "language": "python",
      "name": "python3"
    },
    "language_info": {
      "codemirror_mode": {
        "name": "ipython",
        "version": 3
      },
      "file_extension": ".py",
      "mimetype": "text/x-python",
      "name": "python",
      "nbconvert_exporter": "python",
      "pygments_lexer": "ipython3",
      "version": "3.8.8"
    },
    "colab": {
      "name": "Python_Fundamental_components.ipynb",
      "provenance": [],
      "toc_visible": true,
      "collapsed_sections": [],
      "include_colab_link": true
    }
  },
  "nbformat": 4,
  "nbformat_minor": 5
}