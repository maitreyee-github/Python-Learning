{
  "cells": [
    {
      "cell_type": "markdown",
      "metadata": {
        "id": "view-in-github",
        "colab_type": "text"
      },
      "source": [
        "<a href=\"https://colab.research.google.com/github/maitreyee-github/Python-Learning/blob/main/ch01/Python_Fundamental_components.ipynb\" target=\"_parent\"><img src=\"https://colab.research.google.com/assets/colab-badge.svg\" alt=\"Open In Colab\"/></a>"
      ]
    },
    {
      "cell_type": "markdown",
      "id": "26df0668",
      "metadata": {
        "id": "26df0668"
      },
      "source": [
        "# Ch01  : Fundamental components of Python"
      ]
    },
    {
      "cell_type": "markdown",
      "id": "b814a0e6",
      "metadata": {
        "id": "b814a0e6"
      },
      "source": [
        "Let's understand basic Python objects first  :\n",
        "\n",
        "\n",
        "Number,\n",
        "string,\n",
        "List,\n",
        "Dictionary,\n",
        "Tuple,\n",
        "File\n",
        "\n",
        "\n",
        "\n",
        "\n",
        "\n",
        "\n",
        "\n",
        "\n"
      ]
    },
    {
      "cell_type": "code",
      "execution_count": null,
      "id": "3ed8233a",
      "metadata": {
        "id": "3ed8233a"
      },
      "outputs": [],
      "source": [
        "integer = 5555\n",
        "float = 0.55\n",
        "string = \"Maitreyee Sinha Chowdhury\"\n",
        "list = [1,'TWO', 3]\n",
        "dictionary = {'Name':'Maitreyee','ID':1111, 'SEX':'F'}\n",
        "tuple=(1,'Two', 3)"
      ]
    },
    {
      "cell_type": "code",
      "source": [
        "print(integer)\n",
        "print(float)\n",
        "print(string)\n",
        "print(list)\n",
        "print(dictionary)\n",
        "print(tuple)"
      ],
      "metadata": {
        "colab": {
          "base_uri": "https://localhost:8080/"
        },
        "id": "VEh-9Jux9C1F",
        "outputId": "f94ac84c-b875-428b-be8c-e0ff717e79da"
      },
      "id": "VEh-9Jux9C1F",
      "execution_count": null,
      "outputs": [
        {
          "output_type": "stream",
          "name": "stdout",
          "text": [
            "5555\n",
            "0.55\n",
            "Maitreyee Sinha Chowdhury\n",
            "[1, 'TWO', 3]\n",
            "{'Name': 'Maitreyee', 'ID': 1111, 'SEX': 'F'}\n",
            "(1, 'Two', 3)\n"
          ]
        }
      ]
    },
    {
      "cell_type": "markdown",
      "source": [
        "Operators   : \n",
        "\n",
        "\n",
        "1.   Numeric Operators\n",
        "2.   Logical Operators\n",
        "\n"
      ],
      "metadata": {
        "id": "ZVeMEkLulOB6"
      },
      "id": "ZVeMEkLulOB6"
    },
    {
      "cell_type": "markdown",
      "source": [
        "**Numeric Operator**"
      ],
      "metadata": {
        "id": "t1qEVA9elfhG"
      },
      "id": "t1qEVA9elfhG"
    },
    {
      "cell_type": "code",
      "source": [
        "x = 3 + 4\n",
        "print(x)"
      ],
      "metadata": {
        "colab": {
          "base_uri": "https://localhost:8080/"
        },
        "id": "sj0NRmSElmB1",
        "outputId": "bdc3f8d8-c271-42cc-fe66-17a5d78ce09c"
      },
      "id": "sj0NRmSElmB1",
      "execution_count": 2,
      "outputs": [
        {
          "output_type": "stream",
          "name": "stdout",
          "text": [
            "7\n"
          ]
        }
      ]
    },
    {
      "cell_type": "code",
      "source": [
        "y=4-3\n",
        "print(y)"
      ],
      "metadata": {
        "colab": {
          "base_uri": "https://localhost:8080/"
        },
        "id": "oLky2-E9ly7b",
        "outputId": "634a19a5-f299-4e25-f19c-12fa22dbe72a"
      },
      "id": "oLky2-E9ly7b",
      "execution_count": 3,
      "outputs": [
        {
          "output_type": "stream",
          "name": "stdout",
          "text": [
            "1\n"
          ]
        }
      ]
    },
    {
      "cell_type": "code",
      "source": [
        "a=4*5\n",
        "print(a)"
      ],
      "metadata": {
        "colab": {
          "base_uri": "https://localhost:8080/"
        },
        "id": "SUPtdVpFq5q4",
        "outputId": "6e6f5a3f-8d07-4c3f-e214-d28d9ee94a6c"
      },
      "id": "SUPtdVpFq5q4",
      "execution_count": 4,
      "outputs": [
        {
          "output_type": "stream",
          "name": "stdout",
          "text": [
            "20\n"
          ]
        }
      ]
    },
    {
      "cell_type": "code",
      "source": [
        "b=100/4\n",
        "print(b)"
      ],
      "metadata": {
        "colab": {
          "base_uri": "https://localhost:8080/"
        },
        "id": "rt2r10bprBiC",
        "outputId": "13312006-4f5f-4c18-cfad-1eed7316a0b8"
      },
      "id": "rt2r10bprBiC",
      "execution_count": 5,
      "outputs": [
        {
          "output_type": "stream",
          "name": "stdout",
          "text": [
            "25.0\n"
          ]
        }
      ]
    },
    {
      "cell_type": "code",
      "source": [
        "p=2**5\n",
        "print(p)"
      ],
      "metadata": {
        "colab": {
          "base_uri": "https://localhost:8080/"
        },
        "id": "2zxg-7corIM3",
        "outputId": "5b058448-2c32-48d9-8404-bc1e713bbe5a"
      },
      "id": "2zxg-7corIM3",
      "execution_count": 7,
      "outputs": [
        {
          "output_type": "stream",
          "name": "stdout",
          "text": [
            "32\n"
          ]
        }
      ]
    },
    {
      "cell_type": "code",
      "source": [
        "q=5%2\n",
        "print(q)"
      ],
      "metadata": {
        "colab": {
          "base_uri": "https://localhost:8080/"
        },
        "id": "8ADniIbxrbel",
        "outputId": "32d1dead-4254-4957-de37-470e15458e29"
      },
      "id": "8ADniIbxrbel",
      "execution_count": 8,
      "outputs": [
        {
          "output_type": "stream",
          "name": "stdout",
          "text": [
            "1\n"
          ]
        }
      ]
    },
    {
      "cell_type": "code",
      "source": [
        "a=-5\n",
        "print(a)"
      ],
      "metadata": {
        "colab": {
          "base_uri": "https://localhost:8080/"
        },
        "id": "PPDL6nyOrmfw",
        "outputId": "5dd5dde3-0e0c-49b5-8f0b-8696f3ecda4f"
      },
      "id": "PPDL6nyOrmfw",
      "execution_count": 9,
      "outputs": [
        {
          "output_type": "stream",
          "name": "stdout",
          "text": [
            "-5\n"
          ]
        }
      ]
    },
    {
      "cell_type": "code",
      "source": [
        "b=+4\n",
        "print(b)"
      ],
      "metadata": {
        "colab": {
          "base_uri": "https://localhost:8080/"
        },
        "id": "wQdHfZMCrs9s",
        "outputId": "44aba1f2-2ed0-4216-d658-b7a570060515"
      },
      "id": "wQdHfZMCrs9s",
      "execution_count": 10,
      "outputs": [
        {
          "output_type": "stream",
          "name": "stdout",
          "text": [
            "4\n"
          ]
        }
      ]
    },
    {
      "cell_type": "code",
      "source": [
        "a=-5\n",
        "a=a+5\n",
        "print(a)\n",
        "a+=5\n",
        "print(a)"
      ],
      "metadata": {
        "colab": {
          "base_uri": "https://localhost:8080/"
        },
        "id": "F0-VRz2LsJa7",
        "outputId": "71475327-60e8-4ef6-b941-67b36029d5f1"
      },
      "id": "F0-VRz2LsJa7",
      "execution_count": 12,
      "outputs": [
        {
          "output_type": "stream",
          "name": "stdout",
          "text": [
            "0\n",
            "5\n"
          ]
        }
      ]
    }
  ],
  "metadata": {
    "kernelspec": {
      "display_name": "Python 3",
      "language": "python",
      "name": "python3"
    },
    "language_info": {
      "codemirror_mode": {
        "name": "ipython",
        "version": 3
      },
      "file_extension": ".py",
      "mimetype": "text/x-python",
      "name": "python",
      "nbconvert_exporter": "python",
      "pygments_lexer": "ipython3",
      "version": "3.8.8"
    },
    "colab": {
      "name": "Python_Fundamental_components.ipynb",
      "provenance": [],
      "toc_visible": true,
      "collapsed_sections": [],
      "include_colab_link": true
    }
  },
  "nbformat": 4,
  "nbformat_minor": 5
}