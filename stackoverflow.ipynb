{
  "nbformat": 4,
  "nbformat_minor": 0,
  "metadata": {
    "colab": {
      "name": "stackoverflow.ipynb",
      "provenance": [],
      "authorship_tag": "ABX9TyODkv/PKxXvSXvtkPavU1qw",
      "include_colab_link": true
    },
    "kernelspec": {
      "name": "python3",
      "display_name": "Python 3"
    },
    "language_info": {
      "name": "python"
    }
  },
  "cells": [
    {
      "cell_type": "markdown",
      "metadata": {
        "id": "view-in-github",
        "colab_type": "text"
      },
      "source": [
        "<a href=\"https://colab.research.google.com/github/maitreyee-github/Python-Learning/blob/main/stackoverflow.ipynb\" target=\"_parent\"><img src=\"https://colab.research.google.com/assets/colab-badge.svg\" alt=\"Open In Colab\"/></a>"
      ]
    },
    {
      "cell_type": "markdown",
      "source": [
        "**case1:**"
      ],
      "metadata": {
        "id": "c26T5VSX19fz"
      }
    },
    {
      "cell_type": "code",
      "source": [
        "import pandas as pd\n",
        "import numpy as np\n",
        "dfx= pd.DataFrame({\"x\": np.array([4,5,6], dtype=\"int32\")})\n",
        "dfx.iloc[:, dfx.columns.get.loc(\"x\")] = 0\n",
        "dfx[\"x\"].dtype\n"
      ],
      "metadata": {
        "id": "CbWHOQ-q2APJ"
      },
      "execution_count": null,
      "outputs": []
    }
  ]
}