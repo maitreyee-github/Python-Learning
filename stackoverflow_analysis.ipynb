{
  "nbformat": 4,
  "nbformat_minor": 0,
  "metadata": {
    "colab": {
      "name": "stackoverflow_analysis.ipynb",
      "provenance": [],
      "authorship_tag": "ABX9TyMSfqPhc49rtRSx6kbO1mC4",
      "include_colab_link": true
    },
    "kernelspec": {
      "name": "python3",
      "display_name": "Python 3"
    },
    "language_info": {
      "name": "python"
    }
  },
  "cells": [
    {
      "cell_type": "markdown",
      "metadata": {
        "id": "view-in-github",
        "colab_type": "text"
      },
      "source": [
        "<a href=\"https://colab.research.google.com/github/maitreyee-github/Python-Learning/blob/main/stackoverflow_analysis.ipynb\" target=\"_parent\"><img src=\"https://colab.research.google.com/assets/colab-badge.svg\" alt=\"Open In Colab\"/></a>"
      ]
    },
    {
      "cell_type": "markdown",
      "source": [
        "# **case1:** \n",
        "Why I see datatype from expected int32 to int64  changed between 2 pandas dataframes : dfx & dfy ( first one is changed & second one is intact"
      ],
      "metadata": {
        "id": "c26T5VSX19fz"
      }
    },
    {
      "cell_type": "code",
      "source": [
        "from pandas._libs import index\n",
        "import pandas as pd\n",
        "import numpy as np\n",
        "dfx= pd.DataFrame({\"x\": np.array([4,5,6], dtype=\"int32\")})\n",
        "P=dfx.iloc[:, dfx.columns.get_loc(\"x\")] = 0\n",
        "P1=dfx.iloc[:, dfx.columns.get_loc(\"x\")]\n",
        "print(P1)\n",
        "print(P)\n",
        "print(dfx[\"x\"].dtype)\n",
        "\n",
        "dfy= pd.DataFrame({\"y\": np.array([4,5,6], dtype=\"int32\")})\n",
        "Q=dfy.iloc[0:len(dfy.index), dfy.columns.get_loc(\"y\")] = 0\n",
        "print(Q)\n",
        "Q1=dfy.iloc[0:len(dfy.index), dfy.columns.get_loc(\"y\")]\n",
        "print(Q1)\n",
        "print(dfy[\"y\"].dtype)\n",
        "print(len(dfx.index))\n",
        "print(len(dfy.index))\n",
        "\n"
      ],
      "metadata": {
        "colab": {
          "base_uri": "https://localhost:8080/"
        },
        "id": "CbWHOQ-q2APJ",
        "outputId": "734a0fb1-366d-4c01-e7c1-3e7436f06977"
      },
      "execution_count": 13,
      "outputs": [
        {
          "output_type": "stream",
          "name": "stdout",
          "text": [
            "0    0\n",
            "1    0\n",
            "2    0\n",
            "Name: x, dtype: int64\n",
            "0\n",
            "int64\n",
            "0\n",
            "0    0\n",
            "1    0\n",
            "2    0\n",
            "Name: y, dtype: int32\n",
            "int32\n",
            "3\n",
            "3\n"
          ]
        }
      ]
    },
    {
      "cell_type": "markdown",
      "source": [
        "# Case 2"
      ],
      "metadata": {
        "id": "9Sj9K2rjQDDu"
      }
    },
    {
      "cell_type": "code",
      "source": [
        "def main(formatted_results_ecs, formatted_list):\n",
        "ecs_deduction = 0\n",
        "for ecs_cost in formatted_results_ecs:\n",
        "    for cost_est in formatted_list:\n",
        "        if ecs_cost[\"id\"] == cost_est[\"id\"] and ecs_cost[\"environment\"] == cost_est[\"environment\"]:\n",
        "            combined_cost = ecs_cost[\"cost\"] + cost_est[\"cost\"]\n",
        "            cost_est[\"cost\"] = combined_cost\n",
        "            ecs_deduction += combined_cost\n",
        "\n",
        "\n",
        "\n",
        "if __name__ == '__main__':\n",
        "    formatted_results_ecs = [\n",
        "        {'id': 'ffd07d03-e10b-4d60-8e28-e4ab617bf394', 'cost': 3.2980019999999994, 'environment': 'prod'},\n",
        "        {'id': 'ffc87314-16e4-4c77-b5ec-f34066458ce4', 'cost': 215.82577600000002, 'environment': 'prod'},\n",
        "        {'id': 'ff66d353-6644-4c61-9c22-204960d65a18', 'cost': 291.61807799999997, 'environment': 'prod'},\n",
        "        {'id': 'a855d85f-65e4-40bb-a21f-6ceea77628cc', 'cost': 19.041902000000004, 'environment': 'prod'},\n",
        "        {'id': 'aa385029-afa6-4f1a-a1d9-d88b7d934699', 'cost': 2.033628000000001, 'environment': 'prod'},\n",
        "        {'id': 'adf44794-50eb-45db-9323-6ce5fd31699e', 'cost': 1120.8391390000004, 'environment': 'prod'},\n",
        "        {'id': 'b13a0676-6926-49db-808c-3c968a9278eb', 'cost': 15145.140081999996, 'environment': 'prod'},\n",
        "        {'id': 'e4c3c7b9-5941-4cf7-aa90-f63a142ccaf4', 'cost': 3319.4728399999995, 'environment': 'prod'},\n",
        "        {'id': 'ff66d353-6644-4c61-9c22-204960d65a18', 'cost': 6.0234558329471, 'environment': 'nonprod'},\n",
        "        {'id': 'ff66d353-6644-4c61-9c22-204960d65a18', 'cost': 7.9407999472248, 'environment': 'prod'},\n",
        "        {'id': '2d1e7f15-d3bb-4649-996e-a7afb55b7637', 'cost': 5.940205, 'environment': 'prod'},\n",
        "        {'id': '6841509d-1d68-4af3-b04e-8bc7e87d0c89', 'cost': 651.016164, 'environment': 'prod'},\n",
        "        {'id': 'ffd07d03-e10b-4d60-8e28-e4ab617bf394', 'cost': 3.287444999999999, 'environment': 'nonprod'},\n",
        "        {'id': 'ffc87314-16e4-4c77-b5ec-f34066458ce4', 'cost': 214.46528800000002, 'environment': 'nonprod'},\n",
        "        {'id': 'ff66d353-6644-4c61-9c22-204960d65a18', 'cost': 291.55481199999997, 'environment': 'nonprod'},\n",
        "        {'id': 'aa385029-afa6-4f1a-a1d9-d88b7d934699', 'cost': 2.0193450000000013, 'environment': 'nonprod'},\n",
        "    ]\n",
        "    formatted_list = [\n",
        "        {'id': 'ffd07d03-e10b-4d60-8e28-e4ab617bf394', 'cost': 13.431203414269257, 'environment': 'nonprod'},\n",
        "        {'id': 'ffc87314-16e4-4c77-b5ec-f34066458ce4', 'cost': 3.1723085934801296, 'environment': 'nonprod'},\n",
        "        {'id': 'ff66d353-6644-4c61-9c22-204960d65a18', 'cost': 602.0234558329471, 'environment': 'nonprod'},\n",
        "        {'id': 'ff66d353-6644-4c61-9c22-204960d65a18', 'cost': 607.9407999472248, 'environment': 'prod'},\n",
        "        {'id': 'ff4f589f-2616-4f5e-9fb0-09e7ab3d200c', 'cost': 0.187242731922548, 'environment': 'prod'},\n",
        "        {'id': 'ff2041fb-711f-4bca-a336-5c6ac07fb8f3', 'cost': 1.179409983e-06, 'environment': 'nonprod'},\n",
        "        {'id': 'ff2041fb-711f-4bca-a336-5c6ac07fb8f3', 'cost': 1.179409983e-06, 'environment': 'prod'},\n",
        "        {'id': 'fba58f4f-303c-4a20-86d3-294714c8db5c', 'cost': 14.494946621907866, 'environment': 'nonprod'},\n",
        "        {'id': 'f8780ef9-0211-486b-ac2d-1b85d6bcb9da', 'cost': 19.592325435434688, 'environment': 'nonprod'},\n",
        "        {'id': 'f8780ef9-0211-486b-ac2d-1b85d6bcb9da', 'cost': 19.288246392238705, 'environment': 'prod'},\n",
        "        {'id': 'f7f16766-1212-4747-9c98-7a37d125e850', 'cost': 0.8798593169569822, 'environment': 'nonprod'},\n",
        "        {'id': 'f7d59e13-cba1-4a13-af57-8c4aec3ee281', 'cost': 30.22516723291206, 'environment': 'prod'},\n",
        "        {'id': 'f7d59e13-cba1-4a13-af57-8c4aec3ee281', 'cost': 29.88632221088805, 'environment': 'nonprod'},\n",
        "        {'id': 'f742f6ea-01dc-4add-a283-6afa6656a87b', 'cost': 18.657917564221908, 'environment': 'prod'}\n",
        "    ]\n",
        "    main(formatted_list, formatted_results_ecs)\n",
        "a good example id is ff66d353-6644-4c61-9c22-204960d65a18. This id shows up 4 times in the formatted_result_ecs list and im trying to add cost by env to my foratted_list. Any breakdown or explanation of how this solution should work would be greatly appreciated"
      ],
      "metadata": {
        "id": "4GQKP_FQQDkp"
      },
      "execution_count": null,
      "outputs": []
    }
  ]
}