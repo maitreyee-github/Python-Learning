{
  "cells": [
    {
      "cell_type": "markdown",
      "metadata": {
        "id": "view-in-github",
        "colab_type": "text"
      },
      "source": [
        "<a href=\"https://colab.research.google.com/github/maitreyee-github/Python-Learning/blob/main/Python_Fundamenra_components.ipynb\" target=\"_parent\"><img src=\"https://colab.research.google.com/assets/colab-badge.svg\" alt=\"Open In Colab\"/></a>"
      ]
    },
    {
      "cell_type": "markdown",
      "id": "26df0668",
      "metadata": {
        "id": "26df0668"
      },
      "source": [
        "# Ch01  : Fundamental components of Python"
      ]
    },
    {
      "cell_type": "markdown",
      "id": "b814a0e6",
      "metadata": {
        "id": "b814a0e6"
      },
      "source": [
        "Let's understand basic Python objects first  :\n",
        "\n",
        "\n",
        "Number,\n",
        "string,\n",
        "List,\n",
        "Dictionary,\n",
        "Tuple,\n",
        "File\n",
        "\n",
        "\n",
        "\n",
        "\n",
        "\n",
        "\n",
        "\n",
        "\n"
      ]
    },
    {
      "cell_type": "code",
      "execution_count": 2,
      "id": "3ed8233a",
      "metadata": {
        "id": "3ed8233a"
      },
      "outputs": [],
      "source": [
        "integer = 12345\n",
        "float = 123.45\n",
        "string = \"Hello\"\n",
        "list = [1,'TWO', 3]\n",
        "dictionary = {'One':1,'Two':2, 'Threee':3}\n",
        "tuple=(1,'Two', 3)"
      ]
    },
    {
      "cell_type": "code",
      "source": [
        "print(integer)\n",
        "print(float)\n",
        "print(string)\n",
        "print(list)\n",
        "print(dictionary)\n",
        "print(tuple)"
      ],
      "metadata": {
        "colab": {
          "base_uri": "https://localhost:8080/"
        },
        "id": "VEh-9Jux9C1F",
        "outputId": "301170e6-539d-478d-bf84-69e96871003d"
      },
      "id": "VEh-9Jux9C1F",
      "execution_count": 5,
      "outputs": [
        {
          "output_type": "stream",
          "name": "stdout",
          "text": [
            "12345\n",
            "123.45\n",
            "Hello\n",
            "[1, 'TWO', 3]\n",
            "{'One': 1, 'Two': 2, 'Threee': 3}\n",
            "(1, 'Two', 3)\n"
          ]
        }
      ]
    }
  ],
  "metadata": {
    "kernelspec": {
      "display_name": "Python 3",
      "language": "python",
      "name": "python3"
    },
    "language_info": {
      "codemirror_mode": {
        "name": "ipython",
        "version": 3
      },
      "file_extension": ".py",
      "mimetype": "text/x-python",
      "name": "python",
      "nbconvert_exporter": "python",
      "pygments_lexer": "ipython3",
      "version": "3.8.8"
    },
    "colab": {
      "name": "Python_Fundamenra_components.ipynb",
      "provenance": [],
      "include_colab_link": true
    }
  },
  "nbformat": 4,
  "nbformat_minor": 5
}